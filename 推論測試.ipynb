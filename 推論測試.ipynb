{
  "nbformat": 4,
  "nbformat_minor": 0,
  "metadata": {
    "colab": {
      "provenance": [],
      "mount_file_id": "https://github.com/skywalker0803r/base_ball_detect_lab/blob/main/%E6%8E%A8%E8%AB%96%E6%B8%AC%E8%A9%A6.ipynb",
      "authorship_tag": "ABX9TyPnZ28dnsW8SSs3Jbgw1flc",
      "include_colab_link": true
    },
    "kernelspec": {
      "name": "python3",
      "display_name": "Python 3"
    },
    "language_info": {
      "name": "python"
    }
  },
  "cells": [
    {
      "cell_type": "markdown",
      "metadata": {
        "id": "view-in-github",
        "colab_type": "text"
      },
      "source": [
        "<a href=\"https://colab.research.google.com/github/skywalker0803r/base_ball_detect_lab/blob/main/%E6%8E%A8%E8%AB%96%E6%B8%AC%E8%A9%A6.ipynb\" target=\"_parent\"><img src=\"https://colab.research.google.com/assets/colab-badge.svg\" alt=\"Open In Colab\"/></a>"
      ]
    },
    {
      "cell_type": "code",
      "execution_count": 15,
      "metadata": {
        "id": "GEbuHGwbJXRU"
      },
      "outputs": [],
      "source": [
        "import joblib\n",
        "import os\n",
        "import pickle\n",
        "from sklearn.pipeline import Pipeline\n",
        "import numpy as np\n",
        "\n",
        "# 必要函數\n",
        "def pad_sequence(seq, max_len):\n",
        "    pad_len = max_len - len(seq)\n",
        "    return seq + [[0,0,0,0]] * pad_len\n",
        "\n",
        "def traj_vec_filter(traj_vec, aspect_ratio_threshold=0.33):\n",
        "    \"\"\"\n",
        "    過濾不合理的軌跡框（非棒球的偵測框）。\n",
        "    參數:\n",
        "        traj_vec: List of [x1, y1, x2, y2]\n",
        "        aspect_ratio_threshold: 當高寬比或寬高比 > 1 + threshold 時視為非正方形\n",
        "    回傳:\n",
        "        過濾後的軌跡\n",
        "    \"\"\"\n",
        "    filtered = []\n",
        "    for box in traj_vec:\n",
        "        x1, y1, x2, y2 = box\n",
        "        w = x2 - x1\n",
        "        h = y2 - y1\n",
        "        if w <= 0 or h <= 0:\n",
        "            continue\n",
        "        aspect_ratio = w / h\n",
        "        if (1 - aspect_ratio_threshold) <= aspect_ratio <= (1 + aspect_ratio_threshold):\n",
        "            filtered.append(box)\n",
        "    return filtered\n",
        "\n",
        "class TrajectoryPreprocessor:\n",
        "    def __init__(self, max_len):\n",
        "        self.max_len = max_len\n",
        "\n",
        "    def transform(self, X_raw):\n",
        "        out = []\n",
        "        for traj in X_raw:\n",
        "            traj_vec_raw = [list(t[1:]) if t[1] is not None else [0,0,0,0] for t in traj]\n",
        "            traj_vec = traj_vec_filter(traj_vec_raw)\n",
        "            traj_vec = pad_sequence(traj_vec, self.max_len)\n",
        "            out.append(traj_vec)\n",
        "        return np.array(out).reshape(len(out), -1)\n",
        "def load_model(load_dir):\n",
        "    \"\"\"\n",
        "    載入模型、LabelEncoder 和 Preprocessor，回傳推論用的 pipeline。\n",
        "    回傳:\n",
        "        pipeline_pitch, pipeline_desc, le_pitch_type, le_description\n",
        "    \"\"\"\n",
        "    clf_pitch = joblib.load(os.path.join(load_dir, 'clf_pitch_type.pkl'))\n",
        "    clf_desc = joblib.load(os.path.join(load_dir, 'clf_description.pkl'))\n",
        "\n",
        "    with open(os.path.join(load_dir, 'le_pitch_type.pkl'), 'rb') as f:\n",
        "        le_pitch = pickle.load(f)\n",
        "\n",
        "    with open(os.path.join(load_dir, 'le_description.pkl'), 'rb') as f:\n",
        "        le_desc = pickle.load(f)\n",
        "\n",
        "    with open(os.path.join(load_dir, 'preprocessor_config.pkl'), 'rb') as f:\n",
        "        config = pickle.load(f)\n",
        "\n",
        "    # 必須事先定義 TrajectoryPreprocessor 類別\n",
        "    preprocessor = TrajectoryPreprocessor(max_len=config['max_len'])\n",
        "\n",
        "    pipeline_pitch = Pipeline([\n",
        "        ('preprocess', preprocessor),\n",
        "        ('rf', clf_pitch)\n",
        "    ])\n",
        "\n",
        "    pipeline_desc = Pipeline([\n",
        "        ('preprocess', preprocessor),\n",
        "        ('rf', clf_desc)\n",
        "    ])\n",
        "\n",
        "    return pipeline_pitch, pipeline_desc, le_pitch, le_desc"
      ]
    },
    {
      "cell_type": "code",
      "source": [
        "# 載入pkl檔案\n",
        "pipeline_pitch, pipeline_desc, le_pitch, le_desc = load_model('Shohei_Ohtani_model')\n",
        "\n",
        "# 載入推論資料\n",
        "with open('/content/drive/MyDrive/Baseball Movies/Shohei_Ohtani_SL_videos_4S/baseball_trajectory_bbox_with_pitch_type_description/pitch_0001_baseball_trajectory_with_label.pkl', 'rb') as f:\n",
        "    one_data = pickle.load(f)\n",
        "# 推論\n",
        "X_new = [one_data['trajectory']]\n",
        "print(\"Pitch Type:\", le_pitch.inverse_transform(pipeline_pitch.predict(X_new))[0])\n",
        "print(\"Description:\", le_desc.inverse_transform(pipeline_desc.predict(X_new))[0])\n",
        "print(\"Description score:\", pipeline_desc.predict_proba(X_new)[0][1])\n",
        "\n",
        "# 載入推論資料\n",
        "with open('/content/drive/MyDrive/Baseball Movies/Shohei_Ohtani_FS_videos_4S/baseball_trajectory_bbox_with_pitch_type_description/pitch_0001_baseball_trajectory_with_label.pkl', 'rb') as f:\n",
        "    one_data = pickle.load(f)\n",
        "# 推論\n",
        "X_new = [one_data['trajectory']]\n",
        "print(\"Pitch Type:\", le_pitch.inverse_transform(pipeline_pitch.predict(X_new))[0])\n",
        "print(\"Description:\", le_desc.inverse_transform(pipeline_desc.predict(X_new))[0])\n",
        "print(\"Description score:\", pipeline_desc.predict_proba(X_new)[0][1])\n",
        "\n",
        "# 載入推論資料\n",
        "with open('/content/drive/MyDrive/Baseball Movies/Shohei_Ohtani_FF_videos_4S/baseball_trajectory_bbox_with_pitch_type_description/pitch_0001_baseball_trajectory_with_label.pkl', 'rb') as f:\n",
        "    one_data = pickle.load(f)\n",
        "# 推論\n",
        "X_new = [one_data['trajectory']]\n",
        "print(\"Pitch Type:\", le_pitch.inverse_transform(pipeline_pitch.predict(X_new))[0])\n",
        "print(\"Description:\", le_desc.inverse_transform(pipeline_desc.predict(X_new))[0])\n",
        "print(\"Description score:\", pipeline_desc.predict_proba(X_new)[0][1])"
      ],
      "metadata": {
        "id": "D6IRy4wrJvOm",
        "outputId": "da652baf-dcc5-48b6-b8f2-d531f3790226",
        "colab": {
          "base_uri": "https://localhost:8080/"
        }
      },
      "execution_count": 16,
      "outputs": [
        {
          "output_type": "stream",
          "name": "stdout",
          "text": [
            "Pitch Type: ST\n",
            "Description: good\n",
            "Description score: 0.82\n",
            "Pitch Type: FS\n",
            "Description: good\n",
            "Description score: 0.73\n",
            "Pitch Type: FF\n",
            "Description: good\n",
            "Description score: 0.81\n"
          ]
        }
      ]
    },
    {
      "cell_type": "code",
      "source": [
        "# 載入pkl檔案\n",
        "pipeline_pitch, pipeline_desc, le_pitch, le_desc = load_model('Gerrit_Cole_model')\n",
        "\n",
        "# 載入推論資料\n",
        "with open('/content/drive/MyDrive/Baseball Movies/Gerrit_Cole_CH_videos_4S/baseball_trajectory_bbox_with_pitch_type_description/pitch_0029_baseball_trajectory_with_label.pkl', 'rb') as f:\n",
        "    one_data = pickle.load(f)\n",
        "# 推論\n",
        "X_new = [one_data['trajectory']]\n",
        "print(\"Pitch Type:\", le_pitch.inverse_transform(pipeline_pitch.predict(X_new))[0])\n",
        "print(\"Description:\", le_desc.inverse_transform(pipeline_desc.predict(X_new))[0])\n",
        "print(\"Description score:\", pipeline_desc.predict_proba(X_new)[0][1])\n",
        "\n",
        "# 載入推論資料\n",
        "with open('/content/drive/MyDrive/Baseball Movies/Gerrit_Cole_FF_videos_4S/baseball_trajectory_bbox_with_pitch_type_description/pitch_0001_baseball_trajectory_with_label.pkl', 'rb') as f:\n",
        "    one_data = pickle.load(f)\n",
        "# 推論\n",
        "X_new = [one_data['trajectory']]\n",
        "print(\"Pitch Type:\", le_pitch.inverse_transform(pipeline_pitch.predict(X_new))[0])\n",
        "print(\"Description:\", le_desc.inverse_transform(pipeline_desc.predict(X_new))[0])\n",
        "print(\"Description score:\", pipeline_desc.predict_proba(X_new)[0][1])\n",
        "\n",
        "# 載入推論資料\n",
        "with open('/content/drive/MyDrive/Baseball Movies/Gerrit_Cole_SL_videos_4S/baseball_trajectory_bbox_with_pitch_type_description/pitch_0001_baseball_trajectory_with_label.pkl', 'rb') as f:\n",
        "    one_data = pickle.load(f)\n",
        "# 推論\n",
        "X_new = [one_data['trajectory']]\n",
        "print(\"Pitch Type:\", le_pitch.inverse_transform(pipeline_pitch.predict(X_new))[0])\n",
        "print(\"Description:\", le_desc.inverse_transform(pipeline_desc.predict(X_new))[0])\n",
        "print(\"Description score:\", pipeline_desc.predict_proba(X_new)[0][1])"
      ],
      "metadata": {
        "id": "93nJtHPfOzw-",
        "outputId": "6bb5fc24-3855-4c74-dc98-8ef8d88dc5c7",
        "colab": {
          "base_uri": "https://localhost:8080/"
        }
      },
      "execution_count": 17,
      "outputs": [
        {
          "output_type": "stream",
          "name": "stdout",
          "text": [
            "Pitch Type: CH\n",
            "Description: bad\n",
            "Description score: 0.12\n",
            "Pitch Type: FF\n",
            "Description: bad\n",
            "Description score: 0.05\n",
            "Pitch Type: SL\n",
            "Description: bad\n",
            "Description score: 0.12\n"
          ]
        }
      ]
    },
    {
      "cell_type": "code",
      "source": [
        "# 載入pkl檔案\n",
        "pipeline_pitch, pipeline_desc, le_pitch, le_desc = load_model('Yu_Darvish_model')\n",
        "\n",
        "# 載入推論資料\n",
        "with open('/content/drive/MyDrive/Baseball Movies/Yu_Darvish_FF_videos_4S/baseball_trajectory_bbox_with_pitch_type_description/pitch_0001_baseball_trajectory_with_label.pkl', 'rb') as f:\n",
        "    one_data = pickle.load(f)\n",
        "# 推論\n",
        "X_new = [one_data['trajectory']]\n",
        "print(\"Pitch Type:\", le_pitch.inverse_transform(pipeline_pitch.predict(X_new))[0])\n",
        "print(\"Description:\", le_desc.inverse_transform(pipeline_desc.predict(X_new))[0])\n",
        "print(\"Description score:\", pipeline_desc.predict_proba(X_new)[0][1])\n",
        "\n",
        "# 載入推論資料\n",
        "with open('/content/drive/MyDrive/Baseball Movies/Yu_Darvish_FS_videos_4S/baseball_trajectory_bbox_with_pitch_type_description/pitch_0001_baseball_trajectory_with_label.pkl', 'rb') as f:\n",
        "    one_data = pickle.load(f)\n",
        "# 推論\n",
        "X_new = [one_data['trajectory']]\n",
        "print(\"Pitch Type:\", le_pitch.inverse_transform(pipeline_pitch.predict(X_new))[0])\n",
        "print(\"Description:\", le_desc.inverse_transform(pipeline_desc.predict(X_new))[0])\n",
        "print(\"Description score:\", pipeline_desc.predict_proba(X_new)[0][1])\n",
        "\n",
        "# 載入推論資料\n",
        "with open('/content/drive/MyDrive/Baseball Movies/Yu_Darvish_SL_videos_4S/baseball_trajectory_bbox_with_pitch_type_description/pitch_0002_baseball_trajectory_with_label.pkl', 'rb') as f:\n",
        "    one_data = pickle.load(f)\n",
        "# 推論\n",
        "X_new = [one_data['trajectory']]\n",
        "print(\"Pitch Type:\", le_pitch.inverse_transform(pipeline_pitch.predict(X_new))[0])\n",
        "print(\"Description:\", le_desc.inverse_transform(pipeline_desc.predict(X_new))[0])\n",
        "print(\"Description score:\", pipeline_desc.predict_proba(X_new)[0][1])"
      ],
      "metadata": {
        "id": "-HU8SgiuO6i6",
        "outputId": "63c23ae1-0ff1-4eaf-d759-4f527a9c4910",
        "colab": {
          "base_uri": "https://localhost:8080/"
        }
      },
      "execution_count": 18,
      "outputs": [
        {
          "output_type": "stream",
          "name": "stdout",
          "text": [
            "Pitch Type: FF\n",
            "Description: bad\n",
            "Description score: 0.14\n",
            "Pitch Type: FS\n",
            "Description: good\n",
            "Description score: 0.79\n",
            "Pitch Type: SL\n",
            "Description: bad\n",
            "Description score: 0.14\n"
          ]
        }
      ]
    },
    {
      "cell_type": "code",
      "source": [],
      "metadata": {
        "id": "Pgw6UnV0QX7O"
      },
      "execution_count": 18,
      "outputs": []
    }
  ]
}