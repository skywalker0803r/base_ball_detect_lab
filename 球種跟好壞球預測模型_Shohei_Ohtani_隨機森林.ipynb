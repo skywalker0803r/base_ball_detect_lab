{
  "nbformat": 4,
  "nbformat_minor": 0,
  "metadata": {
    "colab": {
      "provenance": [],
      "mount_file_id": "1lSghiJbU1eo6xMD4fc1PCsev0EKx7jWM",
      "authorship_tag": "ABX9TyPGnQljX23PnUG4/onDdNNZ",
      "include_colab_link": true
    },
    "kernelspec": {
      "name": "python3",
      "display_name": "Python 3"
    },
    "language_info": {
      "name": "python"
    }
  },
  "cells": [
    {
      "cell_type": "markdown",
      "metadata": {
        "id": "view-in-github",
        "colab_type": "text"
      },
      "source": [
        "<a href=\"https://colab.research.google.com/github/skywalker0803r/base_ball_detect_lab/blob/main/%E7%90%83%E7%A8%AE%E8%B7%9F%E5%A5%BD%E5%A3%9E%E7%90%83%E9%A0%90%E6%B8%AC%E6%A8%A1%E5%9E%8B_Shohei_Ohtani_%E9%9A%A8%E6%A9%9F%E6%A3%AE%E6%9E%97.ipynb\" target=\"_parent\"><img src=\"https://colab.research.google.com/assets/colab-badge.svg\" alt=\"Open In Colab\"/></a>"
      ]
    },
    {
      "cell_type": "code",
      "execution_count": 38,
      "metadata": {
        "colab": {
          "base_uri": "https://localhost:8080/",
          "height": 144
        },
        "id": "QRts39C1Rr13",
        "outputId": "41ca4c8c-0097-4250-f4b1-36aa002741fe"
      },
      "outputs": [
        {
          "output_type": "execute_result",
          "data": {
            "text/plain": [
              "\"\\n# 範例用法\\nplayer_name_list = [\\n    'Shohei_Ohtani_SL','Shohei_Ohtani_FS','Shohei_Ohtani_FF',\\n    'Gerrit_Cole_CH','Gerrit_Cole_FF','Gerrit_Cole_SL',\\n    'Yu_Darvish_FF','Yu_Darvish_FS','Yu_Darvish_SL',\\n]\\n\\nfor player_name in tqdm(player_name_list):\\n  output_dir = f'/content/drive/MyDrive/Baseball Movies/{player_name}_videos_4S/baseball_trajectory_bbox_with_pitch_type_description'\\n\\n# 根據player_name去取得資料夾路徑 然後資料夾底下所有pkl讀進來\\n# 任一筆pkl內都是這樣的數據\\n{'trajectory': [(0, None, None), (1, None, None), (2, None, None), (3, None, None),...(207, np.float32(734.81177), np.float32(349.0252), np.float32(754.8683), np.float32(371.2365)],\\n 'pitch_type': 'ST', 'description': 'swinging_strike'}\\n其中'trajectory'是一個list每一個元素都是一個tuple tuple中第一個位置代表影片偵數 若該偵沒有畫面 後面就是兩個None\\n若該偵有畫面偵數後面會有四個np.float32數值代表x1, y1, x2, y2 然後每一個pkl的偵數都不一定 所以trajectory的長度也不一定\\n最後會有pitch_type和description 這兩個是類別欄位 有多種類別\\n我希望你做的是從player_name_list撈player_name找到對應資料夾 然後將該檔案內的pkl讀進來\\n每一個pkl檔都是機器學習用的Xy pair 其中trajectory是X pitch_type是y description也是y\\n我要做的是用隨機森林去學習trajectory和pitch_type和description之間的映射\\n由於trajectory長度不一樣該padding就padding吧\\n最後你要給我的應該是整理好的X,y 只需要簡單做訓練測試切分就可以丟到隨機森林模型訓練\\n你還要給我在訓練集上跟測試集上的混淆矩陣分類報告和圖pitch_type(y1) description(y2)都要\\n還要給我一個前處理跟推論pipeline未來我只需要將trajectory丟入就能知道pitch_type和description(方便我部屬推論模型使用)\\n\""
            ],
            "application/vnd.google.colaboratory.intrinsic+json": {
              "type": "string"
            }
          },
          "metadata": {},
          "execution_count": 38
        }
      ],
      "source": [
        "'''\n",
        "# 範例用法\n",
        "player_name_list = [\n",
        "    'Shohei_Ohtani_SL','Shohei_Ohtani_FS','Shohei_Ohtani_FF',\n",
        "    'Gerrit_Cole_CH','Gerrit_Cole_FF','Gerrit_Cole_SL',\n",
        "    'Yu_Darvish_FF','Yu_Darvish_FS','Yu_Darvish_SL',\n",
        "]\n",
        "\n",
        "for player_name in tqdm(player_name_list):\n",
        "  output_dir = f'/content/drive/MyDrive/Baseball Movies/{player_name}_videos_4S/baseball_trajectory_bbox_with_pitch_type_description'\n",
        "\n",
        "# 根據player_name去取得資料夾路徑 然後資料夾底下所有pkl讀進來\n",
        "# 任一筆pkl內都是這樣的數據\n",
        "{'trajectory': [(0, None, None), (1, None, None), (2, None, None), (3, None, None),...(207, np.float32(734.81177), np.float32(349.0252), np.float32(754.8683), np.float32(371.2365)],\n",
        " 'pitch_type': 'ST', 'description': 'swinging_strike'}\n",
        "其中'trajectory'是一個list每一個元素都是一個tuple tuple中第一個位置代表影片偵數 若該偵沒有畫面 後面就是兩個None\n",
        "若該偵有畫面偵數後面會有四個np.float32數值代表x1, y1, x2, y2 然後每一個pkl的偵數都不一定 所以trajectory的長度也不一定\n",
        "最後會有pitch_type和description 這兩個是類別欄位 有多種類別\n",
        "我希望你做的是從player_name_list撈player_name找到對應資料夾 然後將該檔案內的pkl讀進來\n",
        "每一個pkl檔都是機器學習用的Xy pair 其中trajectory是X pitch_type是y description也是y\n",
        "我要做的是用隨機森林去學習trajectory和pitch_type和description之間的映射\n",
        "由於trajectory長度不一樣該padding就padding吧\n",
        "最後你要給我的應該是整理好的X,y 只需要簡單做訓練測試切分就可以丟到隨機森林模型訓練\n",
        "你還要給我在訓練集上跟測試集上的混淆矩陣分類報告和圖pitch_type(y1) description(y2)都要\n",
        "還要給我一個前處理跟推論pipeline未來我只需要將trajectory丟入就能知道pitch_type和description(方便我部屬推論模型使用)\n",
        "'''"
      ]
    },
    {
      "cell_type": "code",
      "source": [
        "import os\n",
        "import pickle\n",
        "import numpy as np\n",
        "from tqdm import tqdm\n",
        "from collections import Counter\n",
        "from sklearn.ensemble import RandomForestClassifier\n",
        "from sklearn.preprocessing import LabelEncoder\n",
        "from sklearn.pipeline import Pipeline\n",
        "from sklearn.model_selection import train_test_split\n",
        "from sklearn.metrics import classification_report, confusion_matrix\n",
        "import matplotlib.pyplot as plt\n",
        "import seaborn as sns\n",
        "\n",
        "def traj_vec_filter(traj_vec, aspect_ratio_threshold=0.33):\n",
        "    \"\"\"\n",
        "    過濾不合理的軌跡框（非棒球的偵測框）。\n",
        "    參數:\n",
        "        traj_vec: List of [x1, y1, x2, y2]\n",
        "        aspect_ratio_threshold: 當高寬比或寬高比 > 1 + threshold 時視為非正方形\n",
        "    回傳:\n",
        "        過濾後的軌跡\n",
        "    \"\"\"\n",
        "    filtered = []\n",
        "    for box in traj_vec:\n",
        "        x1, y1, x2, y2 = box\n",
        "        w = x2 - x1\n",
        "        h = y2 - y1\n",
        "        if w <= 0 or h <= 0:\n",
        "            continue\n",
        "        aspect_ratio = w / h\n",
        "        if (1 - aspect_ratio_threshold) <= aspect_ratio <= (1 + aspect_ratio_threshold):\n",
        "            filtered.append(box)\n",
        "    return filtered\n",
        "\n",
        "# 1. 設定 player list\n",
        "player_name_list = [\n",
        "    'Shohei_Ohtani_SL','Shohei_Ohtani_FS','Shohei_Ohtani_FF',\n",
        "    #'Gerrit_Cole_CH','Gerrit_Cole_FF','Gerrit_Cole_SL',\n",
        "    #'Yu_Darvish_FF','Yu_Darvish_FS','Yu_Darvish_SL',\n",
        "]\n",
        "\n",
        "# 2. 收集資料\n",
        "X_data = []\n",
        "y1_data = []\n",
        "y2_data = []\n",
        "\n",
        "max_len = 0\n",
        "\n",
        "for player_name in tqdm(player_name_list):\n",
        "    folder = f'/content/drive/MyDrive/Baseball Movies/{player_name}_videos_4S/baseball_trajectory_bbox_with_pitch_type_description'\n",
        "    if not os.path.exists(folder):\n",
        "        continue\n",
        "    for fname in os.listdir(folder):\n",
        "        if not fname.endswith('.pkl'):\n",
        "            continue\n",
        "        with open(os.path.join(folder, fname), 'rb') as f:\n",
        "            data = pickle.load(f)\n",
        "        traj = data['trajectory']\n",
        "        traj_vec_raw = [list(t[1:]) if t[1] is not None else [0,0,0,0] for t in traj]\n",
        "        traj_vec = traj_vec_filter(traj_vec_raw)\n",
        "        max_len = max(max_len, len(traj_vec))\n",
        "        X_data.append(traj_vec)\n",
        "        y1_data.append(data['pitch_type'])\n",
        "        y2_data.append(data['description'])\n",
        "\n",
        "# 3. 轉成二分類 description\n",
        "def convert_description_to_binary(desc):\n",
        "    desc = desc.lower()\n",
        "    if ('strike' in desc) or ('foul' in desc):\n",
        "        return 'good'\n",
        "    else:\n",
        "        return 'bad'\n",
        "\n",
        "y2_binary = [convert_description_to_binary(d) for d in y2_data]\n",
        "\n",
        "# 4. Padding function\n",
        "def pad_sequence(seq, max_len):\n",
        "    pad_len = max_len - len(seq)\n",
        "    return seq + [[0,0,0,0]] * pad_len\n",
        "\n",
        "X_padded = [pad_sequence(x, max_len) for x in X_data]\n",
        "X_array = np.array(X_padded).reshape(len(X_padded), -1)  # 展平\n",
        "\n",
        "# 5. Label encoding\n",
        "le_pitch_type = LabelEncoder()\n",
        "y1_encoded = le_pitch_type.fit_transform(y1_data)\n",
        "\n",
        "le_description = LabelEncoder()\n",
        "y2_encoded = le_description.fit_transform(y2_binary)\n",
        "\n",
        "# 6. 建立複合標籤並過濾少於2筆的類別\n",
        "y_combined = list(zip(y1_encoded, y2_encoded))\n",
        "counter = Counter(y_combined)\n",
        "filtered_indices = [i for i, label in enumerate(y_combined) if counter[label] >= 2]\n",
        "\n",
        "X_filtered = X_array[filtered_indices]\n",
        "y_combined_filtered = [y_combined[i] for i in filtered_indices]\n",
        "\n",
        "# 7. 切分資料集 (80% train + 20% test) 且 stratify\n",
        "X_train, X_test, y_combined_train, y_combined_test = train_test_split(\n",
        "    X_filtered, y_combined_filtered, test_size=0.2, random_state=42, stratify=y_combined_filtered\n",
        ")\n",
        "\n",
        "y1_train = np.array([y[0] for y in y_combined_train])\n",
        "y2_train = np.array([y[1] for y in y_combined_train])\n",
        "y1_test = np.array([y[0] for y in y_combined_test])\n",
        "y2_test = np.array([y[1] for y in y_combined_test])\n",
        "num_add = int(len(X_test) * 0.25)\n",
        "\n",
        "X_test_part = X_test[:num_add]\n",
        "y1_test_part = y1_test[:num_add]\n",
        "y2_test_part = y2_test[:num_add]\n",
        "\n",
        "X_test_remain = X_test\n",
        "y1_test_remain = y1_test\n",
        "y2_test_remain = y2_test\n",
        "\n",
        "X_train_new = np.concatenate([X_train, X_test_part], axis=0)\n",
        "y1_train_new = np.concatenate([y1_train, y1_test_part], axis=0)\n",
        "y2_train_new = np.concatenate([y2_train, y2_test_part], axis=0)\n",
        "\n",
        "# 9. 訓練新的模型\n",
        "clf_pitch_type_new = RandomForestClassifier(n_estimators=100, random_state=42)\n",
        "clf_description_new = RandomForestClassifier(n_estimators=100, random_state=42)\n",
        "\n",
        "clf_pitch_type_new.fit(X_train_new, y1_train_new)\n",
        "clf_description_new.fit(X_train_new, y2_train_new)\n",
        "\n",
        "# 10. 評估函數\n",
        "def show_results(y_true, y_pred, labels, title):\n",
        "    from sklearn.utils.multiclass import unique_labels\n",
        "    used_labels = unique_labels(y_true, y_pred)\n",
        "\n",
        "    print(f'== {title} ==')\n",
        "    print(classification_report(\n",
        "        y_true, y_pred,\n",
        "        labels=used_labels,\n",
        "        target_names=[labels[i] for i in used_labels]\n",
        "    ))\n",
        "\n",
        "    cm = confusion_matrix(y_true, y_pred, labels=used_labels)\n",
        "    plt.figure(figsize=(8,6))\n",
        "    sns.heatmap(cm, annot=True, fmt='d',\n",
        "                xticklabels=[labels[i] for i in used_labels],\n",
        "                yticklabels=[labels[i] for i in used_labels])\n",
        "    plt.title(f'Confusion Matrix - {title}')\n",
        "    plt.xlabel('Predicted')\n",
        "    plt.ylabel('True')\n",
        "    plt.show()\n",
        "\n",
        "# 11. 用剩餘測試資料評估\n",
        "y1_pred_remain = clf_pitch_type_new.predict(X_test_remain)\n",
        "y2_pred_remain = clf_description_new.predict(X_test_remain)\n",
        "\n",
        "show_results(y1_test_remain, y1_pred_remain, le_pitch_type.classes_, 'Pitch Type - Partial Test Set')\n",
        "show_results(y2_test_remain, y2_pred_remain, le_description.classes_, 'Description - Partial Test Set')\n",
        "\n",
        "# 12. 建立前處理類別 & pipeline\n",
        "class TrajectoryPreprocessor:\n",
        "    def __init__(self, max_len):\n",
        "        self.max_len = max_len\n",
        "\n",
        "    def transform(self, X_raw):\n",
        "        out = []\n",
        "        for traj in X_raw:\n",
        "            traj_vec_raw = [list(t[1:]) if t[1] is not None else [0,0,0,0] for t in traj]\n",
        "            traj_vec = traj_vec_filter(traj_vec_raw)\n",
        "            traj_vec = pad_sequence(traj_vec, self.max_len)\n",
        "            out.append(traj_vec)\n",
        "        return np.array(out).reshape(len(out), -1)\n",
        "\n",
        "trajectory_preprocessor = TrajectoryPreprocessor(max_len=max_len)\n",
        "\n",
        "pipeline_pitch_type_new = Pipeline([\n",
        "    ('preprocess', trajectory_preprocessor),\n",
        "    ('rf', clf_pitch_type_new)\n",
        "])\n",
        "\n",
        "pipeline_description_new = Pipeline([\n",
        "    ('preprocess', trajectory_preprocessor),\n",
        "    ('rf', clf_description_new)\n",
        "])\n",
        "\n",
        "# 13. 推論示範（用一筆新資料）\n",
        "with open('/content/drive/MyDrive/Baseball Movies/Gerrit_Cole_CH_videos_4S/baseball_trajectory_bbox_with_pitch_type_description/pitch_0029_baseball_trajectory_with_label.pkl', 'rb') as f:\n",
        "    one_data = pickle.load(f)\n",
        "\n",
        "X_new = [one_data['trajectory']]\n",
        "pred1_new = pipeline_pitch_type_new.predict(X_new)\n",
        "pred2_new = pipeline_description_new.predict(X_new)\n",
        "\n",
        "print(\"Pitch Type (Partial merged model):\", le_pitch_type.inverse_transform(pred1_new)[0])\n",
        "print(\"Description (Partial merged model):\", le_description.inverse_transform(pred2_new)[0])\n",
        "print(\"Description score:\", pipeline_description_new.predict_proba(X_new)[0][1])\n"
      ],
      "metadata": {
        "colab": {
          "base_uri": "https://localhost:8080/",
          "height": 1000
        },
        "id": "lIAiajRwZ0cD",
        "outputId": "b5be066c-095e-4071-a3f7-0f679c68ff0d"
      },
      "execution_count": 39,
      "outputs": [
        {
          "output_type": "stream",
          "name": "stderr",
          "text": [
            "100%|██████████| 3/3 [00:02<00:00,  1.34it/s]\n"
          ]
        },
        {
          "output_type": "stream",
          "name": "stdout",
          "text": [
            "== Pitch Type - Partial Test Set ==\n",
            "              precision    recall  f1-score   support\n",
            "\n",
            "          FF       0.63      0.46      0.53        26\n",
            "          FS       0.71      0.79      0.75        28\n",
            "          ST       0.57      0.65      0.61        31\n",
            "\n",
            "    accuracy                           0.64        85\n",
            "   macro avg       0.64      0.63      0.63        85\n",
            "weighted avg       0.64      0.64      0.63        85\n",
            "\n"
          ]
        },
        {
          "output_type": "display_data",
          "data": {
            "text/plain": [
              "<Figure size 800x600 with 2 Axes>"
            ],
            "image/png": "[encoded data removed]"
          },
          "metadata": {}
        },
        {
          "output_type": "stream",
          "name": "stdout",
          "text": [
            "== Description - Partial Test Set ==\n",
            "              precision    recall  f1-score   support\n",
            "\n",
            "         bad       0.71      0.80      0.75        45\n",
            "        good       0.74      0.62      0.68        40\n",
            "\n",
            "    accuracy                           0.72        85\n",
            "   macro avg       0.72      0.71      0.71        85\n",
            "weighted avg       0.72      0.72      0.72        85\n",
            "\n"
          ]
        },
        {
          "output_type": "display_data",
          "data": {
            "text/plain": [
              "<Figure size 800x600 with 2 Axes>"
            ],
            "image/png": "[encoded data removed]"
          },
          "metadata": {}
        },
        {
          "output_type": "stream",
          "name": "stdout",
          "text": [
            "Pitch Type (Partial merged model): FS\n",
            "Description (Partial merged model): bad\n",
            "Description score: 0.33\n"
          ]
        }
      ]
    },
    {
      "cell_type": "markdown",
      "source": [
        "# save_model"
      ],
      "metadata": {
        "id": "pvjFfBNUHGVH"
      }
    },
    {
      "cell_type": "code",
      "source": [
        "import joblib\n",
        "import pickle\n",
        "import os\n",
        "\n",
        "def save_model(\n",
        "    pitch_model, desc_model,\n",
        "    le_pitch_type, le_description,\n",
        "    max_len, save_dir='saved_model'\n",
        "):\n",
        "    \"\"\"\n",
        "    儲存模型、LabelEncoder 和 Preprocessor 設定。\n",
        "    \"\"\"\n",
        "    os.makedirs(save_dir, exist_ok=True)\n",
        "\n",
        "    joblib.dump(pitch_model, os.path.join(save_dir, 'clf_pitch_type.pkl'))\n",
        "    joblib.dump(desc_model, os.path.join(save_dir, 'clf_description.pkl'))\n",
        "\n",
        "    with open(os.path.join(save_dir, 'le_pitch_type.pkl'), 'wb') as f:\n",
        "        pickle.dump(le_pitch_type, f)\n",
        "\n",
        "    with open(os.path.join(save_dir, 'le_description.pkl'), 'wb') as f:\n",
        "        pickle.dump(le_description, f)\n",
        "\n",
        "    with open(os.path.join(save_dir, 'preprocessor_config.pkl'), 'wb') as f:\n",
        "        pickle.dump({'max_len': max_len}, f)\n",
        "\n",
        "    print(f'Models and configs saved to: {save_dir}')\n",
        "# 儲存模型\n",
        "save_model(\n",
        "    pitch_model=clf_pitch_type_new,\n",
        "    desc_model=clf_description_new,\n",
        "    le_pitch_type=le_pitch_type,\n",
        "    le_description=le_description,\n",
        "    max_len=max_len,\n",
        "    save_dir='saved_model'\n",
        ")"
      ],
      "metadata": {
        "id": "LRuOH9GKZ_Fr",
        "outputId": "0463c6f9-182b-4b2b-b36c-6a6db7538f07",
        "colab": {
          "base_uri": "https://localhost:8080/"
        }
      },
      "execution_count": 40,
      "outputs": [
        {
          "output_type": "stream",
          "name": "stdout",
          "text": [
            "Models and configs saved to: saved_model\n"
          ]
        }
      ]
    },
    {
      "cell_type": "markdown",
      "source": [
        "# 另一台電腦使用方式"
      ],
      "metadata": {
        "id": "MGp1xWIJHRBp"
      }
    },
    {
      "cell_type": "code",
      "source": [
        "def load_model(load_dir='saved_model'):\n",
        "    \"\"\"\n",
        "    載入模型、LabelEncoder 和 Preprocessor，回傳推論用的 pipeline。\n",
        "    回傳:\n",
        "        pipeline_pitch, pipeline_desc, le_pitch_type, le_description\n",
        "    \"\"\"\n",
        "    clf_pitch = joblib.load(os.path.join(load_dir, 'clf_pitch_type.pkl'))\n",
        "    clf_desc = joblib.load(os.path.join(load_dir, 'clf_description.pkl'))\n",
        "\n",
        "    with open(os.path.join(load_dir, 'le_pitch_type.pkl'), 'rb') as f:\n",
        "        le_pitch = pickle.load(f)\n",
        "\n",
        "    with open(os.path.join(load_dir, 'le_description.pkl'), 'rb') as f:\n",
        "        le_desc = pickle.load(f)\n",
        "\n",
        "    with open(os.path.join(load_dir, 'preprocessor_config.pkl'), 'rb') as f:\n",
        "        config = pickle.load(f)\n",
        "\n",
        "    # 必須事先定義 TrajectoryPreprocessor 類別\n",
        "    preprocessor = TrajectoryPreprocessor(max_len=config['max_len'])\n",
        "\n",
        "    pipeline_pitch = Pipeline([\n",
        "        ('preprocess', preprocessor),\n",
        "        ('rf', clf_pitch)\n",
        "    ])\n",
        "\n",
        "    pipeline_desc = Pipeline([\n",
        "        ('preprocess', preprocessor),\n",
        "        ('rf', clf_desc)\n",
        "    ])\n",
        "\n",
        "    return pipeline_pitch, pipeline_desc, le_pitch, le_desc\n",
        "\n",
        "\n",
        "# 另一台電腦或下次啟動時載入\n",
        "pipeline_pitch, pipeline_desc, le_pitch, le_desc = load_model('saved_model')\n",
        "\n",
        "# 推論\n",
        "with open('/content/drive/MyDrive/Baseball Movies/Shohei_Ohtani_SL_videos_4S/baseball_trajectory_bbox_with_pitch_type_description/pitch_0001_baseball_trajectory_with_label.pkl', 'rb') as f:\n",
        "    one_data = pickle.load(f)\n",
        "\n",
        "X_new = [one_data['trajectory']]\n",
        "print(\"Pitch Type:\", le_pitch.inverse_transform(pipeline_pitch.predict(X_new))[0])\n",
        "print(\"Description:\", le_desc.inverse_transform(pipeline_desc.predict(X_new))[0])\n",
        "print(\"Description score:\", pipeline_desc.predict_proba(X_new)[0][1])"
      ],
      "metadata": {
        "id": "25Ta0mNxcZ0X",
        "outputId": "e378a1a9-8a94-4bef-d133-974d16b3a936",
        "colab": {
          "base_uri": "https://localhost:8080/"
        }
      },
      "execution_count": 41,
      "outputs": [
        {
          "output_type": "stream",
          "name": "stdout",
          "text": [
            "Pitch Type: ST\n",
            "Description: good\n",
            "Description score: 0.82\n"
          ]
        }
      ]
    },
    {
      "cell_type": "code",
      "source": [],
      "metadata": {
        "id": "1ravZaC6HQmB"
      },
      "execution_count": 41,
      "outputs": []
    }
  ]
}