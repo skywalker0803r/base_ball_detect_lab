{
  "nbformat": 4,
  "nbformat_minor": 0,
  "metadata": {
    "colab": {
      "provenance": [],
      "gpuType": "T4"
    },
    "kernelspec": {
      "name": "python3",
      "display_name": "Python 3"
    },
    "language_info": {
      "name": "python"
    },
    "accelerator": "GPU"
  },
  "cells": [
    {
      "cell_type": "code",
      "source": [
        "#我已經有一個函數extract_baseball_trajectory_from_video將影片pitch_0001.mp4丟進去\n",
        "#trajectory = extract_baseball_trajectory_from_video(video_path='/content/pitch_0001.mp4', model=model, conf_threshold=0.5, baseball_class_name=\"baseball\")\n",
        "#他會輸出trajectory再丟到extract_longest_valid_segment(trajectory)會回傳longest_segment(代表真正的投球軌跡)\n",
        "#我想做的事情是我有一個dir裡面放很多的mp4影片從pitch_0001.mp4到pitch_xxxx.mp4都有\n",
        "#請你自動幫我把每一筆影片的longest_segment都抽出來當作這筆樣本的X\n",
        "#再根據影片名例如pitch_0001.mp4 去我指定的csv檔案裏面\n",
        "#找到Filename等於影片名的那一行對應的description當作y\n",
        "#最後製作成batch_X(list of 每一個影片的投球軌跡),batch_y(list of 每一個影片的description)\n"
      ],
      "metadata": {
        "id": "0UT2kcl-j8fQ"
      },
      "execution_count": 1,
      "outputs": []
    },
    {
      "cell_type": "code",
      "source": [
        "#!pip install baseballcv ultralytics"
      ],
      "metadata": {
        "id": "_9fcHgtFb1ua"
      },
      "execution_count": 2,
      "outputs": []
    },
    {
      "cell_type": "code",
      "source": [
        "\n",
        "import cv2\n",
        "import matplotlib.pyplot as plt\n",
        "import numpy as np\n",
        "\n",
        "def extract_baseball_trajectory_from_video(video_path, model, conf_threshold=0.5, baseball_class_name=\"baseball\"):\n",
        "    \"\"\"\n",
        "    從影片逐幀偵測棒球位置，回傳軌跡座標列表，並畫出軌跡圖。\n",
        "\n",
        "    參數：\n",
        "        video_path: str，影片檔案路徑\n",
        "        model: 已載入的 YOLOv8 模型物件\n",
        "        conf_threshold: float，信心度門檻，低於此忽略\n",
        "        baseball_class_name: str，棒球類別名稱（依你模型的類別而定）\n",
        "\n",
        "    回傳：\n",
        "        trajectory: list of (frame_index, x_center, y_center)\n",
        "    \"\"\"\n",
        "    cap = cv2.VideoCapture(video_path)\n",
        "    if not cap.isOpened():\n",
        "        raise RuntimeError(f\"無法開啟影片檔：{video_path}\")\n",
        "\n",
        "    trajectory = []\n",
        "    frame_idx = 0\n",
        "\n",
        "    while True:\n",
        "        ret, frame = cap.read()\n",
        "        if not ret:\n",
        "            break  # 讀完了\n",
        "\n",
        "        # YOLOv8 預測，model 物件直接丟 np.ndarray 也行\n",
        "        results = model(frame,verbose=False)  # 取得 list[Results]\n",
        "\n",
        "        # 因為只處理一張圖，所以取 results[0]\n",
        "        res = results[0]\n",
        "\n",
        "        # 取得類別名稱與boxes/conf\n",
        "        names = res.names\n",
        "        boxes = res.boxes.xyxy.cpu().numpy()\n",
        "        scores = res.boxes.conf.cpu().numpy()\n",
        "        class_ids = res.boxes.cls.cpu().numpy().astype(int)\n",
        "\n",
        "        # 找出棒球位置（第一個符合信心度且是棒球的框）\n",
        "        ball_found = False\n",
        "        for box, score, cls_id in zip(boxes, scores, class_ids):\n",
        "            if score < conf_threshold:\n",
        "                continue\n",
        "            label = names.get(cls_id, str(cls_id))\n",
        "            if label == baseball_class_name:\n",
        "                x1, y1, x2, y2 = box.astype(int)  # <-- 修正這行\n",
        "                x_center = (x1 + x2) / 2\n",
        "                y_center = (y1 + y2) / 2\n",
        "                trajectory.append((frame_idx, x_center, y_center))\n",
        "                ball_found = True\n",
        "                # 畫框與標籤\n",
        "                text = f\"{label} {score:.2f}\"\n",
        "                cv2.rectangle(frame, (x1, y1), (x2, y2), (0, 255, 0), 2)\n",
        "                cv2.putText(frame, text, (x1, y1 - 6), cv2.FONT_HERSHEY_SIMPLEX, 0.5, (255, 0, 0), 1)\n",
        "                break\n",
        "\n",
        "        # 如果該幀沒找到棒球，也可以記錄 None 或忽略\n",
        "        if not ball_found:\n",
        "            trajectory.append((frame_idx, None, None))\n",
        "\n",
        "        # 準備進下一個迴圈\n",
        "        frame_idx += 1\n",
        "\n",
        "    # 釋放\n",
        "    cap.release()\n",
        "    return trajectory"
      ],
      "metadata": {
        "id": "6Sil9HvemOfH"
      },
      "execution_count": 3,
      "outputs": []
    },
    {
      "cell_type": "code",
      "source": [
        "def extract_longest_valid_segment(trajectory):\n",
        "\n",
        "    max_len = 0\n",
        "    current = []\n",
        "    best = []\n",
        "\n",
        "    for item in trajectory:\n",
        "        frame_idx, x, y = item\n",
        "        if x is not None and y is not None:\n",
        "            current.append(item)\n",
        "        else:\n",
        "            if len(current) > max_len:\n",
        "                max_len = len(current)\n",
        "                best = current\n",
        "            current = []\n",
        "    # 最後一段也可能是最長的\n",
        "    if len(current) > max_len:\n",
        "        best = current\n",
        "\n",
        "    if best:\n",
        "        start_idx = best[0][0]\n",
        "        end_idx = best[-1][0]\n",
        "        print(f\"選擇的段落：從 frame {start_idx} 到 frame {end_idx}，共 {len(best)} 幀\")\n",
        "    else:\n",
        "        print(\"找不到有效段落\")\n",
        "    return best"
      ],
      "metadata": {
        "id": "RtF0v0jxmd4S"
      },
      "execution_count": 5,
      "outputs": []
    },
    {
      "cell_type": "code",
      "source": [
        "import cv2\n",
        "from ultralytics import YOLO\n",
        "from baseballcv.functions import LoadTools\n",
        "from tqdm import tqdm\n",
        "import cv2\n",
        "\n",
        "# 載入模型\n",
        "load_tools = LoadTools()\n",
        "model_path = load_tools.load_model(\"ball_tracking\")\n",
        "model = YOLO(model_path)"
      ],
      "metadata": {
        "id": "8ZNNfLBqcjOk"
      },
      "execution_count": null,
      "outputs": []
    },
    {
      "cell_type": "code",
      "source": [
        "import os\n",
        "import pandas as pd\n",
        "import pickle\n",
        "from tqdm import tqdm\n",
        "\n",
        "def load_data_from_videos_and_csv(video_dir, csv_path, output_dir, model, conf_threshold=0.5, baseball_class_name=\"baseball\"):\n",
        "    # 讀 CSV\n",
        "    df = pd.read_csv(csv_path)\n",
        "\n",
        "    batch_X = []\n",
        "    batch_y = []\n",
        "\n",
        "    if not os.path.exists(output_dir):\n",
        "        os.makedirs(output_dir)\n",
        "\n",
        "    video_files = [f for f in os.listdir(video_dir) if f.lower().endswith('.mp4')]\n",
        "    video_files.sort()  # 如果要排序\n",
        "\n",
        "    for vf in tqdm(video_files):\n",
        "        video_path = os.path.join(video_dir, vf)\n",
        "        print(f\"處理影片: {vf}\")\n",
        "\n",
        "        # 抽取軌跡\n",
        "        trajectory = extract_baseball_trajectory_from_video(video_path, model, conf_threshold, baseball_class_name)\n",
        "\n",
        "        # 取得最長有效段\n",
        "        #longest_segment = extract_longest_valid_segment(trajectory)\n",
        "\n",
        "        # 暫時先直接用全部軌跡 後續再處理有效段的問題 因為還不知道怎麼處理有效段\n",
        "        longest_segment = trajectory\n",
        "\n",
        "        # 若找不到有效段，跳過或記空\n",
        "        if not longest_segment:\n",
        "            print(f\"警告: {vf} 找不到有效投球軌跡段，跳過\")\n",
        "            continue\n",
        "\n",
        "        # 尋找對應label\n",
        "        row = df[df['Filename'] == vf]\n",
        "        if row.empty:\n",
        "            print(f\"警告: {vf} 在 CSV 中找不到對應標籤，跳過\")\n",
        "            continue\n",
        "        description = row.iloc[0]['description']\n",
        "\n",
        "        # 將軌跡段和label加入 batch\n",
        "        batch_X.append(longest_segment)  # 每個元素是list of (frame_idx,x,y)\n",
        "        batch_y.append(description)\n",
        "\n",
        "        # 存檔 pickle 格式：影片名_baseball_trajectory_with_description.pkl\n",
        "        save_path = os.path.join(output_dir, f\"{os.path.splitext(vf)[0]}_baseball_trajectory_with_description.pkl\")\n",
        "        with open(save_path, 'wb') as f:\n",
        "            pickle.dump({\n",
        "                'trajectory': longest_segment,\n",
        "                'description': description\n",
        "            }, f)\n",
        "        print(f\"已存檔: {save_path}\")\n",
        "\n",
        "    return batch_X, batch_y\n"
      ],
      "metadata": {
        "id": "SV-pGm9Uj8h_"
      },
      "execution_count": 7,
      "outputs": []
    },
    {
      "cell_type": "code",
      "source": [
        "# 範例用法\n",
        "player_name_list = [\n",
        "    'Shohei_Ohtani_SL','Shohei_Ohtani_FS','Shohei_Ohtani_FF',\n",
        "    'Gerrit_Cole_CH','Gerrit_Cole_FF','Gerrit_Cole_SL'\n",
        "]\n",
        "for player_name in tqdm(player_name_list):\n",
        "  video_dir = f'/content/drive/MyDrive/Baseball Movies/{player_name}_videos_4S'\n",
        "  csv_path = f'/content/drive/MyDrive/Baseball Movies/data_csv/{player_name}.csv'\n",
        "  output_dir = f'/content/drive/MyDrive/Baseball Movies/{player_name}_videos_4S/baseball_trajectory'\n",
        "  batch_X, batch_y = load_data_from_videos_and_csv(video_dir, csv_path, output_dir, model)\n",
        "  print(f\"{player_name}:總共處理影片數: {len(batch_X)}\")"
      ],
      "metadata": {
        "id": "wg-yLc8lcqV1"
      },
      "execution_count": null,
      "outputs": []
    },
    {
      "cell_type": "code",
      "source": [],
      "metadata": {
        "id": "JqYhYHnNj8kw"
      },
      "execution_count": null,
      "outputs": []
    },
    {
      "cell_type": "code",
      "source": [],
      "metadata": {
        "id": "Hv2GNiG1j8nx"
      },
      "execution_count": null,
      "outputs": []
    }
  ]
}