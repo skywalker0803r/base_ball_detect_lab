{
  "nbformat": 4,
  "nbformat_minor": 0,
  "metadata": {
    "colab": {
      "provenance": [],
      "gpuType": "T4",
      "include_colab_link": true
    },
    "kernelspec": {
      "name": "python3",
      "display_name": "Python 3"
    },
    "language_info": {
      "name": "python"
    },
    "accelerator": "GPU"
  },
  "cells": [
    {
      "cell_type": "markdown",
      "metadata": {
        "id": "view-in-github",
        "colab_type": "text"
      },
      "source": [
        "<a href=\"https://colab.research.google.com/github/skywalker0803r/base_ball_detect_lab/blob/main/%E6%A3%92%E7%90%83%E8%BB%8C%E8%B7%A1%E5%81%B5%E6%B8%AC_%E7%90%83%E8%B7%AF%E8%BB%8C%E8%B7%A1%E9%85%8D%E6%A8%99%E7%B1%A4_%E6%89%B9%E9%87%8F%E8%99%95%E7%90%86.ipynb\" target=\"_parent\"><img src=\"https://colab.research.google.com/assets/colab-badge.svg\" alt=\"Open In Colab\"/></a>"
      ]
    },
    {
      "cell_type": "code",
      "source": [
        "#我已經有一個函數extract_baseball_trajectory_from_video將影片pitch_0001.mp4丟進去\n",
        "#trajectory = extract_baseball_trajectory_from_video(video_path='/content/pitch_0001.mp4', model=model, conf_threshold=0.5, baseball_class_name=\"baseball\")\n",
        "#他會輸出trajectory再丟到extract_longest_valid_segment(trajectory)會回傳longest_segment(代表真正的投球軌跡)\n",
        "#我想做的事情是我有一個dir裡面放很多的mp4影片從pitch_0001.mp4到pitch_xxxx.mp4都有\n",
        "#請你自動幫我把每一筆影片的longest_segment都抽出來當作這筆樣本的X\n",
        "#再根據影片名例如pitch_0001.mp4 去我指定的csv檔案裏面\n",
        "#找到Filename等於影片名的那一行對應的description當作y\n",
        "#最後製作成batch_X(list of 每一個影片的投球軌跡),batch_y(list of 每一個影片的description)\n"
      ],
      "metadata": {
        "id": "0UT2kcl-j8fQ"
      },
      "execution_count": 10,
      "outputs": []
    },
    {
      "cell_type": "code",
      "source": [
        "from google.colab import drive\n",
        "drive.mount('/content/drive')"
      ],
      "metadata": {
        "id": "D7ie2cWxMN7-",
        "outputId": "8d7fd7e4-6c6b-47fa-da6a-4fc8c1e30cee",
        "colab": {
          "base_uri": "https://localhost:8080/"
        }
      },
      "execution_count": 11,
      "outputs": [
        {
          "output_type": "stream",
          "name": "stdout",
          "text": [
            "Drive already mounted at /content/drive; to attempt to forcibly remount, call drive.mount(\"/content/drive\", force_remount=True).\n"
          ]
        }
      ]
    },
    {
      "cell_type": "code",
      "source": [
        "#!pip install baseballcv ultralytics"
      ],
      "metadata": {
        "id": "_9fcHgtFb1ua"
      },
      "execution_count": 12,
      "outputs": []
    },
    {
      "cell_type": "code",
      "source": [
        "\n",
        "import cv2\n",
        "import matplotlib.pyplot as plt\n",
        "import numpy as np\n",
        "\n",
        "def extract_baseball_trajectory_from_video(video_path, model, conf_threshold=0.5, baseball_class_name=\"baseball\"):\n",
        "    \"\"\"\n",
        "    從影片逐幀偵測棒球位置，回傳軌跡座標列表，並畫出軌跡圖。\n",
        "\n",
        "    參數：\n",
        "        video_path: str，影片檔案路徑\n",
        "        model: 已載入的 YOLOv8 模型物件\n",
        "        conf_threshold: float，信心度門檻，低於此忽略\n",
        "        baseball_class_name: str，棒球類別名稱（依你模型的類別而定）\n",
        "\n",
        "    回傳：\n",
        "        trajectory: list of (frame_index, x_center, y_center)\n",
        "    \"\"\"\n",
        "    cap = cv2.VideoCapture(video_path)\n",
        "    if not cap.isOpened():\n",
        "        raise RuntimeError(f\"無法開啟影片檔：{video_path}\")\n",
        "\n",
        "    trajectory = []\n",
        "    frame_idx = 0\n",
        "\n",
        "    while True:\n",
        "        ret, frame = cap.read()\n",
        "        if not ret:\n",
        "            break  # 讀完了\n",
        "\n",
        "        # YOLOv8 預測，model 物件直接丟 np.ndarray 也行\n",
        "        results = model(frame,verbose=False)  # 取得 list[Results]\n",
        "\n",
        "        # 因為只處理一張圖，所以取 results[0]\n",
        "        res = results[0]\n",
        "\n",
        "        # 取得類別名稱與boxes/conf\n",
        "        names = res.names\n",
        "        boxes = res.boxes.xyxy.cpu().numpy()\n",
        "        scores = res.boxes.conf.cpu().numpy()\n",
        "        class_ids = res.boxes.cls.cpu().numpy().astype(int)\n",
        "\n",
        "        # 找出棒球位置（第一個符合信心度且是棒球的框）\n",
        "        ball_found = False\n",
        "        for box, score, cls_id in zip(boxes, scores, class_ids):\n",
        "            if score < conf_threshold:\n",
        "                continue\n",
        "            label = names.get(cls_id, str(cls_id))\n",
        "            if label == baseball_class_name:\n",
        "                x1, y1, x2, y2 = box.astype(int)  # <-- 修正這行\n",
        "                trajectory.append((frame_idx,x1,y1,x2,y2))\n",
        "                ball_found = True\n",
        "                break\n",
        "\n",
        "        # 如果該幀沒找到棒球，也可以記錄 None 或忽略\n",
        "        if not ball_found:\n",
        "            trajectory.append((frame_idx, None, None))\n",
        "\n",
        "        # 準備進下一個迴圈\n",
        "        frame_idx += 1\n",
        "\n",
        "    # 釋放\n",
        "    cap.release()\n",
        "    return trajectory"
      ],
      "metadata": {
        "id": "6Sil9HvemOfH"
      },
      "execution_count": 13,
      "outputs": []
    },
    {
      "cell_type": "code",
      "source": [
        "def extract_longest_valid_segment(trajectory):\n",
        "\n",
        "    max_len = 0\n",
        "    current = []\n",
        "    best = []\n",
        "\n",
        "    for item in trajectory:\n",
        "        frame_idx, x, y = item\n",
        "        if x is not None and y is not None:\n",
        "            current.append(item)\n",
        "        else:\n",
        "            if len(current) > max_len:\n",
        "                max_len = len(current)\n",
        "                best = current\n",
        "            current = []\n",
        "    # 最後一段也可能是最長的\n",
        "    if len(current) > max_len:\n",
        "        best = current\n",
        "\n",
        "    if best:\n",
        "        start_idx = best[0][0]\n",
        "        end_idx = best[-1][0]\n",
        "        print(f\"選擇的段落：從 frame {start_idx} 到 frame {end_idx}，共 {len(best)} 幀\")\n",
        "    else:\n",
        "        print(\"找不到有效段落\")\n",
        "    return best"
      ],
      "metadata": {
        "id": "RtF0v0jxmd4S"
      },
      "execution_count": 14,
      "outputs": []
    },
    {
      "cell_type": "code",
      "source": [
        "import cv2\n",
        "from ultralytics import YOLO\n",
        "from baseballcv.functions import LoadTools\n",
        "from tqdm import tqdm\n",
        "import cv2\n",
        "\n",
        "# 載入模型\n",
        "load_tools = LoadTools()\n",
        "model_path = load_tools.load_model(\"ball_tracking\")\n",
        "model = YOLO(model_path)"
      ],
      "metadata": {
        "colab": {
          "base_uri": "https://localhost:8080/"
        },
        "id": "8ZNNfLBqcjOk",
        "outputId": "65f263d9-2f7c-418d-d8a5-52e32bd45d82"
      },
      "execution_count": 15,
      "outputs": [
        {
          "output_type": "stream",
          "name": "stdout",
          "text": [
            "2025-07-03 02:54:52,757 - LoadTools - INFO - Model found at models/od/YOLO/ball_tracking/model_weights/ball_tracking.pt\n"
          ]
        },
        {
          "output_type": "stream",
          "name": "stderr",
          "text": [
            "INFO:LoadTools:Model found at models/od/YOLO/ball_tracking/model_weights/ball_tracking.pt\n"
          ]
        }
      ]
    },
    {
      "cell_type": "code",
      "source": [
        "import os\n",
        "import pandas as pd\n",
        "import pickle\n",
        "from tqdm import tqdm\n",
        "import re\n",
        "\n",
        "def load_data_from_videos_and_csv(video_dir, csv_path, output_dir, model, conf_threshold=0.5, baseball_class_name=\"baseball\"):\n",
        "    # 讀 CSV\n",
        "    df = pd.read_csv(csv_path)\n",
        "\n",
        "    if not os.path.exists(output_dir):\n",
        "        os.makedirs(output_dir)\n",
        "\n",
        "    video_files = [f for f in os.listdir(video_dir) if f.lower().endswith('.mp4')]\n",
        "    video_files.sort()  # 如果要排序\n",
        "\n",
        "    for vf in tqdm(video_files):\n",
        "\n",
        "        # 如果檔名中有數字超過 200，則跳過\n",
        "        numbers_in_name = [int(num) for num in re.findall(r'\\d+', vf)]\n",
        "        if any(num > 200 for num in numbers_in_name):\n",
        "            continue\n",
        "\n",
        "        # 若檔案已存在則跳過\n",
        "        video_path = os.path.join(video_dir, vf)\n",
        "        save_path = os.path.join(output_dir, f\"{os.path.splitext(vf)[0]}_baseball_trajectory_with_label.pkl\")\n",
        "        if os.path.exists(save_path):\n",
        "            print(f\"已存在: {save_path}，跳過\")\n",
        "            continue\n",
        "\n",
        "        # 抽取軌跡\n",
        "        trajectory = extract_baseball_trajectory_from_video(video_path, model, conf_threshold, baseball_class_name)\n",
        "\n",
        "        # 暫時使用完整軌跡\n",
        "        longest_segment = trajectory\n",
        "\n",
        "        if not longest_segment:\n",
        "            print(f\"警告: {vf} 找不到有效投球軌跡段，跳過\")\n",
        "            continue\n",
        "\n",
        "        row = df[df['Filename'] == vf]\n",
        "        if row.empty:\n",
        "            print(f\"警告: {vf} 在 CSV 中找不到對應標籤，跳過\")\n",
        "            continue\n",
        "        try:\n",
        "            pitch_type = row.iloc[0]['pitch_type']\n",
        "            description = row.iloc[0]['description']\n",
        "        except Exception as e:\n",
        "            print(f\"錯誤讀取標籤: {csv_path}, row: {row}, 錯誤: {e}\")\n",
        "            continue\n",
        "\n",
        "        with open(save_path, 'wb') as f:\n",
        "            pickle.dump({\n",
        "                'trajectory': longest_segment,\n",
        "                'pitch_type': pitch_type,\n",
        "                'description': description,\n",
        "            }, f)\n",
        "\n",
        "    return f\"{video_dir}:處理完成\""
      ],
      "metadata": {
        "id": "SV-pGm9Uj8h_"
      },
      "execution_count": 16,
      "outputs": []
    },
    {
      "cell_type": "code",
      "source": [
        "# 範例用法\n",
        "player_name_list = [\n",
        "    'Shohei_Ohtani_SL','Shohei_Ohtani_FS','Shohei_Ohtani_FF',\n",
        "    'Gerrit_Cole_CH','Gerrit_Cole_FF','Gerrit_Cole_SL',\n",
        "    'Yu_Darvish_FF','Yu_Darvish_FS','Yu_Darvish_SL',\n",
        "]\n",
        "player_name_list = ['Yu_Darvish_SL']\n",
        "for player_name in tqdm(player_name_list):\n",
        "  print(f\"{player_name}:開始處理\")\n",
        "  video_dir = f'/content/drive/MyDrive/Baseball Movies/{player_name}_videos_4S'\n",
        "  csv_path = f'/content/drive/MyDrive/Baseball Movies/data_csv/{player_name}.csv'\n",
        "  output_dir = f'/content/drive/MyDrive/Baseball Movies/{player_name}_videos_4S/baseball_trajectory_bbox_with_pitch_type_description'\n",
        "  load_data_from_videos_and_csv(video_dir, csv_path, output_dir, model)\n",
        "  print(f\"{player_name}:處理完成\")"
      ],
      "metadata": {
        "colab": {
          "base_uri": "https://localhost:8080/"
        },
        "id": "wg-yLc8lcqV1",
        "outputId": "0c6269fd-e3eb-42ef-ff49-74852fc38ed6",
        "collapsed": true
      },
      "execution_count": 17,
      "outputs": [
        {
          "output_type": "stream",
          "name": "stderr",
          "text": [
            "\r  0%|          | 0/1 [00:00<?, ?it/s]"
          ]
        },
        {
          "output_type": "stream",
          "name": "stdout",
          "text": [
            "Yu_Darvish_SL:開始處理\n"
          ]
        },
        {
          "output_type": "stream",
          "name": "stderr",
          "text": [
            "\n",
            "  0%|          | 0/404 [00:00<?, ?it/s]\u001b[A"
          ]
        },
        {
          "output_type": "stream",
          "name": "stdout",
          "text": [
            "已存在: /content/drive/MyDrive/Baseball Movies/Yu_Darvish_SL_videos_4S/baseball_trajectory_bbox_with_pitch_type_description/pitch_0001_baseball_trajectory_with_label.pkl，跳過\n",
            "已存在: /content/drive/MyDrive/Baseball Movies/Yu_Darvish_SL_videos_4S/baseball_trajectory_bbox_with_pitch_type_description/pitch_0002_baseball_trajectory_with_label.pkl，跳過\n",
            "已存在: /content/drive/MyDrive/Baseball Movies/Yu_Darvish_SL_videos_4S/baseball_trajectory_bbox_with_pitch_type_description/pitch_0004_baseball_trajectory_with_label.pkl，跳過\n",
            "已存在: /content/drive/MyDrive/Baseball Movies/Yu_Darvish_SL_videos_4S/baseball_trajectory_bbox_with_pitch_type_description/pitch_0005_baseball_trajectory_with_label.pkl，跳過\n",
            "已存在: /content/drive/MyDrive/Baseball Movies/Yu_Darvish_SL_videos_4S/baseball_trajectory_bbox_with_pitch_type_description/pitch_0006_baseball_trajectory_with_label.pkl，跳過\n",
            "已存在: /content/drive/MyDrive/Baseball Movies/Yu_Darvish_SL_videos_4S/baseball_trajectory_bbox_with_pitch_type_description/pitch_0008_baseball_trajectory_with_label.pkl，跳過\n",
            "已存在: /content/drive/MyDrive/Baseball Movies/Yu_Darvish_SL_videos_4S/baseball_trajectory_bbox_with_pitch_type_description/pitch_0009_baseball_trajectory_with_label.pkl，跳過\n",
            "已存在: /content/drive/MyDrive/Baseball Movies/Yu_Darvish_SL_videos_4S/baseball_trajectory_bbox_with_pitch_type_description/pitch_0010_baseball_trajectory_with_label.pkl，跳過\n",
            "已存在: /content/drive/MyDrive/Baseball Movies/Yu_Darvish_SL_videos_4S/baseball_trajectory_bbox_with_pitch_type_description/pitch_0011_baseball_trajectory_with_label.pkl，跳過\n",
            "已存在: /content/drive/MyDrive/Baseball Movies/Yu_Darvish_SL_videos_4S/baseball_trajectory_bbox_with_pitch_type_description/pitch_0012_baseball_trajectory_with_label.pkl，跳過\n",
            "已存在: /content/drive/MyDrive/Baseball Movies/Yu_Darvish_SL_videos_4S/baseball_trajectory_bbox_with_pitch_type_description/pitch_0015_baseball_trajectory_with_label.pkl，跳過\n",
            "已存在: /content/drive/MyDrive/Baseball Movies/Yu_Darvish_SL_videos_4S/baseball_trajectory_bbox_with_pitch_type_description/pitch_0016_baseball_trajectory_with_label.pkl，跳過\n",
            "已存在: /content/drive/MyDrive/Baseball Movies/Yu_Darvish_SL_videos_4S/baseball_trajectory_bbox_with_pitch_type_description/pitch_0017_baseball_trajectory_with_label.pkl，跳過\n",
            "已存在: /content/drive/MyDrive/Baseball Movies/Yu_Darvish_SL_videos_4S/baseball_trajectory_bbox_with_pitch_type_description/pitch_0018_baseball_trajectory_with_label.pkl，跳過\n",
            "已存在: /content/drive/MyDrive/Baseball Movies/Yu_Darvish_SL_videos_4S/baseball_trajectory_bbox_with_pitch_type_description/pitch_0019_baseball_trajectory_with_label.pkl，跳過\n",
            "已存在: /content/drive/MyDrive/Baseball Movies/Yu_Darvish_SL_videos_4S/baseball_trajectory_bbox_with_pitch_type_description/pitch_0020_baseball_trajectory_with_label.pkl，跳過\n",
            "已存在: /content/drive/MyDrive/Baseball Movies/Yu_Darvish_SL_videos_4S/baseball_trajectory_bbox_with_pitch_type_description/pitch_0021_baseball_trajectory_with_label.pkl，跳過\n",
            "已存在: /content/drive/MyDrive/Baseball Movies/Yu_Darvish_SL_videos_4S/baseball_trajectory_bbox_with_pitch_type_description/pitch_0022_baseball_trajectory_with_label.pkl，跳過\n",
            "已存在: /content/drive/MyDrive/Baseball Movies/Yu_Darvish_SL_videos_4S/baseball_trajectory_bbox_with_pitch_type_description/pitch_0023_baseball_trajectory_with_label.pkl，跳過\n",
            "已存在: /content/drive/MyDrive/Baseball Movies/Yu_Darvish_SL_videos_4S/baseball_trajectory_bbox_with_pitch_type_description/pitch_0025_baseball_trajectory_with_label.pkl，跳過\n",
            "已存在: /content/drive/MyDrive/Baseball Movies/Yu_Darvish_SL_videos_4S/baseball_trajectory_bbox_with_pitch_type_description/pitch_0026_baseball_trajectory_with_label.pkl，跳過\n",
            "已存在: /content/drive/MyDrive/Baseball Movies/Yu_Darvish_SL_videos_4S/baseball_trajectory_bbox_with_pitch_type_description/pitch_0027_baseball_trajectory_with_label.pkl，跳過\n",
            "已存在: /content/drive/MyDrive/Baseball Movies/Yu_Darvish_SL_videos_4S/baseball_trajectory_bbox_with_pitch_type_description/pitch_0028_baseball_trajectory_with_label.pkl，跳過\n",
            "已存在: /content/drive/MyDrive/Baseball Movies/Yu_Darvish_SL_videos_4S/baseball_trajectory_bbox_with_pitch_type_description/pitch_0029_baseball_trajectory_with_label.pkl，跳過\n",
            "已存在: /content/drive/MyDrive/Baseball Movies/Yu_Darvish_SL_videos_4S/baseball_trajectory_bbox_with_pitch_type_description/pitch_0030_baseball_trajectory_with_label.pkl，跳過\n",
            "已存在: /content/drive/MyDrive/Baseball Movies/Yu_Darvish_SL_videos_4S/baseball_trajectory_bbox_with_pitch_type_description/pitch_0031_baseball_trajectory_with_label.pkl，跳過\n",
            "已存在: /content/drive/MyDrive/Baseball Movies/Yu_Darvish_SL_videos_4S/baseball_trajectory_bbox_with_pitch_type_description/pitch_0032_baseball_trajectory_with_label.pkl，跳過\n",
            "已存在: /content/drive/MyDrive/Baseball Movies/Yu_Darvish_SL_videos_4S/baseball_trajectory_bbox_with_pitch_type_description/pitch_0033_baseball_trajectory_with_label.pkl，跳過\n",
            "已存在: /content/drive/MyDrive/Baseball Movies/Yu_Darvish_SL_videos_4S/baseball_trajectory_bbox_with_pitch_type_description/pitch_0034_baseball_trajectory_with_label.pkl，跳過\n",
            "已存在: /content/drive/MyDrive/Baseball Movies/Yu_Darvish_SL_videos_4S/baseball_trajectory_bbox_with_pitch_type_description/pitch_0035_baseball_trajectory_with_label.pkl，跳過\n",
            "已存在: /content/drive/MyDrive/Baseball Movies/Yu_Darvish_SL_videos_4S/baseball_trajectory_bbox_with_pitch_type_description/pitch_0036_baseball_trajectory_with_label.pkl，跳過\n",
            "已存在: /content/drive/MyDrive/Baseball Movies/Yu_Darvish_SL_videos_4S/baseball_trajectory_bbox_with_pitch_type_description/pitch_0037_baseball_trajectory_with_label.pkl，跳過\n",
            "已存在: /content/drive/MyDrive/Baseball Movies/Yu_Darvish_SL_videos_4S/baseball_trajectory_bbox_with_pitch_type_description/pitch_0038_baseball_trajectory_with_label.pkl，跳過\n",
            "已存在: /content/drive/MyDrive/Baseball Movies/Yu_Darvish_SL_videos_4S/baseball_trajectory_bbox_with_pitch_type_description/pitch_0039_baseball_trajectory_with_label.pkl，跳過\n",
            "已存在: /content/drive/MyDrive/Baseball Movies/Yu_Darvish_SL_videos_4S/baseball_trajectory_bbox_with_pitch_type_description/pitch_0040_baseball_trajectory_with_label.pkl，跳過\n",
            "已存在: /content/drive/MyDrive/Baseball Movies/Yu_Darvish_SL_videos_4S/baseball_trajectory_bbox_with_pitch_type_description/pitch_0041_baseball_trajectory_with_label.pkl，跳過\n",
            "已存在: /content/drive/MyDrive/Baseball Movies/Yu_Darvish_SL_videos_4S/baseball_trajectory_bbox_with_pitch_type_description/pitch_0042_baseball_trajectory_with_label.pkl，跳過\n",
            "已存在: /content/drive/MyDrive/Baseball Movies/Yu_Darvish_SL_videos_4S/baseball_trajectory_bbox_with_pitch_type_description/pitch_0043_baseball_trajectory_with_label.pkl，跳過\n",
            "已存在: /content/drive/MyDrive/Baseball Movies/Yu_Darvish_SL_videos_4S/baseball_trajectory_bbox_with_pitch_type_description/pitch_0044_baseball_trajectory_with_label.pkl，跳過\n",
            "已存在: /content/drive/MyDrive/Baseball Movies/Yu_Darvish_SL_videos_4S/baseball_trajectory_bbox_with_pitch_type_description/pitch_0045_baseball_trajectory_with_label.pkl，跳過\n",
            "已存在: /content/drive/MyDrive/Baseball Movies/Yu_Darvish_SL_videos_4S/baseball_trajectory_bbox_with_pitch_type_description/pitch_0046_baseball_trajectory_with_label.pkl，跳過\n",
            "已存在: /content/drive/MyDrive/Baseball Movies/Yu_Darvish_SL_videos_4S/baseball_trajectory_bbox_with_pitch_type_description/pitch_0047_baseball_trajectory_with_label.pkl，跳過\n",
            "已存在: /content/drive/MyDrive/Baseball Movies/Yu_Darvish_SL_videos_4S/baseball_trajectory_bbox_with_pitch_type_description/pitch_0048_baseball_trajectory_with_label.pkl，跳過\n",
            "已存在: /content/drive/MyDrive/Baseball Movies/Yu_Darvish_SL_videos_4S/baseball_trajectory_bbox_with_pitch_type_description/pitch_0049_baseball_trajectory_with_label.pkl，跳過\n",
            "已存在: /content/drive/MyDrive/Baseball Movies/Yu_Darvish_SL_videos_4S/baseball_trajectory_bbox_with_pitch_type_description/pitch_0050_baseball_trajectory_with_label.pkl，跳過\n",
            "已存在: /content/drive/MyDrive/Baseball Movies/Yu_Darvish_SL_videos_4S/baseball_trajectory_bbox_with_pitch_type_description/pitch_0051_baseball_trajectory_with_label.pkl，跳過\n",
            "已存在: /content/drive/MyDrive/Baseball Movies/Yu_Darvish_SL_videos_4S/baseball_trajectory_bbox_with_pitch_type_description/pitch_0052_baseball_trajectory_with_label.pkl，跳過\n",
            "已存在: /content/drive/MyDrive/Baseball Movies/Yu_Darvish_SL_videos_4S/baseball_trajectory_bbox_with_pitch_type_description/pitch_0053_baseball_trajectory_with_label.pkl，跳過\n",
            "已存在: /content/drive/MyDrive/Baseball Movies/Yu_Darvish_SL_videos_4S/baseball_trajectory_bbox_with_pitch_type_description/pitch_0055_baseball_trajectory_with_label.pkl，跳過\n",
            "已存在: /content/drive/MyDrive/Baseball Movies/Yu_Darvish_SL_videos_4S/baseball_trajectory_bbox_with_pitch_type_description/pitch_0065_baseball_trajectory_with_label.pkl，跳過\n",
            "已存在: /content/drive/MyDrive/Baseball Movies/Yu_Darvish_SL_videos_4S/baseball_trajectory_bbox_with_pitch_type_description/pitch_0066_baseball_trajectory_with_label.pkl，跳過\n",
            "已存在: /content/drive/MyDrive/Baseball Movies/Yu_Darvish_SL_videos_4S/baseball_trajectory_bbox_with_pitch_type_description/pitch_0067_baseball_trajectory_with_label.pkl，跳過\n",
            "已存在: /content/drive/MyDrive/Baseball Movies/Yu_Darvish_SL_videos_4S/baseball_trajectory_bbox_with_pitch_type_description/pitch_0068_baseball_trajectory_with_label.pkl，跳過\n",
            "已存在: /content/drive/MyDrive/Baseball Movies/Yu_Darvish_SL_videos_4S/baseball_trajectory_bbox_with_pitch_type_description/pitch_0069_baseball_trajectory_with_label.pkl，跳過\n",
            "已存在: /content/drive/MyDrive/Baseball Movies/Yu_Darvish_SL_videos_4S/baseball_trajectory_bbox_with_pitch_type_description/pitch_0070_baseball_trajectory_with_label.pkl，跳過\n",
            "已存在: /content/drive/MyDrive/Baseball Movies/Yu_Darvish_SL_videos_4S/baseball_trajectory_bbox_with_pitch_type_description/pitch_0071_baseball_trajectory_with_label.pkl，跳過\n",
            "已存在: /content/drive/MyDrive/Baseball Movies/Yu_Darvish_SL_videos_4S/baseball_trajectory_bbox_with_pitch_type_description/pitch_0072_baseball_trajectory_with_label.pkl，跳過\n",
            "已存在: /content/drive/MyDrive/Baseball Movies/Yu_Darvish_SL_videos_4S/baseball_trajectory_bbox_with_pitch_type_description/pitch_0073_baseball_trajectory_with_label.pkl，跳過\n",
            "已存在: /content/drive/MyDrive/Baseball Movies/Yu_Darvish_SL_videos_4S/baseball_trajectory_bbox_with_pitch_type_description/pitch_0074_baseball_trajectory_with_label.pkl，跳過\n",
            "已存在: /content/drive/MyDrive/Baseball Movies/Yu_Darvish_SL_videos_4S/baseball_trajectory_bbox_with_pitch_type_description/pitch_0075_baseball_trajectory_with_label.pkl，跳過\n",
            "已存在: /content/drive/MyDrive/Baseball Movies/Yu_Darvish_SL_videos_4S/baseball_trajectory_bbox_with_pitch_type_description/pitch_0076_baseball_trajectory_with_label.pkl，跳過\n",
            "已存在: /content/drive/MyDrive/Baseball Movies/Yu_Darvish_SL_videos_4S/baseball_trajectory_bbox_with_pitch_type_description/pitch_0077_baseball_trajectory_with_label.pkl，跳過\n",
            "已存在: /content/drive/MyDrive/Baseball Movies/Yu_Darvish_SL_videos_4S/baseball_trajectory_bbox_with_pitch_type_description/pitch_0078_baseball_trajectory_with_label.pkl，跳過\n",
            "已存在: /content/drive/MyDrive/Baseball Movies/Yu_Darvish_SL_videos_4S/baseball_trajectory_bbox_with_pitch_type_description/pitch_0079_baseball_trajectory_with_label.pkl，跳過\n"
          ]
        },
        {
          "output_type": "stream",
          "name": "stderr",
          "text": [
            "\n",
            " 16%|█▌        | 65/404 [00:11<00:57,  5.91it/s]\u001b[A\n",
            " 16%|█▋        | 66/404 [00:20<02:07,  2.64it/s]\u001b[A\n",
            " 17%|█▋        | 67/404 [00:30<03:42,  1.51it/s]\u001b[A\n",
            " 17%|█▋        | 68/404 [00:40<05:47,  1.03s/it]\u001b[A\n",
            " 17%|█▋        | 69/404 [00:51<08:43,  1.56s/it]\u001b[A\n",
            " 17%|█▋        | 70/404 [01:01<12:05,  2.17s/it]\u001b[A\n",
            " 18%|█▊        | 71/404 [01:11<16:07,  2.91s/it]\u001b[A\n",
            " 18%|█▊        | 72/404 [01:21<20:48,  3.76s/it]\u001b[A\n",
            " 18%|█▊        | 73/404 [01:30<25:34,  4.64s/it]\u001b[A\n",
            " 18%|█▊        | 74/404 [01:40<30:30,  5.55s/it]\u001b[A\n",
            " 19%|█▊        | 75/404 [01:50<35:06,  6.40s/it]\u001b[A\n",
            " 19%|█▉        | 76/404 [02:00<39:06,  7.15s/it]\u001b[A\n",
            " 19%|█▉        | 77/404 [02:10<42:26,  7.79s/it]\u001b[A\n",
            " 19%|█▉        | 78/404 [02:20<45:17,  8.34s/it]\u001b[A\n",
            " 20%|█▉        | 79/404 [02:30<47:23,  8.75s/it]\u001b[A\n",
            " 20%|█▉        | 80/404 [02:40<49:00,  9.08s/it]\u001b[A\n",
            " 20%|██        | 81/404 [02:49<50:01,  9.29s/it]\u001b[A\n",
            " 20%|██        | 82/404 [02:59<50:46,  9.46s/it]\u001b[A\n",
            " 21%|██        | 83/404 [03:09<51:10,  9.57s/it]\u001b[A\n",
            " 21%|██        | 84/404 [03:19<51:20,  9.63s/it]\u001b[A\n",
            " 21%|██        | 85/404 [03:29<51:25,  9.67s/it]\u001b[A\n",
            " 21%|██▏       | 86/404 [03:39<51:32,  9.73s/it]\u001b[A\n",
            " 22%|██▏       | 87/404 [03:49<51:44,  9.79s/it]\u001b[A\n",
            " 22%|██▏       | 88/404 [03:58<51:32,  9.79s/it]\u001b[A\n",
            " 22%|██▏       | 89/404 [04:08<51:27,  9.80s/it]\u001b[A\n",
            " 22%|██▏       | 90/404 [04:18<51:31,  9.84s/it]\u001b[A\n",
            " 23%|██▎       | 91/404 [04:29<52:13, 10.01s/it]\u001b[A\n",
            " 23%|██▎       | 92/404 [04:38<51:36,  9.93s/it]\u001b[A\n",
            " 23%|██▎       | 93/404 [04:48<51:30,  9.94s/it]\u001b[A\n",
            " 23%|██▎       | 94/404 [04:58<51:16,  9.92s/it]\u001b[A\n",
            " 24%|██▎       | 95/404 [05:08<51:03,  9.91s/it]\u001b[A\n",
            " 24%|██▍       | 96/404 [05:18<50:35,  9.86s/it]\u001b[A\n",
            " 24%|██▍       | 97/404 [05:28<50:28,  9.86s/it]\u001b[A\n",
            " 24%|██▍       | 98/404 [05:37<50:20,  9.87s/it]\u001b[A\n",
            " 25%|██▍       | 99/404 [05:47<50:19,  9.90s/it]\u001b[A\n",
            " 25%|██▍       | 100/404 [05:57<49:50,  9.84s/it]\u001b[A\n",
            " 25%|██▌       | 101/404 [06:07<49:50,  9.87s/it]\u001b[A\n",
            " 25%|██▌       | 102/404 [06:17<49:49,  9.90s/it]\u001b[A\n",
            " 25%|██▌       | 103/404 [06:27<49:38,  9.90s/it]\u001b[A\n",
            " 26%|██▌       | 104/404 [06:37<49:10,  9.83s/it]\u001b[A\n",
            " 26%|██▌       | 105/404 [06:47<49:12,  9.87s/it]\u001b[A\n",
            " 26%|██▌       | 106/404 [06:56<49:02,  9.87s/it]\u001b[A\n",
            " 26%|██▋       | 107/404 [07:06<48:53,  9.88s/it]\u001b[A\n",
            " 27%|██▋       | 108/404 [07:16<48:27,  9.82s/it]\u001b[A\n",
            " 27%|██▋       | 109/404 [07:26<48:26,  9.85s/it]\u001b[A\n",
            " 27%|██▋       | 110/404 [07:36<48:47,  9.96s/it]\u001b[A\n",
            " 27%|██▋       | 111/404 [07:46<48:42,  9.98s/it]\u001b[A\n",
            " 28%|██▊       | 112/404 [07:56<48:12,  9.91s/it]\u001b[A\n",
            " 28%|██▊       | 113/404 [08:06<48:04,  9.91s/it]\u001b[A\n",
            " 28%|██▊       | 114/404 [08:16<47:56,  9.92s/it]\u001b[A\n",
            " 28%|██▊       | 115/404 [08:26<47:53,  9.94s/it]\u001b[A\n",
            " 29%|██▊       | 116/404 [08:36<47:23,  9.87s/it]\u001b[A\n",
            " 29%|██▉       | 117/404 [08:45<47:20,  9.90s/it]\u001b[A\n",
            " 29%|██▉       | 118/404 [08:55<47:11,  9.90s/it]\u001b[A\n",
            " 29%|██▉       | 119/404 [09:05<47:03,  9.91s/it]\u001b[A\n",
            " 30%|██▉       | 120/404 [09:15<46:33,  9.84s/it]\u001b[A\n",
            " 30%|██▉       | 121/404 [09:25<46:34,  9.87s/it]\u001b[A\n",
            " 30%|███       | 122/404 [09:35<46:28,  9.89s/it]\u001b[A\n",
            " 30%|███       | 123/404 [09:45<46:18,  9.89s/it]\u001b[A\n",
            " 31%|███       | 124/404 [09:54<45:53,  9.83s/it]\u001b[A\n",
            " 31%|███       | 125/404 [10:04<45:52,  9.87s/it]\u001b[A\n",
            " 31%|███       | 126/404 [10:14<45:47,  9.88s/it]\u001b[A\n",
            " 31%|███▏      | 127/404 [10:24<45:38,  9.89s/it]\u001b[A\n",
            " 32%|███▏      | 128/404 [10:34<45:20,  9.86s/it]\u001b[A\n",
            " 32%|███▏      | 129/404 [10:44<45:43,  9.98s/it]\u001b[A\n",
            " 32%|███▏      | 130/404 [10:54<45:32,  9.97s/it]\u001b[A\n",
            " 32%|███▏      | 131/404 [11:04<45:22,  9.97s/it]\u001b[A\n",
            " 33%|███▎      | 132/404 [11:14<44:54,  9.91s/it]\u001b[A\n",
            " 33%|███▎      | 133/404 [11:24<44:51,  9.93s/it]\u001b[A\n",
            " 33%|███▎      | 134/404 [11:34<44:41,  9.93s/it]\u001b[A\n",
            " 33%|███▎      | 135/404 [11:44<44:29,  9.92s/it]\u001b[A\n",
            " 34%|███▎      | 136/404 [11:53<44:01,  9.86s/it]\u001b[A\n",
            " 34%|███▍      | 137/404 [12:03<43:54,  9.87s/it]\u001b[A\n",
            " 34%|███▍      | 138/404 [12:13<43:48,  9.88s/it]\u001b[A\n",
            " 34%|███▍      | 139/404 [12:23<43:46,  9.91s/it]\u001b[A\n",
            " 35%|███▍      | 140/404 [12:33<43:20,  9.85s/it]\u001b[A\n",
            " 35%|███▍      | 141/404 [12:43<43:20,  9.89s/it]\u001b[A\n",
            " 35%|███▌      | 142/404 [12:53<43:09,  9.88s/it]\u001b[A\n",
            " 35%|███▌      | 143/404 [13:03<42:59,  9.88s/it]\u001b[A\n",
            " 36%|███▌      | 144/404 [13:12<42:35,  9.83s/it]\u001b[A\n",
            " 36%|███▌      | 145/404 [13:22<42:29,  9.84s/it]\u001b[A\n",
            " 36%|███▌      | 146/404 [13:32<42:25,  9.87s/it]\u001b[A\n",
            " 36%|███▋      | 147/404 [13:42<42:16,  9.87s/it]\u001b[A\n",
            " 37%|███▋      | 148/404 [13:52<42:09,  9.88s/it]\u001b[A\n",
            " 37%|███▋      | 149/404 [14:02<42:00,  9.89s/it]\u001b[A\n",
            " 37%|███▋      | 150/404 [14:12<41:48,  9.88s/it]\u001b[A\n",
            " 37%|███▋      | 151/404 [14:22<41:38,  9.88s/it]\u001b[A\n",
            " 38%|███▊      | 152/404 [14:31<41:15,  9.82s/it]\u001b[A\n",
            " 38%|███▊      | 153/404 [14:41<41:16,  9.87s/it]\u001b[A\n",
            " 38%|███▊      | 154/404 [14:51<41:11,  9.89s/it]\u001b[A\n",
            " 38%|███▊      | 155/404 [15:01<41:04,  9.90s/it]\u001b[A\n",
            " 39%|███▊      | 156/404 [15:11<40:39,  9.84s/it]\u001b[A\n",
            " 39%|███▉      | 157/404 [15:21<40:36,  9.86s/it]\u001b[A\n",
            " 39%|███▉      | 158/404 [15:31<40:34,  9.89s/it]\u001b[A\n",
            " 39%|███▉      | 159/404 [15:41<40:27,  9.91s/it]\u001b[A\n",
            " 40%|███▉      | 160/404 [15:50<40:02,  9.85s/it]\u001b[A\n",
            " 40%|███▉      | 161/404 [16:00<39:55,  9.86s/it]\u001b[A\n",
            " 40%|████      | 162/404 [16:10<39:53,  9.89s/it]\u001b[A\n",
            " 40%|████      | 163/404 [16:20<39:42,  9.89s/it]\u001b[A\n",
            " 41%|████      | 164/404 [16:30<39:19,  9.83s/it]\u001b[A\n",
            " 41%|████      | 165/404 [16:40<39:11,  9.84s/it]\u001b[A\n",
            " 41%|████      | 166/404 [16:50<39:05,  9.85s/it]\u001b[A\n",
            " 41%|████▏     | 167/404 [17:00<39:04,  9.89s/it]\u001b[A\n",
            " 42%|████▏     | 168/404 [17:09<38:59,  9.91s/it]\u001b[A\n",
            " 42%|████▏     | 169/404 [17:19<38:50,  9.92s/it]\u001b[A\n",
            " 42%|████▏     | 170/404 [17:29<38:36,  9.90s/it]\u001b[A\n",
            " 42%|████▏     | 171/404 [17:39<38:21,  9.88s/it]\u001b[A\n",
            "100%|██████████| 404/404 [17:49<00:00,  2.65s/it]\n",
            "100%|██████████| 1/1 [17:49<00:00, 1069.41s/it]"
          ]
        },
        {
          "output_type": "stream",
          "name": "stdout",
          "text": [
            "Yu_Darvish_SL:處理完成\n"
          ]
        },
        {
          "output_type": "stream",
          "name": "stderr",
          "text": [
            "\n"
          ]
        }
      ]
    },
    {
      "cell_type": "code",
      "source": [],
      "metadata": {
        "id": "JqYhYHnNj8kw"
      },
      "execution_count": 17,
      "outputs": []
    },
    {
      "cell_type": "code",
      "source": [],
      "metadata": {
        "id": "Hv2GNiG1j8nx"
      },
      "execution_count": 17,
      "outputs": []
    }
  ]
}