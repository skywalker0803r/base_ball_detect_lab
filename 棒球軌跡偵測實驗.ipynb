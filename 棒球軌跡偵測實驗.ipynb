{
  "nbformat": 4,
  "nbformat_minor": 0,
  "metadata": {
    "colab": {
      "provenance": [],
      "gpuType": "T4",
      "authorship_tag": "ABX9TyOwzfvdlJxqEVWSGGuAxDih",
      "include_colab_link": true
    },
    "kernelspec": {
      "name": "python3",
      "display_name": "Python 3"
    },
    "language_info": {
      "name": "python"
    },
    "accelerator": "GPU"
  },
  "cells": [
    {
      "cell_type": "markdown",
      "metadata": {
        "id": "view-in-github",
        "colab_type": "text"
      },
      "source": [
        "<a href=\"https://colab.research.google.com/github/skywalker0803r/base_ball_detect_lab/blob/main/%E6%A3%92%E7%90%83%E8%BB%8C%E8%B7%A1%E5%81%B5%E6%B8%AC%E5%AF%A6%E9%A9%97.ipynb\" target=\"_parent\"><img src=\"https://colab.research.google.com/assets/colab-badge.svg\" alt=\"Open In Colab\"/></a>"
      ]
    },
    {
      "cell_type": "code",
      "execution_count": 1,
      "metadata": {
        "id": "22NOVOVIWi0I"
      },
      "outputs": [],
      "source": [
        "#!pip install baseballcv ultralytics"
      ]
    },
    {
      "cell_type": "code",
      "source": [
        "from baseballcv.functions import LoadTools\n",
        "from ultralytics import YOLO\n",
        "\n",
        "# 以偵測棒球為例\n",
        "load_tools = LoadTools()\n",
        "model_path = load_tools.load_model(\"ball_tracking\")  # 會自動下載模型並返回路徑\n",
        "\n",
        "model = YOLO(model_path)\n",
        "results = model.predict(\"/content/彩色中央區域.png\", imgsz=640,device='cuda:0')"
      ],
      "metadata": {
        "colab": {
          "base_uri": "https://localhost:8080/"
        },
        "collapsed": true,
        "id": "MBgmVAFDXIHx",
        "outputId": "03049041-7e1c-4340-8f04-857318e97596"
      },
      "execution_count": 2,
      "outputs": [
        {
          "output_type": "stream",
          "name": "stdout",
          "text": [
            "Creating new Ultralytics Settings v0.0.6 file ✅ \n",
            "View Ultralytics Settings with 'yolo settings' or at '/root/.config/Ultralytics/settings.json'\n",
            "Update Settings with 'yolo settings key=value', i.e. 'yolo settings runs_dir=path/to/dir'. For help see https://docs.ultralytics.com/quickstart/#ultralytics-settings.\n",
            "2025-06-17 05:57:28,184 - LoadTools - INFO - Model downloaded to models/od/YOLO/ball_tracking/model_weights/ball_tracking.pt\n"
          ]
        },
        {
          "output_type": "stream",
          "name": "stderr",
          "text": [
            "INFO:LoadTools:Model downloaded to models/od/YOLO/ball_tracking/model_weights/ball_tracking.pt\n"
          ]
        },
        {
          "output_type": "stream",
          "name": "stdout",
          "text": [
            "\n",
            "image 1/1 /content/彩色中央區域.png: 576x640 2 baseballs, 82.5ms\n",
            "Speed: 18.9ms preprocess, 82.5ms inference, 345.8ms postprocess per image at shape (1, 3, 576, 640)\n"
          ]
        }
      ]
    },
    {
      "cell_type": "code",
      "source": [
        "import cv2\n",
        "import matplotlib.pyplot as plt\n",
        "def draw_ultralytics_results(results_list, conf_threshold=0.5):\n",
        "    # 預設只畫第一張\n",
        "    results = results_list[0]\n",
        "\n",
        "    img = results.orig_img.copy()  # 取得原始圖片 numpy 陣列\n",
        "    names = results.names  # 類別名稱字典 {id: label}\n",
        "    boxes = results.boxes.xyxy.cpu().numpy()  # 預測框座標 (N,4) [x1,y1,x2,y2]\n",
        "    scores = results.boxes.conf.cpu().numpy()  # 信心度 (N,)\n",
        "    class_ids = results.boxes.cls.cpu().numpy().astype(int)  # 類別ID (N,)\n",
        "\n",
        "    for box, score, cls_id in zip(boxes, scores, class_ids):\n",
        "        if score < conf_threshold:\n",
        "            continue  # 忽略信心度低的\n",
        "\n",
        "        x1, y1, x2, y2 = box.astype(int)\n",
        "        label = names.get(cls_id, str(cls_id))\n",
        "        text = f\"{label} {score:.2f}\"\n",
        "\n",
        "        # 畫邊框 (綠色)\n",
        "        cv2.rectangle(img, (x1, y1), (x2, y2), (0, 255, 0), 2)\n",
        "        # 畫標籤文字 (藍色)\n",
        "        cv2.putText(img, text, (x1, y1 - 6), cv2.FONT_HERSHEY_SIMPLEX, 0.5, (255, 0, 0), 1)\n",
        "\n",
        "    # 用 matplotlib 顯示 (RGB 格式)\n",
        "    plt.figure(figsize=(10, 8))\n",
        "    plt.imshow(cv2.cvtColor(img, cv2.COLOR_BGR2RGB))\n",
        "    plt.axis('off')\n",
        "    plt.title(f\"YOLOv8 Detection Result (conf > {conf_threshold})\")\n",
        "    plt.show()\n",
        "\n",
        "# 呼叫時可用預設 0.5 門檻\n",
        "draw_ultralytics_results(results)"
      ],
      "metadata": {
        "id": "EUBSAhm3Z87f"
      },
      "execution_count": null,
      "outputs": []
    },
    {
      "cell_type": "code",
      "source": [
        "#/content/pitch_0001.mp4\n",
        "#幫我寫一個函數 該函數基於前面實驗成功可以偵測單張棒球位置的 draw_ultralytics_results\n",
        "#我希望輸入這個影片他會輸出完整的棒球路徑軌跡"
      ],
      "metadata": {
        "id": "Rha7TIKVbN_K"
      },
      "execution_count": 6,
      "outputs": []
    },
    {
      "cell_type": "code",
      "source": [
        "import cv2\n",
        "import matplotlib.pyplot as plt\n",
        "import numpy as np\n",
        "\n",
        "def extract_baseball_trajectory_from_video(video_path, model, conf_threshold=0.5, baseball_class_name=\"baseball\"):\n",
        "    \"\"\"\n",
        "    從影片逐幀偵測棒球位置，回傳軌跡座標列表，並畫出軌跡圖。\n",
        "\n",
        "    參數：\n",
        "        video_path: str，影片檔案路徑\n",
        "        model: 已載入的 YOLOv8 模型物件\n",
        "        conf_threshold: float，信心度門檻，低於此忽略\n",
        "        baseball_class_name: str，棒球類別名稱（依你模型的類別而定）\n",
        "\n",
        "    回傳：\n",
        "        trajectory: list of (frame_index, x_center, y_center)\n",
        "    \"\"\"\n",
        "    cap = cv2.VideoCapture(video_path)\n",
        "    if not cap.isOpened():\n",
        "        raise RuntimeError(f\"無法開啟影片檔：{video_path}\")\n",
        "\n",
        "    trajectory = []\n",
        "    frame_idx = 0\n",
        "\n",
        "    while True:\n",
        "        ret, frame = cap.read()\n",
        "        if not ret:\n",
        "            break  # 讀完了\n",
        "\n",
        "        # YOLOv8 預測，model 物件直接丟 np.ndarray 也行\n",
        "        results = model(frame,verbose=False)  # 取得 list[Results]\n",
        "\n",
        "        # 因為只處理一張圖，所以取 results[0]\n",
        "        res = results[0]\n",
        "\n",
        "        # 取得類別名稱與boxes/conf\n",
        "        names = res.names\n",
        "        boxes = res.boxes.xyxy.cpu().numpy()\n",
        "        scores = res.boxes.conf.cpu().numpy()\n",
        "        class_ids = res.boxes.cls.cpu().numpy().astype(int)\n",
        "\n",
        "        # 找出棒球位置（第一個符合信心度且是棒球的框）\n",
        "        ball_found = False\n",
        "        for box, score, cls_id in zip(boxes, scores, class_ids):\n",
        "            if score < conf_threshold:\n",
        "                continue\n",
        "            label = names.get(cls_id, str(cls_id))\n",
        "            if label == baseball_class_name:\n",
        "                x1, y1, x2, y2 = box.astype(int)  # <-- 修正這行\n",
        "                x_center = (x1 + x2) / 2\n",
        "                y_center = (y1 + y2) / 2\n",
        "                trajectory.append((frame_idx, x_center, y_center))\n",
        "                ball_found = True\n",
        "                print(frame_idx,'找到棒球')#同時把畫面畫出來\n",
        "                # 畫框與標籤\n",
        "                text = f\"{label} {score:.2f}\"\n",
        "                cv2.rectangle(frame, (x1, y1), (x2, y2), (0, 255, 0), 2)\n",
        "                cv2.putText(frame, text, (x1, y1 - 6), cv2.FONT_HERSHEY_SIMPLEX, 0.5, (255, 0, 0), 1)\n",
        "                break\n",
        "\n",
        "        # 如果該幀沒找到棒球，也可以記錄 None 或忽略\n",
        "        if not ball_found:\n",
        "            trajectory.append((frame_idx, None, None))\n",
        "\n",
        "        # 顯示圖片（用 matplotlib）\n",
        "        if ball_found:\n",
        "          frame_rgb = cv2.cvtColor(frame, cv2.COLOR_BGR2RGB)\n",
        "          plt.figure(figsize=(8, 6))\n",
        "          plt.imshow(frame_rgb)\n",
        "          plt.axis('off')\n",
        "          plt.title(f\"Frame {frame_idx}\")\n",
        "          plt.show()\n",
        "\n",
        "        # 準備進下一個迴圈\n",
        "        frame_idx += 1\n",
        "\n",
        "    cap.release()\n",
        "    # 畫出軌跡（濾掉 None）\n",
        "    xs = [p[1] for p in trajectory if p[1] is not None]\n",
        "    ys = [p[2] for p in trajectory if p[2] is not None]\n",
        "\n",
        "    plt.figure(figsize=(12, 8))\n",
        "    plt.title(\"Baseball Trajectory\")\n",
        "    plt.xlabel(\"X (pixels)\")\n",
        "    plt.ylabel(\"Y (pixels)\")\n",
        "    plt.gca().invert_yaxis()  # 影像座標Y軸向下，畫圖翻轉讓Y軸向上\n",
        "\n",
        "    plt.plot(xs, ys, marker='o', linestyle='-', color='r')\n",
        "    plt.scatter(xs, ys, color='b', s=10)\n",
        "    plt.show()\n",
        "\n",
        "    return trajectory\n",
        "# 測試\n",
        "trajectory = extract_baseball_trajectory_from_video(video_path='/content/pitch_0001.mp4', model=model, conf_threshold=0.5, baseball_class_name=\"baseball\")"
      ],
      "metadata": {
        "collapsed": true,
        "id": "Ypy1aB0RaM9C"
      },
      "execution_count": null,
      "outputs": []
    },
    {
      "cell_type": "code",
      "source": [
        "trajectory"
      ],
      "metadata": {
        "id": "svagLqEYh-qr"
      },
      "execution_count": null,
      "outputs": []
    },
    {
      "cell_type": "code",
      "source": [
        "\n",
        "def extract_longest_valid_segment(trajectory):\n",
        "    max_len = 0\n",
        "    current = []\n",
        "    best = []\n",
        "\n",
        "    for item in trajectory:\n",
        "        frame_idx, x, y = item\n",
        "        if x is not None and y is not None:\n",
        "            current.append(item)\n",
        "        else:\n",
        "            if len(current) > max_len:\n",
        "                max_len = len(current)\n",
        "                best = current\n",
        "            current = []\n",
        "    # 最後一段也可能是最長的\n",
        "    if len(current) > max_len:\n",
        "        best = current\n",
        "\n",
        "    return best\n",
        "# 假設你已經有 trajectory\n",
        "longest_segment = extract_longest_valid_segment(trajectory)\n",
        "\n",
        "# 印出結果\n",
        "for frame_idx, x, y in longest_segment:\n",
        "    print(f\"Frame {frame_idx}: x={x}, y={y}\")"
      ],
      "metadata": {
        "id": "CCI_A_fNcLwH"
      },
      "execution_count": null,
      "outputs": []
    },
    {
      "cell_type": "code",
      "source": [
        "import matplotlib.pyplot as plt\n",
        "import matplotlib.animation as animation\n",
        "from IPython.display import HTML\n",
        "\n",
        "def animate_trajectory(segment):\n",
        "    xs = [x for _, x, _ in segment]\n",
        "    ys = [y for _, _, y in segment]\n",
        "\n",
        "    fig, ax = plt.subplots(figsize=(8, 6))\n",
        "    ax.set_xlim(min(xs) - 10, max(xs) + 10)\n",
        "    ax.set_ylim(max(ys) + 10, min(ys) - 10)\n",
        "    ax.set_title(\"Baseball Trajectory Animation\")\n",
        "    ax.set_xlabel(\"X (pixels)\")\n",
        "    ax.set_ylabel(\"Y (pixels)\")\n",
        "    ax.grid(True)\n",
        "\n",
        "    scat, = ax.plot([], [], 'ro', markersize=5)\n",
        "    line, = ax.plot([], [], 'b-', linewidth=2)\n",
        "\n",
        "    def init():\n",
        "        scat.set_data([], [])\n",
        "        line.set_data([], [])\n",
        "        return scat, line\n",
        "\n",
        "    def update(frame):\n",
        "        x_data = xs[:frame+1]\n",
        "        y_data = ys[:frame+1]\n",
        "        scat.set_data([x_data[-1]], [y_data[-1]])  # ✅ 修正為列表\n",
        "        line.set_data(x_data, y_data)\n",
        "        return scat, line\n",
        "\n",
        "    ani = animation.FuncAnimation(\n",
        "        fig, update, frames=len(xs),\n",
        "        init_func=init, blit=True, interval=200, repeat=False\n",
        "    )\n",
        "\n",
        "    plt.close(fig)  # 防止重複顯示空圖\n",
        "    return HTML(ani.to_jshtml())  # ✅ Colab 上播放動畫\n",
        "\n",
        "# 顯示動畫\n",
        "animate_trajectory(longest_segment)\n"
      ],
      "metadata": {
        "id": "WDvHPAWxiQvA"
      },
      "execution_count": null,
      "outputs": []
    },
    {
      "cell_type": "code",
      "source": [
        "import matplotlib.pyplot as plt\n",
        "import matplotlib.animation as animation\n",
        "from IPython.display import Image\n",
        "import os\n",
        "\n",
        "def animate_trajectory_and_save(segment, save_path='trajectory.gif'):\n",
        "    xs = [x for _, x, _ in segment]\n",
        "    ys = [y for _, _, y in segment]\n",
        "\n",
        "    fig, ax = plt.subplots(figsize=(8, 6))\n",
        "    ax.set_xlim(min(xs) - 10, max(xs) + 10)\n",
        "    ax.set_ylim(max(ys) + 10, min(ys) - 10)\n",
        "    ax.set_title(\"Baseball Trajectory Animation\")\n",
        "    ax.set_xlabel(\"X (pixels)\")\n",
        "    ax.set_ylabel(\"Y (pixels)\")\n",
        "    ax.grid(True)\n",
        "\n",
        "    scat, = ax.plot([], [], 'ro', markersize=5)\n",
        "    line, = ax.plot([], [], 'b-', linewidth=2)\n",
        "\n",
        "    def init():\n",
        "        scat.set_data([], [])\n",
        "        line.set_data([], [])\n",
        "        return scat, line\n",
        "\n",
        "    def update(frame):\n",
        "        x_data = xs[:frame+1]\n",
        "        y_data = ys[:frame+1]\n",
        "        scat.set_data([x_data[-1]], [y_data[-1]])\n",
        "        line.set_data(x_data, y_data)\n",
        "        return scat, line\n",
        "\n",
        "    ani = animation.FuncAnimation(\n",
        "        fig, update, frames=len(xs),\n",
        "        init_func=init, blit=True, interval=200, repeat=False\n",
        "    )\n",
        "\n",
        "    # 儲存為 .gif 使用 Pillow writer\n",
        "    ani.save(save_path, writer='pillow', fps=5)  # 每秒5幀\n",
        "    plt.close(fig)\n",
        "\n",
        "    print(f\"動畫已儲存為 {save_path}\")\n",
        "    return save_path\n"
      ],
      "metadata": {
        "id": "8toeEx-sjMli"
      },
      "execution_count": 28,
      "outputs": []
    },
    {
      "cell_type": "code",
      "source": [
        "# 儲存動畫並顯示結果\n",
        "gif_path = animate_trajectory_and_save(longest_segment, save_path='baseball_trajectory.gif')\n",
        "Image(filename=gif_path)  # 在 Jupyter 或 Colab 中顯示 .gif\n"
      ],
      "metadata": {
        "id": "SopqmKpTjObW"
      },
      "execution_count": null,
      "outputs": []
    }
  ]
}