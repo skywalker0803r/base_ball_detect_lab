{
  "nbformat": 4,
  "nbformat_minor": 0,
  "metadata": {
    "colab": {
      "provenance": [],
      "gpuType": "T4",
      "mount_file_id": "1-HUDJynpeosSNnILGC-i4fsQYxAqHLfx",
      "authorship_tag": "ABX9TyOxuSEA9H0Ni50iHzXdZ3RW",
      "include_colab_link": true
    },
    "kernelspec": {
      "name": "python3",
      "display_name": "Python 3"
    },
    "language_info": {
      "name": "python"
    },
    "accelerator": "GPU"
  },
  "cells": [
    {
      "cell_type": "markdown",
      "metadata": {
        "id": "view-in-github",
        "colab_type": "text"
      },
      "source": [
        "<a href=\"https://colab.research.google.com/github/skywalker0803r/base_ball_detect_lab/blob/main/%E6%A3%92%E7%90%83%E8%BB%8C%E8%B7%A1%E5%81%B5%E6%B8%AC_%E7%90%83%E8%B7%AF%E8%BB%8C%E8%B7%A1%E9%85%8D%E6%A8%99%E7%B1%A4_%E6%89%B9%E9%87%8F%E8%99%95%E7%90%86.ipynb\" target=\"_parent\"><img src=\"https://colab.research.google.com/assets/colab-badge.svg\" alt=\"Open In Colab\"/></a>"
      ]
    },
    {
      "cell_type": "code",
      "source": [
        "#我已經有一個函數extract_baseball_trajectory_from_video將影片pitch_0001.mp4丟進去\n",
        "#trajectory = extract_baseball_trajectory_from_video(video_path='/content/pitch_0001.mp4', model=model, conf_threshold=0.5, baseball_class_name=\"baseball\")\n",
        "#他會輸出trajectory再丟到extract_longest_valid_segment(trajectory)會回傳longest_segment(代表真正的投球軌跡)\n",
        "#我想做的事情是我有一個dir裡面放很多的mp4影片從pitch_0001.mp4到pitch_xxxx.mp4都有\n",
        "#請你自動幫我把每一筆影片的longest_segment都抽出來當作這筆樣本的X\n",
        "#再根據影片名例如pitch_0001.mp4 去我指定的csv檔案裏面\n",
        "#找到Filename等於影片名的那一行對應的description當作y\n",
        "#最後製作成batch_X(list of 每一個影片的投球軌跡),batch_y(list of 每一個影片的description)\n"
      ],
      "metadata": {
        "id": "0UT2kcl-j8fQ"
      },
      "execution_count": null,
      "outputs": []
    },
    {
      "cell_type": "code",
      "source": [
        "\n",
        "import cv2\n",
        "import matplotlib.pyplot as plt\n",
        "import numpy as np\n",
        "\n",
        "def extract_baseball_trajectory_from_video(video_path, model, conf_threshold=0.5, baseball_class_name=\"baseball\"):\n",
        "    \"\"\"\n",
        "    從影片逐幀偵測棒球位置，回傳軌跡座標列表，並畫出軌跡圖。\n",
        "\n",
        "    參數：\n",
        "        video_path: str，影片檔案路徑\n",
        "        model: 已載入的 YOLOv8 模型物件\n",
        "        conf_threshold: float，信心度門檻，低於此忽略\n",
        "        baseball_class_name: str，棒球類別名稱（依你模型的類別而定）\n",
        "\n",
        "    回傳：\n",
        "        trajectory: list of (frame_index, x_center, y_center)\n",
        "    \"\"\"\n",
        "    cap = cv2.VideoCapture(video_path)\n",
        "    if not cap.isOpened():\n",
        "        raise RuntimeError(f\"無法開啟影片檔：{video_path}\")\n",
        "\n",
        "    trajectory = []\n",
        "    frame_idx = 0\n",
        "\n",
        "    while True:\n",
        "        ret, frame = cap.read()\n",
        "        if not ret:\n",
        "            break  # 讀完了\n",
        "\n",
        "        # YOLOv8 預測，model 物件直接丟 np.ndarray 也行\n",
        "        results = model(frame,verbose=False)  # 取得 list[Results]\n",
        "\n",
        "        # 因為只處理一張圖，所以取 results[0]\n",
        "        res = results[0]\n",
        "\n",
        "        # 取得類別名稱與boxes/conf\n",
        "        names = res.names\n",
        "        boxes = res.boxes.xyxy.cpu().numpy()\n",
        "        scores = res.boxes.conf.cpu().numpy()\n",
        "        class_ids = res.boxes.cls.cpu().numpy().astype(int)\n",
        "\n",
        "        # 找出棒球位置（第一個符合信心度且是棒球的框）\n",
        "        ball_found = False\n",
        "        for box, score, cls_id in zip(boxes, scores, class_ids):\n",
        "            if score < conf_threshold:\n",
        "                continue\n",
        "            label = names.get(cls_id, str(cls_id))\n",
        "            if label == baseball_class_name:\n",
        "                x1, y1, x2, y2 = box.astype(int)  # <-- 修正這行\n",
        "                x_center = (x1 + x2) / 2\n",
        "                y_center = (y1 + y2) / 2\n",
        "                trajectory.append((frame_idx, x_center, y_center))\n",
        "                ball_found = True\n",
        "                # 畫框與標籤\n",
        "                text = f\"{label} {score:.2f}\"\n",
        "                cv2.rectangle(frame, (x1, y1), (x2, y2), (0, 255, 0), 2)\n",
        "                cv2.putText(frame, text, (x1, y1 - 6), cv2.FONT_HERSHEY_SIMPLEX, 0.5, (255, 0, 0), 1)\n",
        "                break\n",
        "\n",
        "        # 如果該幀沒找到棒球，也可以記錄 None 或忽略\n",
        "        if not ball_found:\n",
        "            trajectory.append((frame_idx, None, None))\n",
        "\n",
        "        # 準備進下一個迴圈\n",
        "        frame_idx += 1\n",
        "\n",
        "    # 釋放\n",
        "    cap.release()\n",
        "    return trajectory"
      ],
      "metadata": {
        "id": "6Sil9HvemOfH"
      },
      "execution_count": null,
      "outputs": []
    },
    {
      "cell_type": "code",
      "source": [
        "def extract_longest_valid_segment(trajectory):\n",
        "\n",
        "    max_len = 0\n",
        "    current = []\n",
        "    best = []\n",
        "\n",
        "    for item in trajectory:\n",
        "        frame_idx, x, y = item\n",
        "        if x is not None and y is not None:\n",
        "            current.append(item)\n",
        "        else:\n",
        "            if len(current) > max_len:\n",
        "                max_len = len(current)\n",
        "                best = current\n",
        "            current = []\n",
        "    # 最後一段也可能是最長的\n",
        "    if len(current) > max_len:\n",
        "        best = current\n",
        "\n",
        "    if best:\n",
        "        start_idx = best[0][0]\n",
        "        end_idx = best[-1][0]\n",
        "        print(f\"選擇的段落：從 frame {start_idx} 到 frame {end_idx}，共 {len(best)} 幀\")\n",
        "    else:\n",
        "        print(\"找不到有效段落\")\n",
        "    return best\n",
        "# 假設你已經有 trajectory\n",
        "longest_segment = extract_longest_valid_segment(trajectory)"
      ],
      "metadata": {
        "colab": {
          "base_uri": "https://localhost:8080/"
        },
        "id": "RtF0v0jxmd4S",
        "outputId": "93066edf-7a69-4ca9-b201-b60f3a33aed4"
      },
      "execution_count": null,
      "outputs": [
        {
          "output_type": "stream",
          "name": "stdout",
          "text": [
            "選擇的段落：從 frame 183 到 frame 210，共 28 幀\n"
          ]
        }
      ]
    },
    {
      "cell_type": "code",
      "source": [
        "import os\n",
        "import pandas as pd\n",
        "import pickle\n",
        "from tqdm import tqdm\n",
        "\n",
        "def load_data_from_videos_and_csv(video_dir, csv_path, output_dir, model, conf_threshold=0.5, baseball_class_name=\"baseball\"):\n",
        "    # 讀 CSV\n",
        "    df = pd.read_csv(csv_path)\n",
        "\n",
        "    batch_X = []\n",
        "    batch_y = []\n",
        "\n",
        "    if not os.path.exists(output_dir):\n",
        "        os.makedirs(output_dir)\n",
        "\n",
        "    video_files = [f for f in os.listdir(video_dir) if f.lower().endswith('.mp4')]\n",
        "    video_files.sort()  # 如果要排序\n",
        "\n",
        "    for vf in tqdm(video_files):\n",
        "        video_path = os.path.join(video_dir, vf)\n",
        "        print(f\"處理影片: {vf}\")\n",
        "\n",
        "        # 抽取軌跡\n",
        "        trajectory = extract_baseball_trajectory_from_video(video_path, model, conf_threshold, baseball_class_name)\n",
        "\n",
        "        # 取得最長有效段\n",
        "        #longest_segment = extract_longest_valid_segment(trajectory)\n",
        "\n",
        "        # 暫時先直接用全部軌跡 後續再處理有效段的問題 因為還不知道怎麼處理有效段\n",
        "        longest_segment = trajectory\n",
        "\n",
        "        # 若找不到有效段，跳過或記空\n",
        "        if not longest_segment:\n",
        "            print(f\"警告: {vf} 找不到有效投球軌跡段，跳過\")\n",
        "            continue\n",
        "\n",
        "        # 尋找對應label\n",
        "        row = df[df['Filename'] == vf]\n",
        "        if row.empty:\n",
        "            print(f\"警告: {vf} 在 CSV 中找不到對應標籤，跳過\")\n",
        "            continue\n",
        "        description = row.iloc[0]['description']\n",
        "\n",
        "        # 將軌跡段和label加入 batch\n",
        "        batch_X.append(longest_segment)  # 每個元素是list of (frame_idx,x,y)\n",
        "        batch_y.append(description)\n",
        "\n",
        "        # 存檔 pickle 格式：影片名_baseball_trajectory_with_description.pkl\n",
        "        save_path = os.path.join(output_dir, f\"{os.path.splitext(vf)[0]}_baseball_trajectory_with_description.pkl\")\n",
        "        with open(save_path, 'wb') as f:\n",
        "            pickle.dump({\n",
        "                'trajectory': longest_segment,\n",
        "                'description': description\n",
        "            }, f)\n",
        "        print(f\"已存檔: {save_path}\")\n",
        "\n",
        "    return batch_X, batch_y\n",
        "\n",
        "\n",
        "# 範例用法\n",
        "video_dir = '/content/drive/MyDrive/Baseball Movies/Yu_Darvish_FF_videos_4S'\n",
        "csv_path = '/content/drive/MyDrive/Baseball Movies/data_csv/Yu_Darvish_FF.csv'\n",
        "output_dir = '/content/drive/MyDrive/Baseball Movies/Yu_Darvish_FF_videos_4S/baseball_trajectory'\n",
        "batch_X, batch_y = load_data_from_videos_and_csv(video_dir, csv_path, output_dir, model)\n",
        "print(f\"總共處理影片數: {len(batch_X)}\")\n"
      ],
      "metadata": {
        "colab": {
          "base_uri": "https://localhost:8080/"
        },
        "id": "SV-pGm9Uj8h_",
        "outputId": "8c5f9a8a-3e89-4539-b728-dffd58ce18e2"
      },
      "execution_count": null,
      "outputs": [
        {
          "output_type": "stream",
          "name": "stderr",
          "text": [
            "\r  0%|          | 0/200 [00:00<?, ?it/s]"
          ]
        },
        {
          "output_type": "stream",
          "name": "stdout",
          "text": [
            "處理影片: pitch_0001.mp4\n"
          ]
        },
        {
          "output_type": "stream",
          "name": "stderr",
          "text": [
            "\r  0%|          | 1/200 [00:10<33:20, 10.05s/it]"
          ]
        },
        {
          "output_type": "stream",
          "name": "stdout",
          "text": [
            "已存檔: /content/drive/MyDrive/Baseball Movies/Yu_Darvish_FF_videos_4S/baseball_trajectory/pitch_0001_baseball_trajectory_with_description.pkl\n",
            "處理影片: pitch_0002.mp4\n"
          ]
        },
        {
          "output_type": "stream",
          "name": "stderr",
          "text": [
            "\r  1%|          | 2/200 [00:20<33:05, 10.03s/it]"
          ]
        },
        {
          "output_type": "stream",
          "name": "stdout",
          "text": [
            "已存檔: /content/drive/MyDrive/Baseball Movies/Yu_Darvish_FF_videos_4S/baseball_trajectory/pitch_0002_baseball_trajectory_with_description.pkl\n",
            "處理影片: pitch_0003.mp4\n"
          ]
        },
        {
          "output_type": "stream",
          "name": "stderr",
          "text": [
            "\r  2%|▏         | 3/200 [00:30<33:15, 10.13s/it]"
          ]
        },
        {
          "output_type": "stream",
          "name": "stdout",
          "text": [
            "已存檔: /content/drive/MyDrive/Baseball Movies/Yu_Darvish_FF_videos_4S/baseball_trajectory/pitch_0003_baseball_trajectory_with_description.pkl\n",
            "處理影片: pitch_0004.mp4\n"
          ]
        },
        {
          "output_type": "stream",
          "name": "stderr",
          "text": [
            "\r  2%|▏         | 4/200 [00:40<33:12, 10.16s/it]"
          ]
        },
        {
          "output_type": "stream",
          "name": "stdout",
          "text": [
            "已存檔: /content/drive/MyDrive/Baseball Movies/Yu_Darvish_FF_videos_4S/baseball_trajectory/pitch_0004_baseball_trajectory_with_description.pkl\n",
            "處理影片: pitch_0005.mp4\n"
          ]
        },
        {
          "output_type": "stream",
          "name": "stderr",
          "text": [
            "\r  2%|▎         | 5/200 [00:50<33:01, 10.16s/it]"
          ]
        },
        {
          "output_type": "stream",
          "name": "stdout",
          "text": [
            "已存檔: /content/drive/MyDrive/Baseball Movies/Yu_Darvish_FF_videos_4S/baseball_trajectory/pitch_0005_baseball_trajectory_with_description.pkl\n",
            "處理影片: pitch_0006.mp4\n"
          ]
        },
        {
          "output_type": "stream",
          "name": "stderr",
          "text": [
            "\r  3%|▎         | 6/200 [01:00<32:55, 10.18s/it]"
          ]
        },
        {
          "output_type": "stream",
          "name": "stdout",
          "text": [
            "已存檔: /content/drive/MyDrive/Baseball Movies/Yu_Darvish_FF_videos_4S/baseball_trajectory/pitch_0006_baseball_trajectory_with_description.pkl\n",
            "處理影片: pitch_0007.mp4\n"
          ]
        },
        {
          "output_type": "stream",
          "name": "stderr",
          "text": [
            "\r  4%|▎         | 7/200 [01:10<32:34, 10.13s/it]"
          ]
        },
        {
          "output_type": "stream",
          "name": "stdout",
          "text": [
            "已存檔: /content/drive/MyDrive/Baseball Movies/Yu_Darvish_FF_videos_4S/baseball_trajectory/pitch_0007_baseball_trajectory_with_description.pkl\n",
            "處理影片: pitch_0008.mp4\n"
          ]
        },
        {
          "output_type": "stream",
          "name": "stderr",
          "text": [
            "\r  4%|▍         | 8/200 [01:21<32:47, 10.25s/it]"
          ]
        },
        {
          "output_type": "stream",
          "name": "stdout",
          "text": [
            "已存檔: /content/drive/MyDrive/Baseball Movies/Yu_Darvish_FF_videos_4S/baseball_trajectory/pitch_0008_baseball_trajectory_with_description.pkl\n",
            "處理影片: pitch_0009.mp4\n"
          ]
        },
        {
          "output_type": "stream",
          "name": "stderr",
          "text": [
            "\r  4%|▍         | 9/200 [01:31<32:42, 10.27s/it]"
          ]
        },
        {
          "output_type": "stream",
          "name": "stdout",
          "text": [
            "已存檔: /content/drive/MyDrive/Baseball Movies/Yu_Darvish_FF_videos_4S/baseball_trajectory/pitch_0009_baseball_trajectory_with_description.pkl\n",
            "處理影片: pitch_0010.mp4\n"
          ]
        },
        {
          "output_type": "stream",
          "name": "stderr",
          "text": [
            "\r  5%|▌         | 10/200 [01:42<32:42, 10.33s/it]"
          ]
        },
        {
          "output_type": "stream",
          "name": "stdout",
          "text": [
            "已存檔: /content/drive/MyDrive/Baseball Movies/Yu_Darvish_FF_videos_4S/baseball_trajectory/pitch_0010_baseball_trajectory_with_description.pkl\n",
            "處理影片: pitch_0011.mp4\n"
          ]
        },
        {
          "output_type": "stream",
          "name": "stderr",
          "text": [
            "\r  6%|▌         | 11/200 [01:52<32:32, 10.33s/it]"
          ]
        },
        {
          "output_type": "stream",
          "name": "stdout",
          "text": [
            "已存檔: /content/drive/MyDrive/Baseball Movies/Yu_Darvish_FF_videos_4S/baseball_trajectory/pitch_0011_baseball_trajectory_with_description.pkl\n",
            "處理影片: pitch_0012.mp4\n"
          ]
        },
        {
          "output_type": "stream",
          "name": "stderr",
          "text": [
            "\r  6%|▌         | 12/200 [02:02<32:22, 10.33s/it]"
          ]
        },
        {
          "output_type": "stream",
          "name": "stdout",
          "text": [
            "已存檔: /content/drive/MyDrive/Baseball Movies/Yu_Darvish_FF_videos_4S/baseball_trajectory/pitch_0012_baseball_trajectory_with_description.pkl\n",
            "處理影片: pitch_0013.mp4\n"
          ]
        },
        {
          "output_type": "stream",
          "name": "stderr",
          "text": [
            "\r  6%|▋         | 13/200 [02:13<32:15, 10.35s/it]"
          ]
        },
        {
          "output_type": "stream",
          "name": "stdout",
          "text": [
            "已存檔: /content/drive/MyDrive/Baseball Movies/Yu_Darvish_FF_videos_4S/baseball_trajectory/pitch_0013_baseball_trajectory_with_description.pkl\n",
            "處理影片: pitch_0014.mp4\n"
          ]
        },
        {
          "output_type": "stream",
          "name": "stderr",
          "text": [
            "\r  7%|▋         | 14/200 [02:23<32:09, 10.38s/it]"
          ]
        },
        {
          "output_type": "stream",
          "name": "stdout",
          "text": [
            "已存檔: /content/drive/MyDrive/Baseball Movies/Yu_Darvish_FF_videos_4S/baseball_trajectory/pitch_0014_baseball_trajectory_with_description.pkl\n",
            "處理影片: pitch_0015.mp4\n"
          ]
        },
        {
          "output_type": "stream",
          "name": "stderr",
          "text": [
            "\r  8%|▊         | 15/200 [02:34<32:02, 10.39s/it]"
          ]
        },
        {
          "output_type": "stream",
          "name": "stdout",
          "text": [
            "已存檔: /content/drive/MyDrive/Baseball Movies/Yu_Darvish_FF_videos_4S/baseball_trajectory/pitch_0015_baseball_trajectory_with_description.pkl\n",
            "處理影片: pitch_0016.mp4\n"
          ]
        },
        {
          "output_type": "stream",
          "name": "stderr",
          "text": [
            "\r  8%|▊         | 16/200 [02:44<31:47, 10.37s/it]"
          ]
        },
        {
          "output_type": "stream",
          "name": "stdout",
          "text": [
            "已存檔: /content/drive/MyDrive/Baseball Movies/Yu_Darvish_FF_videos_4S/baseball_trajectory/pitch_0016_baseball_trajectory_with_description.pkl\n",
            "處理影片: pitch_0017.mp4\n"
          ]
        },
        {
          "output_type": "stream",
          "name": "stderr",
          "text": [
            "\r  8%|▊         | 17/200 [02:54<31:41, 10.39s/it]"
          ]
        },
        {
          "output_type": "stream",
          "name": "stdout",
          "text": [
            "已存檔: /content/drive/MyDrive/Baseball Movies/Yu_Darvish_FF_videos_4S/baseball_trajectory/pitch_0017_baseball_trajectory_with_description.pkl\n",
            "處理影片: pitch_0018.mp4\n"
          ]
        },
        {
          "output_type": "stream",
          "name": "stderr",
          "text": [
            "\r  9%|▉         | 18/200 [03:05<31:36, 10.42s/it]"
          ]
        },
        {
          "output_type": "stream",
          "name": "stdout",
          "text": [
            "已存檔: /content/drive/MyDrive/Baseball Movies/Yu_Darvish_FF_videos_4S/baseball_trajectory/pitch_0018_baseball_trajectory_with_description.pkl\n",
            "處理影片: pitch_0019.mp4\n"
          ]
        },
        {
          "output_type": "stream",
          "name": "stderr",
          "text": [
            "\r 10%|▉         | 19/200 [03:15<31:34, 10.47s/it]"
          ]
        },
        {
          "output_type": "stream",
          "name": "stdout",
          "text": [
            "已存檔: /content/drive/MyDrive/Baseball Movies/Yu_Darvish_FF_videos_4S/baseball_trajectory/pitch_0019_baseball_trajectory_with_description.pkl\n",
            "處理影片: pitch_0020.mp4\n"
          ]
        },
        {
          "output_type": "stream",
          "name": "stderr",
          "text": [
            "\r 10%|█         | 20/200 [03:26<31:20, 10.45s/it]"
          ]
        },
        {
          "output_type": "stream",
          "name": "stdout",
          "text": [
            "已存檔: /content/drive/MyDrive/Baseball Movies/Yu_Darvish_FF_videos_4S/baseball_trajectory/pitch_0020_baseball_trajectory_with_description.pkl\n",
            "處理影片: pitch_0021.mp4\n"
          ]
        },
        {
          "output_type": "stream",
          "name": "stderr",
          "text": [
            "\r 10%|█         | 21/200 [03:36<31:03, 10.41s/it]"
          ]
        },
        {
          "output_type": "stream",
          "name": "stdout",
          "text": [
            "已存檔: /content/drive/MyDrive/Baseball Movies/Yu_Darvish_FF_videos_4S/baseball_trajectory/pitch_0021_baseball_trajectory_with_description.pkl\n",
            "處理影片: pitch_0022.mp4\n"
          ]
        },
        {
          "output_type": "stream",
          "name": "stderr",
          "text": [
            "\r 11%|█         | 22/200 [03:47<30:50, 10.39s/it]"
          ]
        },
        {
          "output_type": "stream",
          "name": "stdout",
          "text": [
            "已存檔: /content/drive/MyDrive/Baseball Movies/Yu_Darvish_FF_videos_4S/baseball_trajectory/pitch_0022_baseball_trajectory_with_description.pkl\n",
            "處理影片: pitch_0023.mp4\n"
          ]
        },
        {
          "output_type": "stream",
          "name": "stderr",
          "text": [
            "\r 12%|█▏        | 23/200 [03:57<30:44, 10.42s/it]"
          ]
        },
        {
          "output_type": "stream",
          "name": "stdout",
          "text": [
            "已存檔: /content/drive/MyDrive/Baseball Movies/Yu_Darvish_FF_videos_4S/baseball_trajectory/pitch_0023_baseball_trajectory_with_description.pkl\n",
            "處理影片: pitch_0024.mp4\n"
          ]
        },
        {
          "output_type": "stream",
          "name": "stderr",
          "text": [
            "\r 12%|█▏        | 24/200 [04:07<30:35, 10.43s/it]"
          ]
        },
        {
          "output_type": "stream",
          "name": "stdout",
          "text": [
            "已存檔: /content/drive/MyDrive/Baseball Movies/Yu_Darvish_FF_videos_4S/baseball_trajectory/pitch_0024_baseball_trajectory_with_description.pkl\n",
            "處理影片: pitch_0025.mp4\n"
          ]
        },
        {
          "output_type": "stream",
          "name": "stderr",
          "text": [
            "\r 12%|█▎        | 25/200 [04:18<30:24, 10.43s/it]"
          ]
        },
        {
          "output_type": "stream",
          "name": "stdout",
          "text": [
            "已存檔: /content/drive/MyDrive/Baseball Movies/Yu_Darvish_FF_videos_4S/baseball_trajectory/pitch_0025_baseball_trajectory_with_description.pkl\n",
            "處理影片: pitch_0026.mp4\n"
          ]
        },
        {
          "output_type": "stream",
          "name": "stderr",
          "text": [
            "\r 13%|█▎        | 26/200 [04:28<30:09, 10.40s/it]"
          ]
        },
        {
          "output_type": "stream",
          "name": "stdout",
          "text": [
            "已存檔: /content/drive/MyDrive/Baseball Movies/Yu_Darvish_FF_videos_4S/baseball_trajectory/pitch_0026_baseball_trajectory_with_description.pkl\n",
            "處理影片: pitch_0027.mp4\n"
          ]
        },
        {
          "output_type": "stream",
          "name": "stderr",
          "text": [
            "\r 14%|█▎        | 27/200 [04:39<30:02, 10.42s/it]"
          ]
        },
        {
          "output_type": "stream",
          "name": "stdout",
          "text": [
            "已存檔: /content/drive/MyDrive/Baseball Movies/Yu_Darvish_FF_videos_4S/baseball_trajectory/pitch_0027_baseball_trajectory_with_description.pkl\n",
            "處理影片: pitch_0028.mp4\n"
          ]
        },
        {
          "output_type": "stream",
          "name": "stderr",
          "text": [
            "\r 14%|█▍        | 28/200 [04:49<29:52, 10.42s/it]"
          ]
        },
        {
          "output_type": "stream",
          "name": "stdout",
          "text": [
            "已存檔: /content/drive/MyDrive/Baseball Movies/Yu_Darvish_FF_videos_4S/baseball_trajectory/pitch_0028_baseball_trajectory_with_description.pkl\n",
            "處理影片: pitch_0029.mp4\n"
          ]
        },
        {
          "output_type": "stream",
          "name": "stderr",
          "text": [
            "\r 14%|█▍        | 29/200 [05:00<29:43, 10.43s/it]"
          ]
        },
        {
          "output_type": "stream",
          "name": "stdout",
          "text": [
            "已存檔: /content/drive/MyDrive/Baseball Movies/Yu_Darvish_FF_videos_4S/baseball_trajectory/pitch_0029_baseball_trajectory_with_description.pkl\n",
            "處理影片: pitch_0030.mp4\n"
          ]
        },
        {
          "output_type": "stream",
          "name": "stderr",
          "text": [
            "\r 15%|█▌        | 30/200 [05:10<29:28, 10.40s/it]"
          ]
        },
        {
          "output_type": "stream",
          "name": "stdout",
          "text": [
            "已存檔: /content/drive/MyDrive/Baseball Movies/Yu_Darvish_FF_videos_4S/baseball_trajectory/pitch_0030_baseball_trajectory_with_description.pkl\n",
            "處理影片: pitch_0031.mp4\n"
          ]
        },
        {
          "output_type": "stream",
          "name": "stderr",
          "text": [
            "\r 16%|█▌        | 31/200 [05:20<29:14, 10.38s/it]"
          ]
        },
        {
          "output_type": "stream",
          "name": "stdout",
          "text": [
            "已存檔: /content/drive/MyDrive/Baseball Movies/Yu_Darvish_FF_videos_4S/baseball_trajectory/pitch_0031_baseball_trajectory_with_description.pkl\n",
            "處理影片: pitch_0032.mp4\n"
          ]
        },
        {
          "output_type": "stream",
          "name": "stderr",
          "text": [
            "\r 16%|█▌        | 32/200 [05:31<29:08, 10.41s/it]"
          ]
        },
        {
          "output_type": "stream",
          "name": "stdout",
          "text": [
            "已存檔: /content/drive/MyDrive/Baseball Movies/Yu_Darvish_FF_videos_4S/baseball_trajectory/pitch_0032_baseball_trajectory_with_description.pkl\n",
            "處理影片: pitch_0033.mp4\n"
          ]
        },
        {
          "output_type": "stream",
          "name": "stderr",
          "text": [
            "\r 16%|█▋        | 33/200 [05:41<29:00, 10.42s/it]"
          ]
        },
        {
          "output_type": "stream",
          "name": "stdout",
          "text": [
            "已存檔: /content/drive/MyDrive/Baseball Movies/Yu_Darvish_FF_videos_4S/baseball_trajectory/pitch_0033_baseball_trajectory_with_description.pkl\n",
            "處理影片: pitch_0034.mp4\n"
          ]
        },
        {
          "output_type": "stream",
          "name": "stderr",
          "text": [
            "\r 17%|█▋        | 34/200 [05:52<28:49, 10.42s/it]"
          ]
        },
        {
          "output_type": "stream",
          "name": "stdout",
          "text": [
            "已存檔: /content/drive/MyDrive/Baseball Movies/Yu_Darvish_FF_videos_4S/baseball_trajectory/pitch_0034_baseball_trajectory_with_description.pkl\n",
            "處理影片: pitch_0035.mp4\n"
          ]
        },
        {
          "output_type": "stream",
          "name": "stderr",
          "text": [
            "\r 18%|█▊        | 35/200 [06:02<28:30, 10.36s/it]"
          ]
        },
        {
          "output_type": "stream",
          "name": "stdout",
          "text": [
            "已存檔: /content/drive/MyDrive/Baseball Movies/Yu_Darvish_FF_videos_4S/baseball_trajectory/pitch_0035_baseball_trajectory_with_description.pkl\n",
            "處理影片: pitch_0036.mp4\n"
          ]
        },
        {
          "output_type": "stream",
          "name": "stderr",
          "text": [
            "\r 18%|█▊        | 36/200 [06:12<28:27, 10.41s/it]"
          ]
        },
        {
          "output_type": "stream",
          "name": "stdout",
          "text": [
            "已存檔: /content/drive/MyDrive/Baseball Movies/Yu_Darvish_FF_videos_4S/baseball_trajectory/pitch_0036_baseball_trajectory_with_description.pkl\n",
            "處理影片: pitch_0037.mp4\n"
          ]
        },
        {
          "output_type": "stream",
          "name": "stderr",
          "text": [
            "\r 18%|█▊        | 37/200 [06:23<28:21, 10.44s/it]"
          ]
        },
        {
          "output_type": "stream",
          "name": "stdout",
          "text": [
            "已存檔: /content/drive/MyDrive/Baseball Movies/Yu_Darvish_FF_videos_4S/baseball_trajectory/pitch_0037_baseball_trajectory_with_description.pkl\n",
            "處理影片: pitch_0038.mp4\n"
          ]
        },
        {
          "output_type": "stream",
          "name": "stderr",
          "text": [
            "\r 19%|█▉        | 38/200 [06:33<28:13, 10.45s/it]"
          ]
        },
        {
          "output_type": "stream",
          "name": "stdout",
          "text": [
            "已存檔: /content/drive/MyDrive/Baseball Movies/Yu_Darvish_FF_videos_4S/baseball_trajectory/pitch_0038_baseball_trajectory_with_description.pkl\n",
            "處理影片: pitch_0039.mp4\n"
          ]
        },
        {
          "output_type": "stream",
          "name": "stderr",
          "text": [
            "\r 20%|█▉        | 39/200 [06:44<28:01, 10.44s/it]"
          ]
        },
        {
          "output_type": "stream",
          "name": "stdout",
          "text": [
            "已存檔: /content/drive/MyDrive/Baseball Movies/Yu_Darvish_FF_videos_4S/baseball_trajectory/pitch_0039_baseball_trajectory_with_description.pkl\n",
            "處理影片: pitch_0040.mp4\n"
          ]
        },
        {
          "output_type": "stream",
          "name": "stderr",
          "text": [
            "\r 20%|██        | 40/200 [06:54<27:47, 10.42s/it]"
          ]
        },
        {
          "output_type": "stream",
          "name": "stdout",
          "text": [
            "已存檔: /content/drive/MyDrive/Baseball Movies/Yu_Darvish_FF_videos_4S/baseball_trajectory/pitch_0040_baseball_trajectory_with_description.pkl\n",
            "處理影片: pitch_0041.mp4\n"
          ]
        },
        {
          "output_type": "stream",
          "name": "stderr",
          "text": [
            "\r 20%|██        | 41/200 [07:05<27:43, 10.46s/it]"
          ]
        },
        {
          "output_type": "stream",
          "name": "stdout",
          "text": [
            "已存檔: /content/drive/MyDrive/Baseball Movies/Yu_Darvish_FF_videos_4S/baseball_trajectory/pitch_0041_baseball_trajectory_with_description.pkl\n",
            "處理影片: pitch_0042.mp4\n"
          ]
        },
        {
          "output_type": "stream",
          "name": "stderr",
          "text": [
            "\r 21%|██        | 42/200 [07:15<27:35, 10.48s/it]"
          ]
        },
        {
          "output_type": "stream",
          "name": "stdout",
          "text": [
            "已存檔: /content/drive/MyDrive/Baseball Movies/Yu_Darvish_FF_videos_4S/baseball_trajectory/pitch_0042_baseball_trajectory_with_description.pkl\n",
            "處理影片: pitch_0043.mp4\n"
          ]
        },
        {
          "output_type": "stream",
          "name": "stderr",
          "text": [
            "\r 22%|██▏       | 43/200 [07:26<27:26, 10.49s/it]"
          ]
        },
        {
          "output_type": "stream",
          "name": "stdout",
          "text": [
            "已存檔: /content/drive/MyDrive/Baseball Movies/Yu_Darvish_FF_videos_4S/baseball_trajectory/pitch_0043_baseball_trajectory_with_description.pkl\n",
            "處理影片: pitch_0044.mp4\n"
          ]
        },
        {
          "output_type": "stream",
          "name": "stderr",
          "text": [
            "\r 22%|██▏       | 44/200 [07:36<27:13, 10.47s/it]"
          ]
        },
        {
          "output_type": "stream",
          "name": "stdout",
          "text": [
            "已存檔: /content/drive/MyDrive/Baseball Movies/Yu_Darvish_FF_videos_4S/baseball_trajectory/pitch_0044_baseball_trajectory_with_description.pkl\n",
            "處理影片: pitch_0045.mp4\n"
          ]
        },
        {
          "output_type": "stream",
          "name": "stderr",
          "text": [
            "\r 22%|██▎       | 45/200 [07:47<26:58, 10.44s/it]"
          ]
        },
        {
          "output_type": "stream",
          "name": "stdout",
          "text": [
            "已存檔: /content/drive/MyDrive/Baseball Movies/Yu_Darvish_FF_videos_4S/baseball_trajectory/pitch_0045_baseball_trajectory_with_description.pkl\n",
            "處理影片: pitch_0046.mp4\n"
          ]
        },
        {
          "output_type": "stream",
          "name": "stderr",
          "text": [
            "\r 23%|██▎       | 46/200 [07:57<26:49, 10.45s/it]"
          ]
        },
        {
          "output_type": "stream",
          "name": "stdout",
          "text": [
            "已存檔: /content/drive/MyDrive/Baseball Movies/Yu_Darvish_FF_videos_4S/baseball_trajectory/pitch_0046_baseball_trajectory_with_description.pkl\n",
            "處理影片: pitch_0047.mp4\n"
          ]
        },
        {
          "output_type": "stream",
          "name": "stderr",
          "text": [
            "\r 24%|██▎       | 47/200 [08:07<26:40, 10.46s/it]"
          ]
        },
        {
          "output_type": "stream",
          "name": "stdout",
          "text": [
            "已存檔: /content/drive/MyDrive/Baseball Movies/Yu_Darvish_FF_videos_4S/baseball_trajectory/pitch_0047_baseball_trajectory_with_description.pkl\n",
            "處理影片: pitch_0048.mp4\n"
          ]
        },
        {
          "output_type": "stream",
          "name": "stderr",
          "text": [
            "\r 24%|██▍       | 48/200 [08:18<26:40, 10.53s/it]"
          ]
        },
        {
          "output_type": "stream",
          "name": "stdout",
          "text": [
            "已存檔: /content/drive/MyDrive/Baseball Movies/Yu_Darvish_FF_videos_4S/baseball_trajectory/pitch_0048_baseball_trajectory_with_description.pkl\n",
            "處理影片: pitch_0049.mp4\n"
          ]
        },
        {
          "output_type": "stream",
          "name": "stderr",
          "text": [
            "\r 24%|██▍       | 49/200 [08:29<26:26, 10.51s/it]"
          ]
        },
        {
          "output_type": "stream",
          "name": "stdout",
          "text": [
            "已存檔: /content/drive/MyDrive/Baseball Movies/Yu_Darvish_FF_videos_4S/baseball_trajectory/pitch_0049_baseball_trajectory_with_description.pkl\n",
            "處理影片: pitch_0050.mp4\n"
          ]
        },
        {
          "output_type": "stream",
          "name": "stderr",
          "text": [
            "\r 25%|██▌       | 50/200 [08:39<26:13, 10.49s/it]"
          ]
        },
        {
          "output_type": "stream",
          "name": "stdout",
          "text": [
            "已存檔: /content/drive/MyDrive/Baseball Movies/Yu_Darvish_FF_videos_4S/baseball_trajectory/pitch_0050_baseball_trajectory_with_description.pkl\n",
            "處理影片: pitch_0051.mp4\n"
          ]
        },
        {
          "output_type": "stream",
          "name": "stderr",
          "text": [
            "\r 26%|██▌       | 51/200 [08:50<26:06, 10.51s/it]"
          ]
        },
        {
          "output_type": "stream",
          "name": "stdout",
          "text": [
            "已存檔: /content/drive/MyDrive/Baseball Movies/Yu_Darvish_FF_videos_4S/baseball_trajectory/pitch_0051_baseball_trajectory_with_description.pkl\n",
            "處理影片: pitch_0052.mp4\n"
          ]
        },
        {
          "output_type": "stream",
          "name": "stderr",
          "text": [
            "\r 26%|██▌       | 52/200 [09:00<25:55, 10.51s/it]"
          ]
        },
        {
          "output_type": "stream",
          "name": "stdout",
          "text": [
            "已存檔: /content/drive/MyDrive/Baseball Movies/Yu_Darvish_FF_videos_4S/baseball_trajectory/pitch_0052_baseball_trajectory_with_description.pkl\n",
            "處理影片: pitch_0053.mp4\n"
          ]
        },
        {
          "output_type": "stream",
          "name": "stderr",
          "text": [
            "\r 26%|██▋       | 53/200 [09:11<25:43, 10.50s/it]"
          ]
        },
        {
          "output_type": "stream",
          "name": "stdout",
          "text": [
            "已存檔: /content/drive/MyDrive/Baseball Movies/Yu_Darvish_FF_videos_4S/baseball_trajectory/pitch_0053_baseball_trajectory_with_description.pkl\n",
            "處理影片: pitch_0054.mp4\n"
          ]
        },
        {
          "output_type": "stream",
          "name": "stderr",
          "text": [
            "\r 27%|██▋       | 54/200 [09:21<25:24, 10.44s/it]"
          ]
        },
        {
          "output_type": "stream",
          "name": "stdout",
          "text": [
            "已存檔: /content/drive/MyDrive/Baseball Movies/Yu_Darvish_FF_videos_4S/baseball_trajectory/pitch_0054_baseball_trajectory_with_description.pkl\n",
            "處理影片: pitch_0055.mp4\n"
          ]
        },
        {
          "output_type": "stream",
          "name": "stderr",
          "text": [
            "\r 28%|██▊       | 55/200 [09:31<25:12, 10.43s/it]"
          ]
        },
        {
          "output_type": "stream",
          "name": "stdout",
          "text": [
            "已存檔: /content/drive/MyDrive/Baseball Movies/Yu_Darvish_FF_videos_4S/baseball_trajectory/pitch_0055_baseball_trajectory_with_description.pkl\n",
            "處理影片: pitch_0056.mp4\n"
          ]
        },
        {
          "output_type": "stream",
          "name": "stderr",
          "text": [
            "\r 28%|██▊       | 56/200 [09:42<25:08, 10.47s/it]"
          ]
        },
        {
          "output_type": "stream",
          "name": "stdout",
          "text": [
            "已存檔: /content/drive/MyDrive/Baseball Movies/Yu_Darvish_FF_videos_4S/baseball_trajectory/pitch_0056_baseball_trajectory_with_description.pkl\n",
            "處理影片: pitch_0057.mp4\n"
          ]
        },
        {
          "output_type": "stream",
          "name": "stderr",
          "text": [
            "\r 28%|██▊       | 57/200 [09:52<24:58, 10.48s/it]"
          ]
        },
        {
          "output_type": "stream",
          "name": "stdout",
          "text": [
            "已存檔: /content/drive/MyDrive/Baseball Movies/Yu_Darvish_FF_videos_4S/baseball_trajectory/pitch_0057_baseball_trajectory_with_description.pkl\n",
            "處理影片: pitch_0058.mp4\n"
          ]
        },
        {
          "output_type": "stream",
          "name": "stderr",
          "text": [
            "\r 29%|██▉       | 58/200 [10:03<24:51, 10.50s/it]"
          ]
        },
        {
          "output_type": "stream",
          "name": "stdout",
          "text": [
            "已存檔: /content/drive/MyDrive/Baseball Movies/Yu_Darvish_FF_videos_4S/baseball_trajectory/pitch_0058_baseball_trajectory_with_description.pkl\n",
            "處理影片: pitch_0059.mp4\n"
          ]
        },
        {
          "output_type": "stream",
          "name": "stderr",
          "text": [
            "\r 30%|██▉       | 59/200 [10:13<24:35, 10.46s/it]"
          ]
        },
        {
          "output_type": "stream",
          "name": "stdout",
          "text": [
            "已存檔: /content/drive/MyDrive/Baseball Movies/Yu_Darvish_FF_videos_4S/baseball_trajectory/pitch_0059_baseball_trajectory_with_description.pkl\n",
            "處理影片: pitch_0060.mp4\n"
          ]
        },
        {
          "output_type": "stream",
          "name": "stderr",
          "text": [
            "\r 30%|███       | 60/200 [10:24<24:29, 10.50s/it]"
          ]
        },
        {
          "output_type": "stream",
          "name": "stdout",
          "text": [
            "已存檔: /content/drive/MyDrive/Baseball Movies/Yu_Darvish_FF_videos_4S/baseball_trajectory/pitch_0060_baseball_trajectory_with_description.pkl\n",
            "處理影片: pitch_0061.mp4\n"
          ]
        },
        {
          "output_type": "stream",
          "name": "stderr",
          "text": [
            "\r 30%|███       | 61/200 [10:34<24:21, 10.52s/it]"
          ]
        },
        {
          "output_type": "stream",
          "name": "stdout",
          "text": [
            "已存檔: /content/drive/MyDrive/Baseball Movies/Yu_Darvish_FF_videos_4S/baseball_trajectory/pitch_0061_baseball_trajectory_with_description.pkl\n",
            "處理影片: pitch_0062.mp4\n"
          ]
        },
        {
          "output_type": "stream",
          "name": "stderr",
          "text": [
            "\r 31%|███       | 62/200 [10:45<24:13, 10.54s/it]"
          ]
        },
        {
          "output_type": "stream",
          "name": "stdout",
          "text": [
            "已存檔: /content/drive/MyDrive/Baseball Movies/Yu_Darvish_FF_videos_4S/baseball_trajectory/pitch_0062_baseball_trajectory_with_description.pkl\n",
            "處理影片: pitch_0063.mp4\n"
          ]
        },
        {
          "output_type": "stream",
          "name": "stderr",
          "text": [
            "\r 32%|███▏      | 63/200 [10:56<24:01, 10.52s/it]"
          ]
        },
        {
          "output_type": "stream",
          "name": "stdout",
          "text": [
            "已存檔: /content/drive/MyDrive/Baseball Movies/Yu_Darvish_FF_videos_4S/baseball_trajectory/pitch_0063_baseball_trajectory_with_description.pkl\n",
            "處理影片: pitch_0064.mp4\n"
          ]
        },
        {
          "output_type": "stream",
          "name": "stderr",
          "text": [
            "\r 32%|███▏      | 64/200 [11:06<23:48, 10.50s/it]"
          ]
        },
        {
          "output_type": "stream",
          "name": "stdout",
          "text": [
            "已存檔: /content/drive/MyDrive/Baseball Movies/Yu_Darvish_FF_videos_4S/baseball_trajectory/pitch_0064_baseball_trajectory_with_description.pkl\n",
            "處理影片: pitch_0065.mp4\n"
          ]
        },
        {
          "output_type": "stream",
          "name": "stderr",
          "text": [
            "\r 32%|███▎      | 65/200 [11:17<23:39, 10.51s/it]"
          ]
        },
        {
          "output_type": "stream",
          "name": "stdout",
          "text": [
            "已存檔: /content/drive/MyDrive/Baseball Movies/Yu_Darvish_FF_videos_4S/baseball_trajectory/pitch_0065_baseball_trajectory_with_description.pkl\n",
            "處理影片: pitch_0066.mp4\n"
          ]
        },
        {
          "output_type": "stream",
          "name": "stderr",
          "text": [
            "\r 33%|███▎      | 66/200 [11:27<23:27, 10.50s/it]"
          ]
        },
        {
          "output_type": "stream",
          "name": "stdout",
          "text": [
            "已存檔: /content/drive/MyDrive/Baseball Movies/Yu_Darvish_FF_videos_4S/baseball_trajectory/pitch_0066_baseball_trajectory_with_description.pkl\n",
            "處理影片: pitch_0067.mp4\n"
          ]
        },
        {
          "output_type": "stream",
          "name": "stderr",
          "text": [
            "\r 34%|███▎      | 67/200 [11:38<23:18, 10.51s/it]"
          ]
        },
        {
          "output_type": "stream",
          "name": "stdout",
          "text": [
            "已存檔: /content/drive/MyDrive/Baseball Movies/Yu_Darvish_FF_videos_4S/baseball_trajectory/pitch_0067_baseball_trajectory_with_description.pkl\n",
            "處理影片: pitch_0068.mp4\n"
          ]
        },
        {
          "output_type": "stream",
          "name": "stderr",
          "text": [
            "\r 34%|███▍      | 68/200 [11:48<23:06, 10.51s/it]"
          ]
        },
        {
          "output_type": "stream",
          "name": "stdout",
          "text": [
            "已存檔: /content/drive/MyDrive/Baseball Movies/Yu_Darvish_FF_videos_4S/baseball_trajectory/pitch_0068_baseball_trajectory_with_description.pkl\n",
            "處理影片: pitch_0069.mp4\n"
          ]
        },
        {
          "output_type": "stream",
          "name": "stderr",
          "text": [
            "\r 34%|███▍      | 69/200 [11:58<22:52, 10.47s/it]"
          ]
        },
        {
          "output_type": "stream",
          "name": "stdout",
          "text": [
            "已存檔: /content/drive/MyDrive/Baseball Movies/Yu_Darvish_FF_videos_4S/baseball_trajectory/pitch_0069_baseball_trajectory_with_description.pkl\n",
            "處理影片: pitch_0070.mp4\n"
          ]
        },
        {
          "output_type": "stream",
          "name": "stderr",
          "text": [
            "\r 35%|███▌      | 70/200 [12:09<22:42, 10.48s/it]"
          ]
        },
        {
          "output_type": "stream",
          "name": "stdout",
          "text": [
            "已存檔: /content/drive/MyDrive/Baseball Movies/Yu_Darvish_FF_videos_4S/baseball_trajectory/pitch_0070_baseball_trajectory_with_description.pkl\n",
            "處理影片: pitch_0071.mp4\n"
          ]
        },
        {
          "output_type": "stream",
          "name": "stderr",
          "text": [
            "\r 36%|███▌      | 71/200 [12:19<22:34, 10.50s/it]"
          ]
        },
        {
          "output_type": "stream",
          "name": "stdout",
          "text": [
            "已存檔: /content/drive/MyDrive/Baseball Movies/Yu_Darvish_FF_videos_4S/baseball_trajectory/pitch_0071_baseball_trajectory_with_description.pkl\n",
            "處理影片: pitch_0072.mp4\n"
          ]
        },
        {
          "output_type": "stream",
          "name": "stderr",
          "text": [
            "\r 36%|███▌      | 72/200 [12:30<22:24, 10.50s/it]"
          ]
        },
        {
          "output_type": "stream",
          "name": "stdout",
          "text": [
            "已存檔: /content/drive/MyDrive/Baseball Movies/Yu_Darvish_FF_videos_4S/baseball_trajectory/pitch_0072_baseball_trajectory_with_description.pkl\n",
            "處理影片: pitch_0073.mp4\n"
          ]
        },
        {
          "output_type": "stream",
          "name": "stderr",
          "text": [
            "\r 36%|███▋      | 73/200 [12:40<22:10, 10.48s/it]"
          ]
        },
        {
          "output_type": "stream",
          "name": "stdout",
          "text": [
            "已存檔: /content/drive/MyDrive/Baseball Movies/Yu_Darvish_FF_videos_4S/baseball_trajectory/pitch_0073_baseball_trajectory_with_description.pkl\n",
            "處理影片: pitch_0074.mp4\n"
          ]
        },
        {
          "output_type": "stream",
          "name": "stderr",
          "text": [
            "\r 37%|███▋      | 74/200 [12:51<22:00, 10.48s/it]"
          ]
        },
        {
          "output_type": "stream",
          "name": "stdout",
          "text": [
            "已存檔: /content/drive/MyDrive/Baseball Movies/Yu_Darvish_FF_videos_4S/baseball_trajectory/pitch_0074_baseball_trajectory_with_description.pkl\n",
            "處理影片: pitch_0075.mp4\n"
          ]
        },
        {
          "output_type": "stream",
          "name": "stderr",
          "text": [
            "\r 38%|███▊      | 75/200 [13:01<21:53, 10.50s/it]"
          ]
        },
        {
          "output_type": "stream",
          "name": "stdout",
          "text": [
            "已存檔: /content/drive/MyDrive/Baseball Movies/Yu_Darvish_FF_videos_4S/baseball_trajectory/pitch_0075_baseball_trajectory_with_description.pkl\n",
            "處理影片: pitch_0076.mp4\n"
          ]
        },
        {
          "output_type": "stream",
          "name": "stderr",
          "text": [
            "\r 38%|███▊      | 76/200 [13:12<21:42, 10.50s/it]"
          ]
        },
        {
          "output_type": "stream",
          "name": "stdout",
          "text": [
            "已存檔: /content/drive/MyDrive/Baseball Movies/Yu_Darvish_FF_videos_4S/baseball_trajectory/pitch_0076_baseball_trajectory_with_description.pkl\n",
            "處理影片: pitch_0077.mp4\n"
          ]
        },
        {
          "output_type": "stream",
          "name": "stderr",
          "text": [
            "\r 38%|███▊      | 77/200 [13:22<21:32, 10.51s/it]"
          ]
        },
        {
          "output_type": "stream",
          "name": "stdout",
          "text": [
            "已存檔: /content/drive/MyDrive/Baseball Movies/Yu_Darvish_FF_videos_4S/baseball_trajectory/pitch_0077_baseball_trajectory_with_description.pkl\n",
            "處理影片: pitch_0078.mp4\n"
          ]
        },
        {
          "output_type": "stream",
          "name": "stderr",
          "text": [
            "\r 39%|███▉      | 78/200 [13:33<21:18, 10.48s/it]"
          ]
        },
        {
          "output_type": "stream",
          "name": "stdout",
          "text": [
            "已存檔: /content/drive/MyDrive/Baseball Movies/Yu_Darvish_FF_videos_4S/baseball_trajectory/pitch_0078_baseball_trajectory_with_description.pkl\n",
            "處理影片: pitch_0079.mp4\n"
          ]
        },
        {
          "output_type": "stream",
          "name": "stderr",
          "text": [
            "\r 40%|███▉      | 79/200 [13:43<21:07, 10.47s/it]"
          ]
        },
        {
          "output_type": "stream",
          "name": "stdout",
          "text": [
            "已存檔: /content/drive/MyDrive/Baseball Movies/Yu_Darvish_FF_videos_4S/baseball_trajectory/pitch_0079_baseball_trajectory_with_description.pkl\n",
            "處理影片: pitch_0080.mp4\n"
          ]
        },
        {
          "output_type": "stream",
          "name": "stderr",
          "text": [
            "\r 40%|████      | 80/200 [13:54<20:57, 10.48s/it]"
          ]
        },
        {
          "output_type": "stream",
          "name": "stdout",
          "text": [
            "已存檔: /content/drive/MyDrive/Baseball Movies/Yu_Darvish_FF_videos_4S/baseball_trajectory/pitch_0080_baseball_trajectory_with_description.pkl\n",
            "處理影片: pitch_0081.mp4\n"
          ]
        },
        {
          "output_type": "stream",
          "name": "stderr",
          "text": [
            "\r 40%|████      | 81/200 [14:04<20:49, 10.50s/it]"
          ]
        },
        {
          "output_type": "stream",
          "name": "stdout",
          "text": [
            "已存檔: /content/drive/MyDrive/Baseball Movies/Yu_Darvish_FF_videos_4S/baseball_trajectory/pitch_0081_baseball_trajectory_with_description.pkl\n",
            "處理影片: pitch_0082.mp4\n"
          ]
        },
        {
          "output_type": "stream",
          "name": "stderr",
          "text": [
            "\r 41%|████      | 82/200 [14:15<20:40, 10.51s/it]"
          ]
        },
        {
          "output_type": "stream",
          "name": "stdout",
          "text": [
            "已存檔: /content/drive/MyDrive/Baseball Movies/Yu_Darvish_FF_videos_4S/baseball_trajectory/pitch_0082_baseball_trajectory_with_description.pkl\n",
            "處理影片: pitch_0083.mp4\n"
          ]
        },
        {
          "output_type": "stream",
          "name": "stderr",
          "text": [
            "\r 42%|████▏     | 83/200 [14:25<20:24, 10.47s/it]"
          ]
        },
        {
          "output_type": "stream",
          "name": "stdout",
          "text": [
            "已存檔: /content/drive/MyDrive/Baseball Movies/Yu_Darvish_FF_videos_4S/baseball_trajectory/pitch_0083_baseball_trajectory_with_description.pkl\n",
            "處理影片: pitch_0084.mp4\n"
          ]
        },
        {
          "output_type": "stream",
          "name": "stderr",
          "text": [
            "\r 42%|████▏     | 84/200 [14:36<20:16, 10.48s/it]"
          ]
        },
        {
          "output_type": "stream",
          "name": "stdout",
          "text": [
            "已存檔: /content/drive/MyDrive/Baseball Movies/Yu_Darvish_FF_videos_4S/baseball_trajectory/pitch_0084_baseball_trajectory_with_description.pkl\n",
            "處理影片: pitch_0085.mp4\n"
          ]
        },
        {
          "output_type": "stream",
          "name": "stderr",
          "text": [
            "\r 42%|████▎     | 85/200 [14:46<20:07, 10.50s/it]"
          ]
        },
        {
          "output_type": "stream",
          "name": "stdout",
          "text": [
            "已存檔: /content/drive/MyDrive/Baseball Movies/Yu_Darvish_FF_videos_4S/baseball_trajectory/pitch_0085_baseball_trajectory_with_description.pkl\n",
            "處理影片: pitch_0086.mp4\n"
          ]
        },
        {
          "output_type": "stream",
          "name": "stderr",
          "text": [
            "\r 43%|████▎     | 86/200 [14:57<19:57, 10.50s/it]"
          ]
        },
        {
          "output_type": "stream",
          "name": "stdout",
          "text": [
            "已存檔: /content/drive/MyDrive/Baseball Movies/Yu_Darvish_FF_videos_4S/baseball_trajectory/pitch_0086_baseball_trajectory_with_description.pkl\n",
            "處理影片: pitch_0087.mp4\n"
          ]
        },
        {
          "output_type": "stream",
          "name": "stderr",
          "text": [
            "\r 44%|████▎     | 87/200 [15:07<19:49, 10.52s/it]"
          ]
        },
        {
          "output_type": "stream",
          "name": "stdout",
          "text": [
            "已存檔: /content/drive/MyDrive/Baseball Movies/Yu_Darvish_FF_videos_4S/baseball_trajectory/pitch_0087_baseball_trajectory_with_description.pkl\n",
            "處理影片: pitch_0088.mp4\n"
          ]
        },
        {
          "output_type": "stream",
          "name": "stderr",
          "text": [
            "\r 44%|████▍     | 88/200 [15:18<19:33, 10.47s/it]"
          ]
        },
        {
          "output_type": "stream",
          "name": "stdout",
          "text": [
            "已存檔: /content/drive/MyDrive/Baseball Movies/Yu_Darvish_FF_videos_4S/baseball_trajectory/pitch_0088_baseball_trajectory_with_description.pkl\n",
            "處理影片: pitch_0089.mp4\n"
          ]
        },
        {
          "output_type": "stream",
          "name": "stderr",
          "text": [
            "\r 44%|████▍     | 89/200 [15:28<19:24, 10.49s/it]"
          ]
        },
        {
          "output_type": "stream",
          "name": "stdout",
          "text": [
            "已存檔: /content/drive/MyDrive/Baseball Movies/Yu_Darvish_FF_videos_4S/baseball_trajectory/pitch_0089_baseball_trajectory_with_description.pkl\n",
            "處理影片: pitch_0090.mp4\n"
          ]
        },
        {
          "output_type": "stream",
          "name": "stderr",
          "text": [
            "\r 45%|████▌     | 90/200 [15:39<19:15, 10.51s/it]"
          ]
        },
        {
          "output_type": "stream",
          "name": "stdout",
          "text": [
            "已存檔: /content/drive/MyDrive/Baseball Movies/Yu_Darvish_FF_videos_4S/baseball_trajectory/pitch_0090_baseball_trajectory_with_description.pkl\n",
            "處理影片: pitch_0091.mp4\n"
          ]
        },
        {
          "output_type": "stream",
          "name": "stderr",
          "text": [
            "\r 46%|████▌     | 91/200 [15:49<19:06, 10.52s/it]"
          ]
        },
        {
          "output_type": "stream",
          "name": "stdout",
          "text": [
            "已存檔: /content/drive/MyDrive/Baseball Movies/Yu_Darvish_FF_videos_4S/baseball_trajectory/pitch_0091_baseball_trajectory_with_description.pkl\n",
            "處理影片: pitch_0092.mp4\n"
          ]
        },
        {
          "output_type": "stream",
          "name": "stderr",
          "text": [
            "\r 46%|████▌     | 92/200 [16:00<18:56, 10.52s/it]"
          ]
        },
        {
          "output_type": "stream",
          "name": "stdout",
          "text": [
            "已存檔: /content/drive/MyDrive/Baseball Movies/Yu_Darvish_FF_videos_4S/baseball_trajectory/pitch_0092_baseball_trajectory_with_description.pkl\n",
            "處理影片: pitch_0093.mp4\n"
          ]
        },
        {
          "output_type": "stream",
          "name": "stderr",
          "text": [
            "\r 46%|████▋     | 93/200 [16:10<18:34, 10.41s/it]"
          ]
        },
        {
          "output_type": "stream",
          "name": "stdout",
          "text": [
            "已存檔: /content/drive/MyDrive/Baseball Movies/Yu_Darvish_FF_videos_4S/baseball_trajectory/pitch_0093_baseball_trajectory_with_description.pkl\n",
            "處理影片: pitch_0094.mp4\n"
          ]
        },
        {
          "output_type": "stream",
          "name": "stderr",
          "text": [
            "\r 47%|████▋     | 94/200 [16:21<18:28, 10.46s/it]"
          ]
        },
        {
          "output_type": "stream",
          "name": "stdout",
          "text": [
            "已存檔: /content/drive/MyDrive/Baseball Movies/Yu_Darvish_FF_videos_4S/baseball_trajectory/pitch_0094_baseball_trajectory_with_description.pkl\n",
            "處理影片: pitch_0095.mp4\n"
          ]
        },
        {
          "output_type": "stream",
          "name": "stderr",
          "text": [
            "\r 48%|████▊     | 95/200 [16:31<18:20, 10.48s/it]"
          ]
        },
        {
          "output_type": "stream",
          "name": "stdout",
          "text": [
            "已存檔: /content/drive/MyDrive/Baseball Movies/Yu_Darvish_FF_videos_4S/baseball_trajectory/pitch_0095_baseball_trajectory_with_description.pkl\n",
            "處理影片: pitch_0096.mp4\n"
          ]
        },
        {
          "output_type": "stream",
          "name": "stderr",
          "text": [
            "\r 48%|████▊     | 96/200 [16:42<18:10, 10.48s/it]"
          ]
        },
        {
          "output_type": "stream",
          "name": "stdout",
          "text": [
            "已存檔: /content/drive/MyDrive/Baseball Movies/Yu_Darvish_FF_videos_4S/baseball_trajectory/pitch_0096_baseball_trajectory_with_description.pkl\n",
            "處理影片: pitch_0097.mp4\n"
          ]
        },
        {
          "output_type": "stream",
          "name": "stderr",
          "text": [
            "\r 48%|████▊     | 97/200 [16:52<17:55, 10.45s/it]"
          ]
        },
        {
          "output_type": "stream",
          "name": "stdout",
          "text": [
            "已存檔: /content/drive/MyDrive/Baseball Movies/Yu_Darvish_FF_videos_4S/baseball_trajectory/pitch_0097_baseball_trajectory_with_description.pkl\n",
            "處理影片: pitch_0098.mp4\n"
          ]
        },
        {
          "output_type": "stream",
          "name": "stderr",
          "text": [
            "\r 49%|████▉     | 98/200 [17:02<17:45, 10.45s/it]"
          ]
        },
        {
          "output_type": "stream",
          "name": "stdout",
          "text": [
            "已存檔: /content/drive/MyDrive/Baseball Movies/Yu_Darvish_FF_videos_4S/baseball_trajectory/pitch_0098_baseball_trajectory_with_description.pkl\n",
            "處理影片: pitch_0099.mp4\n"
          ]
        },
        {
          "output_type": "stream",
          "name": "stderr",
          "text": [
            "\r 50%|████▉     | 99/200 [17:13<17:39, 10.49s/it]"
          ]
        },
        {
          "output_type": "stream",
          "name": "stdout",
          "text": [
            "已存檔: /content/drive/MyDrive/Baseball Movies/Yu_Darvish_FF_videos_4S/baseball_trajectory/pitch_0099_baseball_trajectory_with_description.pkl\n",
            "處理影片: pitch_0100.mp4\n"
          ]
        },
        {
          "output_type": "stream",
          "name": "stderr",
          "text": [
            "\r 50%|█████     | 100/200 [17:24<17:30, 10.50s/it]"
          ]
        },
        {
          "output_type": "stream",
          "name": "stdout",
          "text": [
            "已存檔: /content/drive/MyDrive/Baseball Movies/Yu_Darvish_FF_videos_4S/baseball_trajectory/pitch_0100_baseball_trajectory_with_description.pkl\n",
            "處理影片: pitch_0101.mp4\n"
          ]
        },
        {
          "output_type": "stream",
          "name": "stderr",
          "text": [
            "\r 50%|█████     | 101/200 [17:34<17:18, 10.49s/it]"
          ]
        },
        {
          "output_type": "stream",
          "name": "stdout",
          "text": [
            "已存檔: /content/drive/MyDrive/Baseball Movies/Yu_Darvish_FF_videos_4S/baseball_trajectory/pitch_0101_baseball_trajectory_with_description.pkl\n",
            "處理影片: pitch_0102.mp4\n"
          ]
        },
        {
          "output_type": "stream",
          "name": "stderr",
          "text": [
            "\r 51%|█████     | 102/200 [17:45<17:06, 10.48s/it]"
          ]
        },
        {
          "output_type": "stream",
          "name": "stdout",
          "text": [
            "已存檔: /content/drive/MyDrive/Baseball Movies/Yu_Darvish_FF_videos_4S/baseball_trajectory/pitch_0102_baseball_trajectory_with_description.pkl\n",
            "處理影片: pitch_0103.mp4\n"
          ]
        },
        {
          "output_type": "stream",
          "name": "stderr",
          "text": [
            "\r 52%|█████▏    | 103/200 [17:55<16:58, 10.50s/it]"
          ]
        },
        {
          "output_type": "stream",
          "name": "stdout",
          "text": [
            "已存檔: /content/drive/MyDrive/Baseball Movies/Yu_Darvish_FF_videos_4S/baseball_trajectory/pitch_0103_baseball_trajectory_with_description.pkl\n",
            "處理影片: pitch_0104.mp4\n"
          ]
        },
        {
          "output_type": "stream",
          "name": "stderr",
          "text": [
            "\r 52%|█████▏    | 104/200 [18:06<16:50, 10.52s/it]"
          ]
        },
        {
          "output_type": "stream",
          "name": "stdout",
          "text": [
            "已存檔: /content/drive/MyDrive/Baseball Movies/Yu_Darvish_FF_videos_4S/baseball_trajectory/pitch_0104_baseball_trajectory_with_description.pkl\n",
            "處理影片: pitch_0105.mp4\n"
          ]
        },
        {
          "output_type": "stream",
          "name": "stderr",
          "text": [
            "\r 52%|█████▎    | 105/200 [18:16<16:41, 10.54s/it]"
          ]
        },
        {
          "output_type": "stream",
          "name": "stdout",
          "text": [
            "已存檔: /content/drive/MyDrive/Baseball Movies/Yu_Darvish_FF_videos_4S/baseball_trajectory/pitch_0105_baseball_trajectory_with_description.pkl\n",
            "處理影片: pitch_0106.mp4\n"
          ]
        },
        {
          "output_type": "stream",
          "name": "stderr",
          "text": [
            "\r 53%|█████▎    | 106/200 [18:27<16:31, 10.55s/it]"
          ]
        },
        {
          "output_type": "stream",
          "name": "stdout",
          "text": [
            "已存檔: /content/drive/MyDrive/Baseball Movies/Yu_Darvish_FF_videos_4S/baseball_trajectory/pitch_0106_baseball_trajectory_with_description.pkl\n",
            "處理影片: pitch_0107.mp4\n"
          ]
        },
        {
          "output_type": "stream",
          "name": "stderr",
          "text": [
            "\r 54%|█████▎    | 107/200 [18:37<16:17, 10.51s/it]"
          ]
        },
        {
          "output_type": "stream",
          "name": "stdout",
          "text": [
            "已存檔: /content/drive/MyDrive/Baseball Movies/Yu_Darvish_FF_videos_4S/baseball_trajectory/pitch_0107_baseball_trajectory_with_description.pkl\n",
            "處理影片: pitch_0108.mp4\n"
          ]
        },
        {
          "output_type": "stream",
          "name": "stderr",
          "text": [
            "\r 54%|█████▍    | 108/200 [18:48<16:06, 10.50s/it]"
          ]
        },
        {
          "output_type": "stream",
          "name": "stdout",
          "text": [
            "已存檔: /content/drive/MyDrive/Baseball Movies/Yu_Darvish_FF_videos_4S/baseball_trajectory/pitch_0108_baseball_trajectory_with_description.pkl\n",
            "處理影片: pitch_0109.mp4\n"
          ]
        },
        {
          "output_type": "stream",
          "name": "stderr",
          "text": [
            "\r 55%|█████▍    | 109/200 [18:58<15:57, 10.52s/it]"
          ]
        },
        {
          "output_type": "stream",
          "name": "stdout",
          "text": [
            "已存檔: /content/drive/MyDrive/Baseball Movies/Yu_Darvish_FF_videos_4S/baseball_trajectory/pitch_0109_baseball_trajectory_with_description.pkl\n",
            "處理影片: pitch_0110.mp4\n"
          ]
        },
        {
          "output_type": "stream",
          "name": "stderr",
          "text": [
            "\r 55%|█████▌    | 110/200 [19:09<15:48, 10.54s/it]"
          ]
        },
        {
          "output_type": "stream",
          "name": "stdout",
          "text": [
            "已存檔: /content/drive/MyDrive/Baseball Movies/Yu_Darvish_FF_videos_4S/baseball_trajectory/pitch_0110_baseball_trajectory_with_description.pkl\n",
            "處理影片: pitch_0111.mp4\n"
          ]
        },
        {
          "output_type": "stream",
          "name": "stderr",
          "text": [
            "\r 56%|█████▌    | 111/200 [19:19<15:38, 10.54s/it]"
          ]
        },
        {
          "output_type": "stream",
          "name": "stdout",
          "text": [
            "已存檔: /content/drive/MyDrive/Baseball Movies/Yu_Darvish_FF_videos_4S/baseball_trajectory/pitch_0111_baseball_trajectory_with_description.pkl\n",
            "處理影片: pitch_0112.mp4\n"
          ]
        },
        {
          "output_type": "stream",
          "name": "stderr",
          "text": [
            "\r 56%|█████▌    | 112/200 [19:30<15:24, 10.50s/it]"
          ]
        },
        {
          "output_type": "stream",
          "name": "stdout",
          "text": [
            "已存檔: /content/drive/MyDrive/Baseball Movies/Yu_Darvish_FF_videos_4S/baseball_trajectory/pitch_0112_baseball_trajectory_with_description.pkl\n",
            "處理影片: pitch_0113.mp4\n"
          ]
        },
        {
          "output_type": "stream",
          "name": "stderr",
          "text": [
            "\r 56%|█████▋    | 113/200 [19:40<15:14, 10.51s/it]"
          ]
        },
        {
          "output_type": "stream",
          "name": "stdout",
          "text": [
            "已存檔: /content/drive/MyDrive/Baseball Movies/Yu_Darvish_FF_videos_4S/baseball_trajectory/pitch_0113_baseball_trajectory_with_description.pkl\n",
            "處理影片: pitch_0114.mp4\n"
          ]
        },
        {
          "output_type": "stream",
          "name": "stderr",
          "text": [
            "\r 57%|█████▋    | 114/200 [19:51<15:06, 10.54s/it]"
          ]
        },
        {
          "output_type": "stream",
          "name": "stdout",
          "text": [
            "已存檔: /content/drive/MyDrive/Baseball Movies/Yu_Darvish_FF_videos_4S/baseball_trajectory/pitch_0114_baseball_trajectory_with_description.pkl\n",
            "處理影片: pitch_0115.mp4\n"
          ]
        },
        {
          "output_type": "stream",
          "name": "stderr",
          "text": [
            "\r 57%|█████▊    | 115/200 [20:02<15:02, 10.62s/it]"
          ]
        },
        {
          "output_type": "stream",
          "name": "stdout",
          "text": [
            "已存檔: /content/drive/MyDrive/Baseball Movies/Yu_Darvish_FF_videos_4S/baseball_trajectory/pitch_0115_baseball_trajectory_with_description.pkl\n",
            "處理影片: pitch_0116.mp4\n"
          ]
        },
        {
          "output_type": "stream",
          "name": "stderr",
          "text": [
            "\r 58%|█████▊    | 116/200 [20:12<14:52, 10.62s/it]"
          ]
        },
        {
          "output_type": "stream",
          "name": "stdout",
          "text": [
            "已存檔: /content/drive/MyDrive/Baseball Movies/Yu_Darvish_FF_videos_4S/baseball_trajectory/pitch_0116_baseball_trajectory_with_description.pkl\n",
            "處理影片: pitch_0117.mp4\n"
          ]
        },
        {
          "output_type": "stream",
          "name": "stderr",
          "text": [
            "\r 58%|█████▊    | 117/200 [20:23<14:35, 10.54s/it]"
          ]
        },
        {
          "output_type": "stream",
          "name": "stdout",
          "text": [
            "已存檔: /content/drive/MyDrive/Baseball Movies/Yu_Darvish_FF_videos_4S/baseball_trajectory/pitch_0117_baseball_trajectory_with_description.pkl\n",
            "處理影片: pitch_0118.mp4\n"
          ]
        },
        {
          "output_type": "stream",
          "name": "stderr",
          "text": [
            "\r 59%|█████▉    | 118/200 [20:33<14:25, 10.55s/it]"
          ]
        },
        {
          "output_type": "stream",
          "name": "stdout",
          "text": [
            "已存檔: /content/drive/MyDrive/Baseball Movies/Yu_Darvish_FF_videos_4S/baseball_trajectory/pitch_0118_baseball_trajectory_with_description.pkl\n",
            "處理影片: pitch_0119.mp4\n"
          ]
        },
        {
          "output_type": "stream",
          "name": "stderr",
          "text": [
            "\r 60%|█████▉    | 119/200 [20:44<14:19, 10.61s/it]"
          ]
        },
        {
          "output_type": "stream",
          "name": "stdout",
          "text": [
            "已存檔: /content/drive/MyDrive/Baseball Movies/Yu_Darvish_FF_videos_4S/baseball_trajectory/pitch_0119_baseball_trajectory_with_description.pkl\n",
            "處理影片: pitch_0120.mp4\n"
          ]
        },
        {
          "output_type": "stream",
          "name": "stderr",
          "text": [
            "\r 60%|██████    | 120/200 [20:55<14:08, 10.60s/it]"
          ]
        },
        {
          "output_type": "stream",
          "name": "stdout",
          "text": [
            "已存檔: /content/drive/MyDrive/Baseball Movies/Yu_Darvish_FF_videos_4S/baseball_trajectory/pitch_0120_baseball_trajectory_with_description.pkl\n",
            "處理影片: pitch_0121.mp4\n"
          ]
        },
        {
          "output_type": "stream",
          "name": "stderr",
          "text": [
            "\r 60%|██████    | 121/200 [21:05<13:59, 10.62s/it]"
          ]
        },
        {
          "output_type": "stream",
          "name": "stdout",
          "text": [
            "已存檔: /content/drive/MyDrive/Baseball Movies/Yu_Darvish_FF_videos_4S/baseball_trajectory/pitch_0121_baseball_trajectory_with_description.pkl\n",
            "處理影片: pitch_0122.mp4\n"
          ]
        },
        {
          "output_type": "stream",
          "name": "stderr",
          "text": [
            "\r 61%|██████    | 122/200 [21:16<13:47, 10.61s/it]"
          ]
        },
        {
          "output_type": "stream",
          "name": "stdout",
          "text": [
            "已存檔: /content/drive/MyDrive/Baseball Movies/Yu_Darvish_FF_videos_4S/baseball_trajectory/pitch_0122_baseball_trajectory_with_description.pkl\n",
            "處理影片: pitch_0123.mp4\n"
          ]
        },
        {
          "output_type": "stream",
          "name": "stderr",
          "text": [
            "\r 62%|██████▏   | 123/200 [21:26<13:34, 10.58s/it]"
          ]
        },
        {
          "output_type": "stream",
          "name": "stdout",
          "text": [
            "已存檔: /content/drive/MyDrive/Baseball Movies/Yu_Darvish_FF_videos_4S/baseball_trajectory/pitch_0123_baseball_trajectory_with_description.pkl\n",
            "處理影片: pitch_0124.mp4\n"
          ]
        },
        {
          "output_type": "stream",
          "name": "stderr",
          "text": [
            "\r 62%|██████▏   | 124/200 [21:37<13:24, 10.58s/it]"
          ]
        },
        {
          "output_type": "stream",
          "name": "stdout",
          "text": [
            "已存檔: /content/drive/MyDrive/Baseball Movies/Yu_Darvish_FF_videos_4S/baseball_trajectory/pitch_0124_baseball_trajectory_with_description.pkl\n",
            "處理影片: pitch_0125.mp4\n"
          ]
        },
        {
          "output_type": "stream",
          "name": "stderr",
          "text": [
            "\r 62%|██████▎   | 125/200 [21:48<13:18, 10.65s/it]"
          ]
        },
        {
          "output_type": "stream",
          "name": "stdout",
          "text": [
            "已存檔: /content/drive/MyDrive/Baseball Movies/Yu_Darvish_FF_videos_4S/baseball_trajectory/pitch_0125_baseball_trajectory_with_description.pkl\n",
            "處理影片: pitch_0126.mp4\n"
          ]
        },
        {
          "output_type": "stream",
          "name": "stderr",
          "text": [
            "\r 63%|██████▎   | 126/200 [21:58<13:07, 10.65s/it]"
          ]
        },
        {
          "output_type": "stream",
          "name": "stdout",
          "text": [
            "已存檔: /content/drive/MyDrive/Baseball Movies/Yu_Darvish_FF_videos_4S/baseball_trajectory/pitch_0126_baseball_trajectory_with_description.pkl\n",
            "處理影片: pitch_0127.mp4\n"
          ]
        },
        {
          "output_type": "stream",
          "name": "stderr",
          "text": [
            "\r 64%|██████▎   | 127/200 [22:09<12:50, 10.56s/it]"
          ]
        },
        {
          "output_type": "stream",
          "name": "stdout",
          "text": [
            "已存檔: /content/drive/MyDrive/Baseball Movies/Yu_Darvish_FF_videos_4S/baseball_trajectory/pitch_0127_baseball_trajectory_with_description.pkl\n",
            "處理影片: pitch_0128.mp4\n"
          ]
        },
        {
          "output_type": "stream",
          "name": "stderr",
          "text": [
            "\r 64%|██████▍   | 128/200 [22:19<12:41, 10.57s/it]"
          ]
        },
        {
          "output_type": "stream",
          "name": "stdout",
          "text": [
            "已存檔: /content/drive/MyDrive/Baseball Movies/Yu_Darvish_FF_videos_4S/baseball_trajectory/pitch_0128_baseball_trajectory_with_description.pkl\n",
            "處理影片: pitch_0129.mp4\n"
          ]
        },
        {
          "output_type": "stream",
          "name": "stderr",
          "text": [
            "\r 64%|██████▍   | 129/200 [22:30<12:32, 10.60s/it]"
          ]
        },
        {
          "output_type": "stream",
          "name": "stdout",
          "text": [
            "已存檔: /content/drive/MyDrive/Baseball Movies/Yu_Darvish_FF_videos_4S/baseball_trajectory/pitch_0129_baseball_trajectory_with_description.pkl\n",
            "處理影片: pitch_0130.mp4\n"
          ]
        },
        {
          "output_type": "stream",
          "name": "stderr",
          "text": [
            "\r 65%|██████▌   | 130/200 [22:41<12:27, 10.67s/it]"
          ]
        },
        {
          "output_type": "stream",
          "name": "stdout",
          "text": [
            "已存檔: /content/drive/MyDrive/Baseball Movies/Yu_Darvish_FF_videos_4S/baseball_trajectory/pitch_0130_baseball_trajectory_with_description.pkl\n",
            "處理影片: pitch_0131.mp4\n"
          ]
        },
        {
          "output_type": "stream",
          "name": "stderr",
          "text": [
            "\r 66%|██████▌   | 131/200 [22:52<12:16, 10.67s/it]"
          ]
        },
        {
          "output_type": "stream",
          "name": "stdout",
          "text": [
            "已存檔: /content/drive/MyDrive/Baseball Movies/Yu_Darvish_FF_videos_4S/baseball_trajectory/pitch_0131_baseball_trajectory_with_description.pkl\n",
            "處理影片: pitch_0132.mp4\n"
          ]
        },
        {
          "output_type": "stream",
          "name": "stderr",
          "text": [
            "\r 66%|██████▌   | 132/200 [23:02<12:00, 10.59s/it]"
          ]
        },
        {
          "output_type": "stream",
          "name": "stdout",
          "text": [
            "已存檔: /content/drive/MyDrive/Baseball Movies/Yu_Darvish_FF_videos_4S/baseball_trajectory/pitch_0132_baseball_trajectory_with_description.pkl\n",
            "處理影片: pitch_0133.mp4\n"
          ]
        },
        {
          "output_type": "stream",
          "name": "stderr",
          "text": [
            "\r 66%|██████▋   | 133/200 [23:13<11:48, 10.58s/it]"
          ]
        },
        {
          "output_type": "stream",
          "name": "stdout",
          "text": [
            "已存檔: /content/drive/MyDrive/Baseball Movies/Yu_Darvish_FF_videos_4S/baseball_trajectory/pitch_0133_baseball_trajectory_with_description.pkl\n",
            "處理影片: pitch_0134.mp4\n"
          ]
        },
        {
          "output_type": "stream",
          "name": "stderr",
          "text": [
            "\r 67%|██████▋   | 134/200 [23:23<11:37, 10.57s/it]"
          ]
        },
        {
          "output_type": "stream",
          "name": "stdout",
          "text": [
            "已存檔: /content/drive/MyDrive/Baseball Movies/Yu_Darvish_FF_videos_4S/baseball_trajectory/pitch_0134_baseball_trajectory_with_description.pkl\n",
            "處理影片: pitch_0135.mp4\n"
          ]
        },
        {
          "output_type": "stream",
          "name": "stderr",
          "text": [
            "\r 68%|██████▊   | 135/200 [23:34<11:26, 10.56s/it]"
          ]
        },
        {
          "output_type": "stream",
          "name": "stdout",
          "text": [
            "已存檔: /content/drive/MyDrive/Baseball Movies/Yu_Darvish_FF_videos_4S/baseball_trajectory/pitch_0135_baseball_trajectory_with_description.pkl\n",
            "處理影片: pitch_0136.mp4\n"
          ]
        },
        {
          "output_type": "stream",
          "name": "stderr",
          "text": [
            "\r 68%|██████▊   | 136/200 [23:44<11:15, 10.55s/it]"
          ]
        },
        {
          "output_type": "stream",
          "name": "stdout",
          "text": [
            "已存檔: /content/drive/MyDrive/Baseball Movies/Yu_Darvish_FF_videos_4S/baseball_trajectory/pitch_0136_baseball_trajectory_with_description.pkl\n",
            "處理影片: pitch_0137.mp4\n"
          ]
        },
        {
          "output_type": "stream",
          "name": "stderr",
          "text": [
            "\r 68%|██████▊   | 137/200 [23:54<11:00, 10.49s/it]"
          ]
        },
        {
          "output_type": "stream",
          "name": "stdout",
          "text": [
            "已存檔: /content/drive/MyDrive/Baseball Movies/Yu_Darvish_FF_videos_4S/baseball_trajectory/pitch_0137_baseball_trajectory_with_description.pkl\n",
            "處理影片: pitch_0138.mp4\n"
          ]
        },
        {
          "output_type": "stream",
          "name": "stderr",
          "text": [
            "\r 69%|██████▉   | 138/200 [24:05<10:52, 10.52s/it]"
          ]
        },
        {
          "output_type": "stream",
          "name": "stdout",
          "text": [
            "已存檔: /content/drive/MyDrive/Baseball Movies/Yu_Darvish_FF_videos_4S/baseball_trajectory/pitch_0138_baseball_trajectory_with_description.pkl\n",
            "處理影片: pitch_0139.mp4\n"
          ]
        },
        {
          "output_type": "stream",
          "name": "stderr",
          "text": [
            "\r 70%|██████▉   | 139/200 [24:16<10:43, 10.55s/it]"
          ]
        },
        {
          "output_type": "stream",
          "name": "stdout",
          "text": [
            "已存檔: /content/drive/MyDrive/Baseball Movies/Yu_Darvish_FF_videos_4S/baseball_trajectory/pitch_0139_baseball_trajectory_with_description.pkl\n",
            "處理影片: pitch_0140.mp4\n"
          ]
        },
        {
          "output_type": "stream",
          "name": "stderr",
          "text": [
            "\r 70%|███████   | 140/200 [24:26<10:34, 10.58s/it]"
          ]
        },
        {
          "output_type": "stream",
          "name": "stdout",
          "text": [
            "已存檔: /content/drive/MyDrive/Baseball Movies/Yu_Darvish_FF_videos_4S/baseball_trajectory/pitch_0140_baseball_trajectory_with_description.pkl\n",
            "處理影片: pitch_0141.mp4\n"
          ]
        },
        {
          "output_type": "stream",
          "name": "stderr",
          "text": [
            "\r 70%|███████   | 141/200 [24:37<10:26, 10.61s/it]"
          ]
        },
        {
          "output_type": "stream",
          "name": "stdout",
          "text": [
            "已存檔: /content/drive/MyDrive/Baseball Movies/Yu_Darvish_FF_videos_4S/baseball_trajectory/pitch_0141_baseball_trajectory_with_description.pkl\n",
            "處理影片: pitch_0142.mp4\n"
          ]
        },
        {
          "output_type": "stream",
          "name": "stderr",
          "text": [
            "\r 71%|███████   | 142/200 [24:48<10:13, 10.58s/it]"
          ]
        },
        {
          "output_type": "stream",
          "name": "stdout",
          "text": [
            "已存檔: /content/drive/MyDrive/Baseball Movies/Yu_Darvish_FF_videos_4S/baseball_trajectory/pitch_0142_baseball_trajectory_with_description.pkl\n",
            "處理影片: pitch_0143.mp4\n"
          ]
        },
        {
          "output_type": "stream",
          "name": "stderr",
          "text": [
            "\r 72%|███████▏  | 143/200 [24:58<10:01, 10.55s/it]"
          ]
        },
        {
          "output_type": "stream",
          "name": "stdout",
          "text": [
            "已存檔: /content/drive/MyDrive/Baseball Movies/Yu_Darvish_FF_videos_4S/baseball_trajectory/pitch_0143_baseball_trajectory_with_description.pkl\n",
            "處理影片: pitch_0144.mp4\n"
          ]
        },
        {
          "output_type": "stream",
          "name": "stderr",
          "text": [
            "\r 72%|███████▏  | 144/200 [25:09<09:51, 10.56s/it]"
          ]
        },
        {
          "output_type": "stream",
          "name": "stdout",
          "text": [
            "已存檔: /content/drive/MyDrive/Baseball Movies/Yu_Darvish_FF_videos_4S/baseball_trajectory/pitch_0144_baseball_trajectory_with_description.pkl\n",
            "處理影片: pitch_0145.mp4\n"
          ]
        },
        {
          "output_type": "stream",
          "name": "stderr",
          "text": [
            "\r 72%|███████▎  | 145/200 [25:19<09:40, 10.56s/it]"
          ]
        },
        {
          "output_type": "stream",
          "name": "stdout",
          "text": [
            "已存檔: /content/drive/MyDrive/Baseball Movies/Yu_Darvish_FF_videos_4S/baseball_trajectory/pitch_0145_baseball_trajectory_with_description.pkl\n",
            "處理影片: pitch_0146.mp4\n"
          ]
        },
        {
          "output_type": "stream",
          "name": "stderr",
          "text": [
            "\r 73%|███████▎  | 146/200 [25:30<09:27, 10.52s/it]"
          ]
        },
        {
          "output_type": "stream",
          "name": "stdout",
          "text": [
            "已存檔: /content/drive/MyDrive/Baseball Movies/Yu_Darvish_FF_videos_4S/baseball_trajectory/pitch_0146_baseball_trajectory_with_description.pkl\n",
            "處理影片: pitch_0147.mp4\n"
          ]
        },
        {
          "output_type": "stream",
          "name": "stderr",
          "text": [
            "\r 74%|███████▎  | 147/200 [25:40<09:17, 10.52s/it]"
          ]
        },
        {
          "output_type": "stream",
          "name": "stdout",
          "text": [
            "已存檔: /content/drive/MyDrive/Baseball Movies/Yu_Darvish_FF_videos_4S/baseball_trajectory/pitch_0147_baseball_trajectory_with_description.pkl\n",
            "處理影片: pitch_0148.mp4\n"
          ]
        },
        {
          "output_type": "stream",
          "name": "stderr",
          "text": [
            "\r 74%|███████▍  | 148/200 [25:51<09:08, 10.55s/it]"
          ]
        },
        {
          "output_type": "stream",
          "name": "stdout",
          "text": [
            "已存檔: /content/drive/MyDrive/Baseball Movies/Yu_Darvish_FF_videos_4S/baseball_trajectory/pitch_0148_baseball_trajectory_with_description.pkl\n",
            "處理影片: pitch_0149.mp4\n"
          ]
        },
        {
          "output_type": "stream",
          "name": "stderr",
          "text": [
            "\r 74%|███████▍  | 149/200 [26:01<08:57, 10.54s/it]"
          ]
        },
        {
          "output_type": "stream",
          "name": "stdout",
          "text": [
            "已存檔: /content/drive/MyDrive/Baseball Movies/Yu_Darvish_FF_videos_4S/baseball_trajectory/pitch_0149_baseball_trajectory_with_description.pkl\n",
            "處理影片: pitch_0150.mp4\n"
          ]
        },
        {
          "output_type": "stream",
          "name": "stderr",
          "text": [
            "\r 75%|███████▌  | 150/200 [26:12<08:47, 10.55s/it]"
          ]
        },
        {
          "output_type": "stream",
          "name": "stdout",
          "text": [
            "已存檔: /content/drive/MyDrive/Baseball Movies/Yu_Darvish_FF_videos_4S/baseball_trajectory/pitch_0150_baseball_trajectory_with_description.pkl\n",
            "處理影片: pitch_0151.mp4\n"
          ]
        },
        {
          "output_type": "stream",
          "name": "stderr",
          "text": [
            "\r 76%|███████▌  | 151/200 [26:22<08:37, 10.56s/it]"
          ]
        },
        {
          "output_type": "stream",
          "name": "stdout",
          "text": [
            "已存檔: /content/drive/MyDrive/Baseball Movies/Yu_Darvish_FF_videos_4S/baseball_trajectory/pitch_0151_baseball_trajectory_with_description.pkl\n",
            "處理影片: pitch_0152.mp4\n"
          ]
        },
        {
          "output_type": "stream",
          "name": "stderr",
          "text": [
            "\r 76%|███████▌  | 152/200 [26:33<08:24, 10.52s/it]"
          ]
        },
        {
          "output_type": "stream",
          "name": "stdout",
          "text": [
            "已存檔: /content/drive/MyDrive/Baseball Movies/Yu_Darvish_FF_videos_4S/baseball_trajectory/pitch_0152_baseball_trajectory_with_description.pkl\n",
            "處理影片: pitch_0153.mp4\n"
          ]
        },
        {
          "output_type": "stream",
          "name": "stderr",
          "text": [
            "\r 76%|███████▋  | 153/200 [26:43<08:15, 10.54s/it]"
          ]
        },
        {
          "output_type": "stream",
          "name": "stdout",
          "text": [
            "已存檔: /content/drive/MyDrive/Baseball Movies/Yu_Darvish_FF_videos_4S/baseball_trajectory/pitch_0153_baseball_trajectory_with_description.pkl\n",
            "處理影片: pitch_0154.mp4\n"
          ]
        },
        {
          "output_type": "stream",
          "name": "stderr",
          "text": [
            "\r 77%|███████▋  | 154/200 [26:54<08:05, 10.55s/it]"
          ]
        },
        {
          "output_type": "stream",
          "name": "stdout",
          "text": [
            "已存檔: /content/drive/MyDrive/Baseball Movies/Yu_Darvish_FF_videos_4S/baseball_trajectory/pitch_0154_baseball_trajectory_with_description.pkl\n",
            "處理影片: pitch_0155.mp4\n"
          ]
        },
        {
          "output_type": "stream",
          "name": "stderr",
          "text": [
            "\r 78%|███████▊  | 155/200 [27:05<07:54, 10.54s/it]"
          ]
        },
        {
          "output_type": "stream",
          "name": "stdout",
          "text": [
            "已存檔: /content/drive/MyDrive/Baseball Movies/Yu_Darvish_FF_videos_4S/baseball_trajectory/pitch_0155_baseball_trajectory_with_description.pkl\n",
            "處理影片: pitch_0156.mp4\n"
          ]
        },
        {
          "output_type": "stream",
          "name": "stderr",
          "text": [
            "\r 78%|███████▊  | 156/200 [27:15<07:44, 10.55s/it]"
          ]
        },
        {
          "output_type": "stream",
          "name": "stdout",
          "text": [
            "已存檔: /content/drive/MyDrive/Baseball Movies/Yu_Darvish_FF_videos_4S/baseball_trajectory/pitch_0156_baseball_trajectory_with_description.pkl\n",
            "處理影片: pitch_0157.mp4\n"
          ]
        },
        {
          "output_type": "stream",
          "name": "stderr",
          "text": [
            "\r 78%|███████▊  | 157/200 [27:25<07:31, 10.50s/it]"
          ]
        },
        {
          "output_type": "stream",
          "name": "stdout",
          "text": [
            "已存檔: /content/drive/MyDrive/Baseball Movies/Yu_Darvish_FF_videos_4S/baseball_trajectory/pitch_0157_baseball_trajectory_with_description.pkl\n",
            "處理影片: pitch_0158.mp4\n"
          ]
        },
        {
          "output_type": "stream",
          "name": "stderr",
          "text": [
            "\r 79%|███████▉  | 158/200 [27:36<07:26, 10.63s/it]"
          ]
        },
        {
          "output_type": "stream",
          "name": "stdout",
          "text": [
            "已存檔: /content/drive/MyDrive/Baseball Movies/Yu_Darvish_FF_videos_4S/baseball_trajectory/pitch_0158_baseball_trajectory_with_description.pkl\n",
            "處理影片: pitch_0159.mp4\n"
          ]
        },
        {
          "output_type": "stream",
          "name": "stderr",
          "text": [
            "\r 80%|███████▉  | 159/200 [27:47<07:14, 10.60s/it]"
          ]
        },
        {
          "output_type": "stream",
          "name": "stdout",
          "text": [
            "已存檔: /content/drive/MyDrive/Baseball Movies/Yu_Darvish_FF_videos_4S/baseball_trajectory/pitch_0159_baseball_trajectory_with_description.pkl\n",
            "處理影片: pitch_0160.mp4\n"
          ]
        },
        {
          "output_type": "stream",
          "name": "stderr",
          "text": [
            "\r 80%|████████  | 160/200 [27:57<07:02, 10.57s/it]"
          ]
        },
        {
          "output_type": "stream",
          "name": "stdout",
          "text": [
            "已存檔: /content/drive/MyDrive/Baseball Movies/Yu_Darvish_FF_videos_4S/baseball_trajectory/pitch_0160_baseball_trajectory_with_description.pkl\n",
            "處理影片: pitch_0161.mp4\n"
          ]
        },
        {
          "output_type": "stream",
          "name": "stderr",
          "text": [
            "\r 80%|████████  | 161/200 [28:08<06:50, 10.54s/it]"
          ]
        },
        {
          "output_type": "stream",
          "name": "stdout",
          "text": [
            "已存檔: /content/drive/MyDrive/Baseball Movies/Yu_Darvish_FF_videos_4S/baseball_trajectory/pitch_0161_baseball_trajectory_with_description.pkl\n",
            "處理影片: pitch_0162.mp4\n"
          ]
        },
        {
          "output_type": "stream",
          "name": "stderr",
          "text": [
            "\r 81%|████████  | 162/200 [28:18<06:40, 10.53s/it]"
          ]
        },
        {
          "output_type": "stream",
          "name": "stdout",
          "text": [
            "已存檔: /content/drive/MyDrive/Baseball Movies/Yu_Darvish_FF_videos_4S/baseball_trajectory/pitch_0162_baseball_trajectory_with_description.pkl\n",
            "處理影片: pitch_0163.mp4\n"
          ]
        },
        {
          "output_type": "stream",
          "name": "stderr",
          "text": [
            "\r 82%|████████▏ | 163/200 [28:29<06:30, 10.55s/it]"
          ]
        },
        {
          "output_type": "stream",
          "name": "stdout",
          "text": [
            "已存檔: /content/drive/MyDrive/Baseball Movies/Yu_Darvish_FF_videos_4S/baseball_trajectory/pitch_0163_baseball_trajectory_with_description.pkl\n",
            "處理影片: pitch_0164.mp4\n"
          ]
        },
        {
          "output_type": "stream",
          "name": "stderr",
          "text": [
            "\r 82%|████████▏ | 164/200 [28:40<06:19, 10.55s/it]"
          ]
        },
        {
          "output_type": "stream",
          "name": "stdout",
          "text": [
            "已存檔: /content/drive/MyDrive/Baseball Movies/Yu_Darvish_FF_videos_4S/baseball_trajectory/pitch_0164_baseball_trajectory_with_description.pkl\n",
            "處理影片: pitch_0165.mp4\n"
          ]
        },
        {
          "output_type": "stream",
          "name": "stderr",
          "text": [
            "\r 82%|████████▎ | 165/200 [28:50<06:09, 10.56s/it]"
          ]
        },
        {
          "output_type": "stream",
          "name": "stdout",
          "text": [
            "已存檔: /content/drive/MyDrive/Baseball Movies/Yu_Darvish_FF_videos_4S/baseball_trajectory/pitch_0165_baseball_trajectory_with_description.pkl\n",
            "處理影片: pitch_0166.mp4\n"
          ]
        },
        {
          "output_type": "stream",
          "name": "stderr",
          "text": [
            "\r 83%|████████▎ | 166/200 [29:01<05:57, 10.53s/it]"
          ]
        },
        {
          "output_type": "stream",
          "name": "stdout",
          "text": [
            "已存檔: /content/drive/MyDrive/Baseball Movies/Yu_Darvish_FF_videos_4S/baseball_trajectory/pitch_0166_baseball_trajectory_with_description.pkl\n",
            "處理影片: pitch_0167.mp4\n"
          ]
        },
        {
          "output_type": "stream",
          "name": "stderr",
          "text": [
            "\r 84%|████████▎ | 167/200 [29:11<05:46, 10.51s/it]"
          ]
        },
        {
          "output_type": "stream",
          "name": "stdout",
          "text": [
            "已存檔: /content/drive/MyDrive/Baseball Movies/Yu_Darvish_FF_videos_4S/baseball_trajectory/pitch_0167_baseball_trajectory_with_description.pkl\n",
            "處理影片: pitch_0168.mp4\n"
          ]
        },
        {
          "output_type": "stream",
          "name": "stderr",
          "text": [
            "\r 84%|████████▍ | 168/200 [29:22<05:37, 10.54s/it]"
          ]
        },
        {
          "output_type": "stream",
          "name": "stdout",
          "text": [
            "已存檔: /content/drive/MyDrive/Baseball Movies/Yu_Darvish_FF_videos_4S/baseball_trajectory/pitch_0168_baseball_trajectory_with_description.pkl\n",
            "處理影片: pitch_0169.mp4\n"
          ]
        },
        {
          "output_type": "stream",
          "name": "stderr",
          "text": [
            "\r 84%|████████▍ | 169/200 [29:32<05:26, 10.53s/it]"
          ]
        },
        {
          "output_type": "stream",
          "name": "stdout",
          "text": [
            "已存檔: /content/drive/MyDrive/Baseball Movies/Yu_Darvish_FF_videos_4S/baseball_trajectory/pitch_0169_baseball_trajectory_with_description.pkl\n",
            "處理影片: pitch_0170.mp4\n"
          ]
        },
        {
          "output_type": "stream",
          "name": "stderr",
          "text": [
            "\r 85%|████████▌ | 170/200 [29:43<05:16, 10.55s/it]"
          ]
        },
        {
          "output_type": "stream",
          "name": "stdout",
          "text": [
            "已存檔: /content/drive/MyDrive/Baseball Movies/Yu_Darvish_FF_videos_4S/baseball_trajectory/pitch_0170_baseball_trajectory_with_description.pkl\n",
            "處理影片: pitch_0171.mp4\n"
          ]
        },
        {
          "output_type": "stream",
          "name": "stderr",
          "text": [
            "\r 86%|████████▌ | 171/200 [29:53<05:04, 10.52s/it]"
          ]
        },
        {
          "output_type": "stream",
          "name": "stdout",
          "text": [
            "已存檔: /content/drive/MyDrive/Baseball Movies/Yu_Darvish_FF_videos_4S/baseball_trajectory/pitch_0171_baseball_trajectory_with_description.pkl\n",
            "處理影片: pitch_0172.mp4\n"
          ]
        },
        {
          "output_type": "stream",
          "name": "stderr",
          "text": [
            "\r 86%|████████▌ | 172/200 [30:04<04:53, 10.49s/it]"
          ]
        },
        {
          "output_type": "stream",
          "name": "stdout",
          "text": [
            "已存檔: /content/drive/MyDrive/Baseball Movies/Yu_Darvish_FF_videos_4S/baseball_trajectory/pitch_0172_baseball_trajectory_with_description.pkl\n",
            "處理影片: pitch_0173.mp4\n"
          ]
        },
        {
          "output_type": "stream",
          "name": "stderr",
          "text": [
            "\r 86%|████████▋ | 173/200 [30:14<04:43, 10.50s/it]"
          ]
        },
        {
          "output_type": "stream",
          "name": "stdout",
          "text": [
            "已存檔: /content/drive/MyDrive/Baseball Movies/Yu_Darvish_FF_videos_4S/baseball_trajectory/pitch_0173_baseball_trajectory_with_description.pkl\n",
            "處理影片: pitch_0174.mp4\n"
          ]
        },
        {
          "output_type": "stream",
          "name": "stderr",
          "text": [
            "\r 87%|████████▋ | 174/200 [30:25<04:32, 10.49s/it]"
          ]
        },
        {
          "output_type": "stream",
          "name": "stdout",
          "text": [
            "已存檔: /content/drive/MyDrive/Baseball Movies/Yu_Darvish_FF_videos_4S/baseball_trajectory/pitch_0174_baseball_trajectory_with_description.pkl\n",
            "處理影片: pitch_0175.mp4\n"
          ]
        },
        {
          "output_type": "stream",
          "name": "stderr",
          "text": [
            "\r 88%|████████▊ | 175/200 [30:35<04:22, 10.51s/it]"
          ]
        },
        {
          "output_type": "stream",
          "name": "stdout",
          "text": [
            "已存檔: /content/drive/MyDrive/Baseball Movies/Yu_Darvish_FF_videos_4S/baseball_trajectory/pitch_0175_baseball_trajectory_with_description.pkl\n",
            "處理影片: pitch_0176.mp4\n"
          ]
        },
        {
          "output_type": "stream",
          "name": "stderr",
          "text": [
            "\r 88%|████████▊ | 176/200 [30:46<04:11, 10.49s/it]"
          ]
        },
        {
          "output_type": "stream",
          "name": "stdout",
          "text": [
            "已存檔: /content/drive/MyDrive/Baseball Movies/Yu_Darvish_FF_videos_4S/baseball_trajectory/pitch_0176_baseball_trajectory_with_description.pkl\n",
            "處理影片: pitch_0177.mp4\n"
          ]
        },
        {
          "output_type": "stream",
          "name": "stderr",
          "text": [
            "\r 88%|████████▊ | 177/200 [30:56<04:01, 10.51s/it]"
          ]
        },
        {
          "output_type": "stream",
          "name": "stdout",
          "text": [
            "已存檔: /content/drive/MyDrive/Baseball Movies/Yu_Darvish_FF_videos_4S/baseball_trajectory/pitch_0177_baseball_trajectory_with_description.pkl\n",
            "處理影片: pitch_0178.mp4\n"
          ]
        },
        {
          "output_type": "stream",
          "name": "stderr",
          "text": [
            "\r 89%|████████▉ | 178/200 [31:07<03:51, 10.51s/it]"
          ]
        },
        {
          "output_type": "stream",
          "name": "stdout",
          "text": [
            "已存檔: /content/drive/MyDrive/Baseball Movies/Yu_Darvish_FF_videos_4S/baseball_trajectory/pitch_0178_baseball_trajectory_with_description.pkl\n",
            "處理影片: pitch_0179.mp4\n"
          ]
        },
        {
          "output_type": "stream",
          "name": "stderr",
          "text": [
            "\r 90%|████████▉ | 179/200 [31:17<03:41, 10.55s/it]"
          ]
        },
        {
          "output_type": "stream",
          "name": "stdout",
          "text": [
            "已存檔: /content/drive/MyDrive/Baseball Movies/Yu_Darvish_FF_videos_4S/baseball_trajectory/pitch_0179_baseball_trajectory_with_description.pkl\n",
            "處理影片: pitch_0180.mp4\n"
          ]
        },
        {
          "output_type": "stream",
          "name": "stderr",
          "text": [
            "\r 90%|█████████ | 180/200 [31:28<03:31, 10.56s/it]"
          ]
        },
        {
          "output_type": "stream",
          "name": "stdout",
          "text": [
            "已存檔: /content/drive/MyDrive/Baseball Movies/Yu_Darvish_FF_videos_4S/baseball_trajectory/pitch_0180_baseball_trajectory_with_description.pkl\n",
            "處理影片: pitch_0181.mp4\n"
          ]
        },
        {
          "output_type": "stream",
          "name": "stderr",
          "text": [
            "\r 90%|█████████ | 181/200 [31:38<03:19, 10.51s/it]"
          ]
        },
        {
          "output_type": "stream",
          "name": "stdout",
          "text": [
            "已存檔: /content/drive/MyDrive/Baseball Movies/Yu_Darvish_FF_videos_4S/baseball_trajectory/pitch_0181_baseball_trajectory_with_description.pkl\n",
            "處理影片: pitch_0182.mp4\n"
          ]
        },
        {
          "output_type": "stream",
          "name": "stderr",
          "text": [
            "\r 91%|█████████ | 182/200 [31:49<03:09, 10.54s/it]"
          ]
        },
        {
          "output_type": "stream",
          "name": "stdout",
          "text": [
            "已存檔: /content/drive/MyDrive/Baseball Movies/Yu_Darvish_FF_videos_4S/baseball_trajectory/pitch_0182_baseball_trajectory_with_description.pkl\n",
            "處理影片: pitch_0183.mp4\n"
          ]
        },
        {
          "output_type": "stream",
          "name": "stderr",
          "text": [
            "\r 92%|█████████▏| 183/200 [31:59<02:59, 10.54s/it]"
          ]
        },
        {
          "output_type": "stream",
          "name": "stdout",
          "text": [
            "已存檔: /content/drive/MyDrive/Baseball Movies/Yu_Darvish_FF_videos_4S/baseball_trajectory/pitch_0183_baseball_trajectory_with_description.pkl\n",
            "處理影片: pitch_0184.mp4\n"
          ]
        },
        {
          "output_type": "stream",
          "name": "stderr",
          "text": [
            "\r 92%|█████████▏| 184/200 [32:10<02:48, 10.56s/it]"
          ]
        },
        {
          "output_type": "stream",
          "name": "stdout",
          "text": [
            "已存檔: /content/drive/MyDrive/Baseball Movies/Yu_Darvish_FF_videos_4S/baseball_trajectory/pitch_0184_baseball_trajectory_with_description.pkl\n",
            "處理影片: pitch_0185.mp4\n"
          ]
        },
        {
          "output_type": "stream",
          "name": "stderr",
          "text": [
            "\r 92%|█████████▎| 185/200 [32:21<02:38, 10.57s/it]"
          ]
        },
        {
          "output_type": "stream",
          "name": "stdout",
          "text": [
            "已存檔: /content/drive/MyDrive/Baseball Movies/Yu_Darvish_FF_videos_4S/baseball_trajectory/pitch_0185_baseball_trajectory_with_description.pkl\n",
            "處理影片: pitch_0186.mp4\n"
          ]
        },
        {
          "output_type": "stream",
          "name": "stderr",
          "text": [
            "\r 93%|█████████▎| 186/200 [32:31<02:27, 10.54s/it]"
          ]
        },
        {
          "output_type": "stream",
          "name": "stdout",
          "text": [
            "已存檔: /content/drive/MyDrive/Baseball Movies/Yu_Darvish_FF_videos_4S/baseball_trajectory/pitch_0186_baseball_trajectory_with_description.pkl\n",
            "處理影片: pitch_0187.mp4\n"
          ]
        },
        {
          "output_type": "stream",
          "name": "stderr",
          "text": [
            "\r 94%|█████████▎| 187/200 [32:42<02:17, 10.55s/it]"
          ]
        },
        {
          "output_type": "stream",
          "name": "stdout",
          "text": [
            "已存檔: /content/drive/MyDrive/Baseball Movies/Yu_Darvish_FF_videos_4S/baseball_trajectory/pitch_0187_baseball_trajectory_with_description.pkl\n",
            "處理影片: pitch_0188.mp4\n"
          ]
        },
        {
          "output_type": "stream",
          "name": "stderr",
          "text": [
            "\r 94%|█████████▍| 188/200 [32:52<02:06, 10.57s/it]"
          ]
        },
        {
          "output_type": "stream",
          "name": "stdout",
          "text": [
            "已存檔: /content/drive/MyDrive/Baseball Movies/Yu_Darvish_FF_videos_4S/baseball_trajectory/pitch_0188_baseball_trajectory_with_description.pkl\n",
            "處理影片: pitch_0189.mp4\n"
          ]
        },
        {
          "output_type": "stream",
          "name": "stderr",
          "text": [
            "\r 94%|█████████▍| 189/200 [33:03<01:56, 10.58s/it]"
          ]
        },
        {
          "output_type": "stream",
          "name": "stdout",
          "text": [
            "已存檔: /content/drive/MyDrive/Baseball Movies/Yu_Darvish_FF_videos_4S/baseball_trajectory/pitch_0189_baseball_trajectory_with_description.pkl\n",
            "處理影片: pitch_0190.mp4\n"
          ]
        },
        {
          "output_type": "stream",
          "name": "stderr",
          "text": [
            "\r 95%|█████████▌| 190/200 [33:14<01:45, 10.60s/it]"
          ]
        },
        {
          "output_type": "stream",
          "name": "stdout",
          "text": [
            "已存檔: /content/drive/MyDrive/Baseball Movies/Yu_Darvish_FF_videos_4S/baseball_trajectory/pitch_0190_baseball_trajectory_with_description.pkl\n",
            "處理影片: pitch_0191.mp4\n"
          ]
        },
        {
          "output_type": "stream",
          "name": "stderr",
          "text": [
            "\r 96%|█████████▌| 191/200 [33:24<01:34, 10.55s/it]"
          ]
        },
        {
          "output_type": "stream",
          "name": "stdout",
          "text": [
            "已存檔: /content/drive/MyDrive/Baseball Movies/Yu_Darvish_FF_videos_4S/baseball_trajectory/pitch_0191_baseball_trajectory_with_description.pkl\n",
            "處理影片: pitch_0192.mp4\n"
          ]
        },
        {
          "output_type": "stream",
          "name": "stderr",
          "text": [
            "\r 96%|█████████▌| 192/200 [33:35<01:24, 10.56s/it]"
          ]
        },
        {
          "output_type": "stream",
          "name": "stdout",
          "text": [
            "已存檔: /content/drive/MyDrive/Baseball Movies/Yu_Darvish_FF_videos_4S/baseball_trajectory/pitch_0192_baseball_trajectory_with_description.pkl\n",
            "處理影片: pitch_0193.mp4\n"
          ]
        },
        {
          "output_type": "stream",
          "name": "stderr",
          "text": [
            "\r 96%|█████████▋| 193/200 [33:45<01:13, 10.55s/it]"
          ]
        },
        {
          "output_type": "stream",
          "name": "stdout",
          "text": [
            "已存檔: /content/drive/MyDrive/Baseball Movies/Yu_Darvish_FF_videos_4S/baseball_trajectory/pitch_0193_baseball_trajectory_with_description.pkl\n",
            "處理影片: pitch_0194.mp4\n"
          ]
        },
        {
          "output_type": "stream",
          "name": "stderr",
          "text": [
            "\r 97%|█████████▋| 194/200 [33:56<01:03, 10.55s/it]"
          ]
        },
        {
          "output_type": "stream",
          "name": "stdout",
          "text": [
            "已存檔: /content/drive/MyDrive/Baseball Movies/Yu_Darvish_FF_videos_4S/baseball_trajectory/pitch_0194_baseball_trajectory_with_description.pkl\n",
            "處理影片: pitch_0195.mp4\n"
          ]
        },
        {
          "output_type": "stream",
          "name": "stderr",
          "text": [
            "\r 98%|█████████▊| 195/200 [34:06<00:52, 10.56s/it]"
          ]
        },
        {
          "output_type": "stream",
          "name": "stdout",
          "text": [
            "已存檔: /content/drive/MyDrive/Baseball Movies/Yu_Darvish_FF_videos_4S/baseball_trajectory/pitch_0195_baseball_trajectory_with_description.pkl\n",
            "處理影片: pitch_0196.mp4\n"
          ]
        },
        {
          "output_type": "stream",
          "name": "stderr",
          "text": [
            "\r 98%|█████████▊| 196/200 [34:17<00:42, 10.52s/it]"
          ]
        },
        {
          "output_type": "stream",
          "name": "stdout",
          "text": [
            "已存檔: /content/drive/MyDrive/Baseball Movies/Yu_Darvish_FF_videos_4S/baseball_trajectory/pitch_0196_baseball_trajectory_with_description.pkl\n",
            "處理影片: pitch_0197.mp4\n"
          ]
        },
        {
          "output_type": "stream",
          "name": "stderr",
          "text": [
            "\r 98%|█████████▊| 197/200 [34:27<00:31, 10.53s/it]"
          ]
        },
        {
          "output_type": "stream",
          "name": "stdout",
          "text": [
            "已存檔: /content/drive/MyDrive/Baseball Movies/Yu_Darvish_FF_videos_4S/baseball_trajectory/pitch_0197_baseball_trajectory_with_description.pkl\n",
            "處理影片: pitch_0198.mp4\n"
          ]
        },
        {
          "output_type": "stream",
          "name": "stderr",
          "text": [
            "\r 99%|█████████▉| 198/200 [34:38<00:21, 10.52s/it]"
          ]
        },
        {
          "output_type": "stream",
          "name": "stdout",
          "text": [
            "已存檔: /content/drive/MyDrive/Baseball Movies/Yu_Darvish_FF_videos_4S/baseball_trajectory/pitch_0198_baseball_trajectory_with_description.pkl\n",
            "處理影片: pitch_0199.mp4\n"
          ]
        },
        {
          "output_type": "stream",
          "name": "stderr",
          "text": [
            "\r100%|█████████▉| 199/200 [34:48<00:10, 10.51s/it]"
          ]
        },
        {
          "output_type": "stream",
          "name": "stdout",
          "text": [
            "已存檔: /content/drive/MyDrive/Baseball Movies/Yu_Darvish_FF_videos_4S/baseball_trajectory/pitch_0199_baseball_trajectory_with_description.pkl\n",
            "處理影片: pitch_0200.mp4\n"
          ]
        },
        {
          "output_type": "stream",
          "name": "stderr",
          "text": [
            "100%|██████████| 200/200 [34:59<00:00, 10.50s/it]"
          ]
        },
        {
          "output_type": "stream",
          "name": "stdout",
          "text": [
            "已存檔: /content/drive/MyDrive/Baseball Movies/Yu_Darvish_FF_videos_4S/baseball_trajectory/pitch_0200_baseball_trajectory_with_description.pkl\n",
            "總共處理影片數: 200\n"
          ]
        },
        {
          "output_type": "stream",
          "name": "stderr",
          "text": [
            "\n"
          ]
        }
      ]
    },
    {
      "cell_type": "code",
      "source": [],
      "metadata": {
        "id": "JqYhYHnNj8kw"
      },
      "execution_count": null,
      "outputs": []
    },
    {
      "cell_type": "code",
      "source": [],
      "metadata": {
        "id": "Hv2GNiG1j8nx"
      },
      "execution_count": null,
      "outputs": []
    }
  ]
}