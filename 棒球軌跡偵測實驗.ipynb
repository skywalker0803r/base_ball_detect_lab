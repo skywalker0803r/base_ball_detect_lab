{
  "nbformat": 4,
  "nbformat_minor": 0,
  "metadata": {
    "colab": {
      "provenance": [],
      "gpuType": "T4"
    },
    "kernelspec": {
      "name": "python3",
      "display_name": "Python 3"
    },
    "language_info": {
      "name": "python"
    },
    "accelerator": "GPU"
  },
  "cells": [
    {
      "cell_type": "code",
      "execution_count": 16,
      "metadata": {
        "id": "22NOVOVIWi0I",
        "colab": {
          "base_uri": "https://localhost:8080/"
        },
        "outputId": "faca28e7-b21b-4add-bc40-359232bcd92e"
      },
      "outputs": [
        {
          "output_type": "stream",
          "name": "stdout",
          "text": [
            "2025-06-21 19:25:21,932 - LoadTools - INFO - Model found at models/od/YOLO/ball_tracking/model_weights/ball_tracking.pt\n"
          ]
        },
        {
          "output_type": "stream",
          "name": "stderr",
          "text": [
            "INFO:LoadTools:Model found at models/od/YOLO/ball_tracking/model_weights/ball_tracking.pt\n"
          ]
        }
      ],
      "source": [
        "#!pip install baseballcv ultralytics\n",
        "import cv2\n",
        "from ultralytics import YOLO\n",
        "from baseballcv.functions import LoadTools\n",
        "from tqdm import tqdm\n",
        "import cv2\n",
        "\n",
        "def predict_pitch_boxes_from_video_batch(video_path, batch_size=16):\n",
        "    # 載入模型\n",
        "    load_tools = LoadTools()\n",
        "    model_path = load_tools.load_model(\"ball_tracking\")\n",
        "    model = YOLO(model_path)\n",
        "\n",
        "    cap = cv2.VideoCapture(video_path)\n",
        "    frame_idx = 0\n",
        "    box_results = []\n",
        "\n",
        "    batch_frames = []\n",
        "    frame_indices = []\n",
        "\n",
        "    while cap.isOpened():\n",
        "        ret, frame = cap.read()\n",
        "        if not ret:\n",
        "            break\n",
        "\n",
        "        batch_frames.append(frame)\n",
        "        frame_indices.append(frame_idx)\n",
        "        frame_idx += 1\n",
        "\n",
        "        # 每 batch_size 張推一次\n",
        "        if len(batch_frames) == batch_size:\n",
        "            results = model.predict(source=batch_frames, imgsz=640, device='cuda:0', verbose=False)\n",
        "\n",
        "            for idx, result in enumerate(results):\n",
        "                boxes = result.boxes\n",
        "                if boxes is not None and len(boxes) > 0:\n",
        "                    best_box = boxes[0]\n",
        "                    x1, y1, x2, y2 = best_box.xyxy[0].tolist()\n",
        "                    box_results.append((frame_indices[idx], (x1, y1, x2, y2)))\n",
        "                else:\n",
        "                    box_results.append((frame_indices[idx], None))\n",
        "\n",
        "            batch_frames = []\n",
        "            frame_indices = []\n",
        "\n",
        "    # 處理最後不足 batch_size 的幀\n",
        "    if batch_frames:\n",
        "        results = model.predict(source=batch_frames, imgsz=640, device='cuda:0', verbose=False)\n",
        "        for idx, result in enumerate(results):\n",
        "            boxes = result.boxes\n",
        "            if boxes is not None and len(boxes) > 0:\n",
        "                best_box = boxes[0]\n",
        "                x1, y1, x2, y2 = best_box.xyxy[0].tolist()\n",
        "                box_results.append((frame_indices[idx], (x1, y1, x2, y2)))\n",
        "            else:\n",
        "                box_results.append((frame_indices[idx], None))\n",
        "\n",
        "    cap.release()\n",
        "    return box_results\n",
        "\n",
        "def draw_boxes_on_video_batch(input_path, output_path, box_results, batch_size=16):\n",
        "    cap = cv2.VideoCapture(input_path)\n",
        "    width = int(cap.get(cv2.CAP_PROP_FRAME_WIDTH))\n",
        "    height = int(cap.get(cv2.CAP_PROP_FRAME_HEIGHT))\n",
        "    fps = cap.get(cv2.CAP_PROP_FPS)\n",
        "\n",
        "    fourcc = cv2.VideoWriter_fourcc(*\"mp4v\")\n",
        "    out = cv2.VideoWriter(output_path, fourcc, fps, (width, height))\n",
        "\n",
        "    total_frames = int(cap.get(cv2.CAP_PROP_FRAME_COUNT))\n",
        "    frame_idx = 0\n",
        "\n",
        "    while frame_idx < total_frames:\n",
        "        frames_batch = []\n",
        "        indices_batch = []\n",
        "\n",
        "        # 批次讀取 batch_size 幀\n",
        "        for _ in range(batch_size):\n",
        "            ret, frame = cap.read()\n",
        "            if not ret:\n",
        "                break\n",
        "            frames_batch.append(frame)\n",
        "            indices_batch.append(frame_idx)\n",
        "            frame_idx += 1\n",
        "\n",
        "        # 批次畫框\n",
        "        for i, frame in enumerate(frames_batch):\n",
        "            if indices_batch[i] < len(box_results):\n",
        "                _, box = box_results[indices_batch[i]]\n",
        "                if box is not None:\n",
        "                    x1, y1, x2, y2 = map(int, box)\n",
        "                    cv2.rectangle(frame, (x1, y1), (x2, y2), (0, 255, 0), 2)\n",
        "            out.write(frame)\n",
        "\n",
        "    cap.release()\n",
        "    out.release()\n",
        "boxes = predict_pitch_boxes_from_video_batch(\"/content/drive/MyDrive/Baseball Movies/CH_videos_4s/pitch_0001.mp4\")\n",
        "draw_boxes_on_video_batch(\"/content/drive/MyDrive/Baseball Movies/CH_videos_4s/pitch_0001.mp4\", \"output_with_boxes.mp4\", boxes)"
      ]
    }
  ]
}